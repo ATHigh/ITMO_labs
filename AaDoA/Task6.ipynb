{
 "cells": [
  {
   "cell_type": "markdown",
   "metadata": {
    "collapsed": true,
    "pycharm": {
     "name": "#%% md\n"
    }
   },
   "source": [
    "# Import libraries"
   ]
  },
  {
   "cell_type": "code",
   "execution_count": 8,
   "outputs": [],
   "source": [
    "import numpy as np\n",
    "import matplotlib.pyplot as plt\n",
    "import networkx as nx\n",
    "from collections import defaultdict\n",
    "import timeit\n",
    "from tqdm import tqdm\n",
    "from scipy.sparse.csgraph import dijkstra\n",
    "from scipy.sparse.csgraph import bellman_ford"
   ],
   "metadata": {
    "collapsed": false,
    "pycharm": {
     "name": "#%%\n"
    }
   }
  },
  {
   "cell_type": "markdown",
   "source": [
    "# Formulation of the problem and methods\n",
    "### I.\tGenerate a random adjacency matrix for a simple undirected weighted graph of 100 vertices and 500 edges with assigned random positive integer weights (note that the matrix should be symmetric and contain only 0s and weights as elements). Use Dijkstra's and Bellman-Ford algorithms to find shortest paths between a random starting vertex and other vertices. Measure the time required to find the paths for each algorithm. Repeat the experiment 10 times for the same starting vertex and calculate the average time required for the paths search of each algorithm. Analyse the results obtained.\n",
    "### II.\tGenerate a 10x20 cell grid with 40 obstacle cells. Choose two random non-obstacle cells and find a shortest path between them using A* algorithm. Repeat the experiment 5 times with different random pair of cells. Analyse the results obtained.\n",
    "### III.\tDescribe the data structures and design techniques used within the algorithms."
   ],
   "metadata": {
    "collapsed": false,
    "pycharm": {
     "name": "#%% md\n"
    }
   }
  },
  {
   "cell_type": "markdown",
   "source": [
    "# Part 1"
   ],
   "metadata": {
    "collapsed": false,
    "pycharm": {
     "name": "#%% md\n"
    }
   }
  },
  {
   "cell_type": "code",
   "execution_count": 9,
   "outputs": [
    {
     "name": "stdout",
     "output_type": "stream",
     "text": [
      "Is matrix symmetric: True \n",
      " Is matrix squared:  (100, 100) \n",
      " Matrix: [[66462 53235 52726 ... 49300 48629 54407]\n",
      " [53235 82032 59600 ... 55453 58467 61249]\n",
      " [52726 59600 76295 ... 57391 55361 59738]\n",
      " ...\n",
      " [49300 55453 57391 ... 81980 52229 60691]\n",
      " [48629 58467 55361 ... 52229 75417 55979]\n",
      " [54407 61249 59738 ... 60691 55979 84906]]\n"
     ]
    }
   ],
   "source": [
    "# Generate a random symmetric adjacency matrix\n",
    "# squared matrix is symmetric if a(i, j) == a(j, i) or M = M^T\n",
    "\n",
    "n_vertices = 100\n",
    "n_edges = 500\n",
    "\n",
    "def make_symmetric_adjency_matrix(n_vertices, n_edges):\n",
    "    matrix = np.random.randint(50, size=(n_vertices, n_vertices))\n",
    "    np.fill_diagonal(matrix, 0)\n",
    "\n",
    "    matrix = np.matmul(matrix, matrix.T)\n",
    "\n",
    "    return matrix\n",
    "\n",
    "adj_matrix = make_symmetric_adjency_matrix(n_vertices, n_edges)\n",
    "print('Is matrix symmetric:', np.array_equal(adj_matrix, adj_matrix.transpose()), '\\n',\n",
    "      'Is matrix squared: ', adj_matrix.shape, '\\n', 'Matrix:', adj_matrix)"
   ],
   "metadata": {
    "collapsed": false,
    "pycharm": {
     "name": "#%%\n"
    }
   }
  },
  {
   "cell_type": "code",
   "execution_count": 10,
   "outputs": [],
   "source": [
    "N = 100\n",
    "V = 500\n",
    "b = np.zeros(shape=(N,N))\n",
    "upper_triangle = np.triu_indices(N,1)\n",
    "\n",
    "indexes = np.arange(0, len(upper_triangle[0]))\n",
    "indexes = np.random.choice(indexes, V, replace=False)\n",
    "\n",
    "for i in indexes:\n",
    "    idx1 = upper_triangle[0][i]\n",
    "    idx2 = upper_triangle[1][i]\n",
    "    b[idx1,idx2] = np.random.randint(0, 100)\n",
    "\n",
    "adj_matrix = (b + b.T)"
   ],
   "metadata": {
    "collapsed": false,
    "pycharm": {
     "name": "#%%\n"
    }
   }
  },
  {
   "cell_type": "code",
   "execution_count": 11,
   "outputs": [],
   "source": [
    "adj_list = defaultdict(list)\n",
    "\n",
    "for i in range(N):\n",
    "    for j in range(N):\n",
    "        adj_list[i].append(j) if adj_matrix[i, j] != 0 else next"
   ],
   "metadata": {
    "collapsed": false,
    "pycharm": {
     "name": "#%%\n"
    }
   }
  },
  {
   "cell_type": "code",
   "execution_count": 18,
   "outputs": [],
   "source": [
    "G = nx.from_numpy_array(adj_matrix)"
   ],
   "metadata": {
    "collapsed": false,
    "pycharm": {
     "name": "#%%\n"
    }
   }
  },
  {
   "cell_type": "code",
   "execution_count": null,
   "outputs": [],
   "source": [],
   "metadata": {
    "collapsed": false,
    "pycharm": {
     "name": "#%%\n"
    }
   }
  },
  {
   "cell_type": "code",
   "execution_count": 19,
   "outputs": [],
   "source": [
    "def get_execution_time(algorithm, G, array):\n",
    "    start_time = timeit.default_timer()\n",
    "\n",
    "    algorithm(G, array[0], array[1])\n",
    "\n",
    "    return timeit.default_timer() - start_time"
   ],
   "metadata": {
    "collapsed": false,
    "pycharm": {
     "name": "#%%\n"
    }
   }
  },
  {
   "cell_type": "code",
   "execution_count": 22,
   "outputs": [],
   "source": [
    "def get_execution_time_array(algorithm, G, array, mean_count=10):\n",
    "    execution_time_summ = 0\n",
    "    for m in range(mean_count):\n",
    "        execution_time_summ += get_execution_time(algorithm, G, array)\n",
    "\n",
    "    execution_time_mean = execution_time_summ / mean_count\n",
    "\n",
    "    return execution_time_mean"
   ],
   "metadata": {
    "collapsed": false,
    "pycharm": {
     "name": "#%%\n"
    }
   }
  },
  {
   "cell_type": "code",
   "execution_count": 28,
   "outputs": [
    {
     "name": "stdout",
     "output_type": "stream",
     "text": [
      "Dijkstra algorithm execution mean time - 0.00039 (between vertices 33 and 31, path - [33, 43, 24, 51, 52, 31]) \n",
      "Bellman-Ford algorithm execution mean time - 0.00057 (between vertices 33 and 31, path - [33, 43, 24, 51, 52, 31])\n"
     ]
    }
   ],
   "source": [
    "array = np.random.randint(0, 100, size=2)\n",
    "dijkstra_mean_time = get_execution_time_array(nx.dijkstra_path, G, array)\n",
    "bellman_ford_mean_time = get_execution_time_array(nx.bellman_ford_path, G, array)\n",
    "print(\"Dijkstra algorithm execution mean time - {:.5f}\".format(dijkstra_mean_time),\n",
    "      f'(between vertices {array[0]} and {array[1]}, path - {nx.dijkstra_path(G, array[0], array[1])})', '\\n'\n",
    "      \"Bellman-Ford algorithm execution mean time - {:.5f}\".format(bellman_ford_mean_time),\n",
    "      f'(between vertices {array[0]} and {array[1]}, path - {nx.bellman_ford_path(G, array[0], array[1])})')"
   ],
   "metadata": {
    "collapsed": false,
    "pycharm": {
     "name": "#%%\n"
    }
   }
  },
  {
   "cell_type": "code",
   "execution_count": null,
   "outputs": [],
   "source": [
    "nx.dijkstra_path"
   ],
   "metadata": {
    "collapsed": false,
    "pycharm": {
     "name": "#%%\n"
    }
   }
  },
  {
   "cell_type": "markdown",
   "source": [
    "# Part 2"
   ],
   "metadata": {
    "collapsed": false,
    "pycharm": {
     "name": "#%% md\n"
    }
   }
  },
  {
   "cell_type": "code",
   "execution_count": null,
   "outputs": [],
   "source": [],
   "metadata": {
    "collapsed": false,
    "pycharm": {
     "name": "#%%\n"
    }
   }
  },
  {
   "cell_type": "markdown",
   "source": [
    "# Conclusion"
   ],
   "metadata": {
    "collapsed": false,
    "pycharm": {
     "name": "#%% md\n"
    }
   }
  },
  {
   "cell_type": "code",
   "execution_count": null,
   "outputs": [],
   "source": [],
   "metadata": {
    "collapsed": false,
    "pycharm": {
     "name": "#%%\n"
    }
   }
  }
 ],
 "metadata": {
  "kernelspec": {
   "display_name": "Python 3",
   "language": "python",
   "name": "python3"
  },
  "language_info": {
   "codemirror_mode": {
    "name": "ipython",
    "version": 2
   },
   "file_extension": ".py",
   "mimetype": "text/x-python",
   "name": "python",
   "nbconvert_exporter": "python",
   "pygments_lexer": "ipython2",
   "version": "2.7.6"
  }
 },
 "nbformat": 4,
 "nbformat_minor": 0
}