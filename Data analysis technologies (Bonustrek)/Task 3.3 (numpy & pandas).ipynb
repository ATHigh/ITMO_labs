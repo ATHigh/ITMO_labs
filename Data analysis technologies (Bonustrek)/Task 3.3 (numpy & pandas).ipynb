{
 "cells": [
  {
   "cell_type": "code",
   "execution_count": 2,
   "metadata": {
    "collapsed": true
   },
   "outputs": [],
   "source": [
    "import pandas as pd"
   ]
  },
  {
   "cell_type": "code",
   "execution_count": 3,
   "outputs": [
    {
     "data": {
      "text/plain": "   PassengerID                                           Name PClass    Age  \\\n0            1                   Allen, Miss Elisabeth Walton    1st  29.00   \n1            2                    Allison, Miss Helen Loraine    1st   2.00   \n2            3            Allison, Mr Hudson Joshua Creighton    1st  30.00   \n3            4  Allison, Mrs Hudson JC (Bessie Waldo Daniels)    1st  25.00   \n4            5                  Allison, Master Hudson Trevor    1st   0.92   \n\n      Sex  Survived  SexCode  \n0  female         1        1  \n1  female         0        1  \n2    male         0        0  \n3  female         0        1  \n4    male         1        0  ",
      "text/html": "<div>\n<style scoped>\n    .dataframe tbody tr th:only-of-type {\n        vertical-align: middle;\n    }\n\n    .dataframe tbody tr th {\n        vertical-align: top;\n    }\n\n    .dataframe thead th {\n        text-align: right;\n    }\n</style>\n<table border=\"1\" class=\"dataframe\">\n  <thead>\n    <tr style=\"text-align: right;\">\n      <th></th>\n      <th>PassengerID</th>\n      <th>Name</th>\n      <th>PClass</th>\n      <th>Age</th>\n      <th>Sex</th>\n      <th>Survived</th>\n      <th>SexCode</th>\n    </tr>\n  </thead>\n  <tbody>\n    <tr>\n      <th>0</th>\n      <td>1</td>\n      <td>Allen, Miss Elisabeth Walton</td>\n      <td>1st</td>\n      <td>29.00</td>\n      <td>female</td>\n      <td>1</td>\n      <td>1</td>\n    </tr>\n    <tr>\n      <th>1</th>\n      <td>2</td>\n      <td>Allison, Miss Helen Loraine</td>\n      <td>1st</td>\n      <td>2.00</td>\n      <td>female</td>\n      <td>0</td>\n      <td>1</td>\n    </tr>\n    <tr>\n      <th>2</th>\n      <td>3</td>\n      <td>Allison, Mr Hudson Joshua Creighton</td>\n      <td>1st</td>\n      <td>30.00</td>\n      <td>male</td>\n      <td>0</td>\n      <td>0</td>\n    </tr>\n    <tr>\n      <th>3</th>\n      <td>4</td>\n      <td>Allison, Mrs Hudson JC (Bessie Waldo Daniels)</td>\n      <td>1st</td>\n      <td>25.00</td>\n      <td>female</td>\n      <td>0</td>\n      <td>1</td>\n    </tr>\n    <tr>\n      <th>4</th>\n      <td>5</td>\n      <td>Allison, Master Hudson Trevor</td>\n      <td>1st</td>\n      <td>0.92</td>\n      <td>male</td>\n      <td>1</td>\n      <td>0</td>\n    </tr>\n  </tbody>\n</table>\n</div>"
     },
     "execution_count": 3,
     "metadata": {},
     "output_type": "execute_result"
    }
   ],
   "source": [
    "data = pd.read_csv('titanic.csv')\n",
    "data.head()"
   ],
   "metadata": {
    "collapsed": false,
    "pycharm": {
     "name": "#%%\n"
    }
   }
  },
  {
   "cell_type": "code",
   "execution_count": 5,
   "outputs": [
    {
     "name": "stdout",
     "output_type": "stream",
     "text": [
      "<class 'pandas.core.frame.DataFrame'>\n",
      "RangeIndex: 1313 entries, 0 to 1312\n",
      "Data columns (total 7 columns):\n",
      " #   Column       Non-Null Count  Dtype  \n",
      "---  ------       --------------  -----  \n",
      " 0   PassengerID  1313 non-null   int64  \n",
      " 1   Name         1313 non-null   object \n",
      " 2   PClass       1313 non-null   object \n",
      " 3   Age          756 non-null    float64\n",
      " 4   Sex          1313 non-null   object \n",
      " 5   Survived     1313 non-null   int64  \n",
      " 6   SexCode      1313 non-null   int64  \n",
      "dtypes: float64(1), int64(3), object(3)\n",
      "memory usage: 71.9+ KB\n"
     ]
    }
   ],
   "source": [
    "data.info()"
   ],
   "metadata": {
    "collapsed": false,
    "pycharm": {
     "name": "#%%\n"
    }
   }
  },
  {
   "cell_type": "code",
   "execution_count": 17,
   "outputs": [
    {
     "name": "stdout",
     "output_type": "stream",
     "text": [
      "Введите среднее значение возраста пассажиров (округлите до целого): 30 \n",
      "\n",
      "Сгруппируйте пассажиров по полу и введите среднее значение возраста пассажиров мужского пола (округлите до целого):Sex\n",
      "female    29.0\n",
      "male      31.0\n",
      "Name: Age, dtype: float64 \n",
      "\n",
      "Введите среднее значение возраста выживших пассажиров женского пола (округлите до целого):Survived\n",
      "0    25.0\n",
      "1    31.0\n",
      "Name: Age, dtype: float64 \n",
      "\n",
      "Отсортируйте пассажиров по возрасту и введите значение 'PClass' у пассажира iloc[514] в этом списке: 2nd\n"
     ]
    }
   ],
   "source": [
    "print(f\"Введите среднее значение возраста пассажиров (округлите до целого): {round(data['Age'].mean())} \\n\")\n",
    "print(f\"Сгруппируйте пассажиров по полу и введите среднее значение возраста пассажиров мужского пола (округлите до целого):\\\n",
    "{round(data['Age'].groupby(data.Sex).mean())} \\n\")\n",
    "\n",
    "print(f\"Введите среднее значение возраста выживших пассажиров женского пола (округлите до целого):\\\n",
    "{round(data['Age'].where(data.Sex == 'female').groupby(data.Survived).mean())} \\n\")\n",
    "\n",
    "print(f\"Отсортируйте пассажиров по возрасту и введите значение 'PClass' у пассажира iloc[514] в этом списке: \\\n",
    "{data.sort_values(by=['Age'])['PClass'].iloc[514]}\")"
   ],
   "metadata": {
    "collapsed": false,
    "pycharm": {
     "name": "#%%\n"
    }
   }
  },
  {
   "cell_type": "code",
   "execution_count": 18,
   "outputs": [
    {
     "data": {
      "text/plain": "          MIP      STDIP      EKIP       SIP        MC       STDC        EKC  \\\n0  140.562500  55.683782 -0.234571 -0.699648  3.199833  19.110426   7.975532   \n1  102.507812  58.882430  0.465318 -0.515088  1.677258  14.860146  10.576487   \n2  103.015625  39.341649  0.323328  1.051164  3.121237  21.744669   7.735822   \n3  136.750000  57.178449 -0.068415 -0.636238  3.642977  20.959280   6.896499   \n4   88.726562  40.672225  0.600866  1.123492  1.178930  11.468720  14.269573   \n\n           SC  TG  \n0   74.242225   0  \n1  127.393580   0  \n2   63.171909   0  \n3   53.593661   0  \n4  252.567306   0  ",
      "text/html": "<div>\n<style scoped>\n    .dataframe tbody tr th:only-of-type {\n        vertical-align: middle;\n    }\n\n    .dataframe tbody tr th {\n        vertical-align: top;\n    }\n\n    .dataframe thead th {\n        text-align: right;\n    }\n</style>\n<table border=\"1\" class=\"dataframe\">\n  <thead>\n    <tr style=\"text-align: right;\">\n      <th></th>\n      <th>MIP</th>\n      <th>STDIP</th>\n      <th>EKIP</th>\n      <th>SIP</th>\n      <th>MC</th>\n      <th>STDC</th>\n      <th>EKC</th>\n      <th>SC</th>\n      <th>TG</th>\n    </tr>\n  </thead>\n  <tbody>\n    <tr>\n      <th>0</th>\n      <td>140.562500</td>\n      <td>55.683782</td>\n      <td>-0.234571</td>\n      <td>-0.699648</td>\n      <td>3.199833</td>\n      <td>19.110426</td>\n      <td>7.975532</td>\n      <td>74.242225</td>\n      <td>0</td>\n    </tr>\n    <tr>\n      <th>1</th>\n      <td>102.507812</td>\n      <td>58.882430</td>\n      <td>0.465318</td>\n      <td>-0.515088</td>\n      <td>1.677258</td>\n      <td>14.860146</td>\n      <td>10.576487</td>\n      <td>127.393580</td>\n      <td>0</td>\n    </tr>\n    <tr>\n      <th>2</th>\n      <td>103.015625</td>\n      <td>39.341649</td>\n      <td>0.323328</td>\n      <td>1.051164</td>\n      <td>3.121237</td>\n      <td>21.744669</td>\n      <td>7.735822</td>\n      <td>63.171909</td>\n      <td>0</td>\n    </tr>\n    <tr>\n      <th>3</th>\n      <td>136.750000</td>\n      <td>57.178449</td>\n      <td>-0.068415</td>\n      <td>-0.636238</td>\n      <td>3.642977</td>\n      <td>20.959280</td>\n      <td>6.896499</td>\n      <td>53.593661</td>\n      <td>0</td>\n    </tr>\n    <tr>\n      <th>4</th>\n      <td>88.726562</td>\n      <td>40.672225</td>\n      <td>0.600866</td>\n      <td>1.123492</td>\n      <td>1.178930</td>\n      <td>11.468720</td>\n      <td>14.269573</td>\n      <td>252.567306</td>\n      <td>0</td>\n    </tr>\n  </tbody>\n</table>\n</div>"
     },
     "execution_count": 18,
     "metadata": {},
     "output_type": "execute_result"
    }
   ],
   "source": [
    "data_pulsar = pd.read_csv('pulsar_stars_new.csv')\n",
    "data_pulsar.head()"
   ],
   "metadata": {
    "collapsed": false,
    "pycharm": {
     "name": "#%%\n"
    }
   }
  },
  {
   "cell_type": "code",
   "execution_count": 19,
   "outputs": [
    {
     "data": {
      "text/plain": "(202, 9)"
     },
     "execution_count": 19,
     "metadata": {},
     "output_type": "execute_result"
    }
   ],
   "source": [
    "data_pulsar_1 = data_pulsar.loc[(data_pulsar['TG'] == 0) & (data_pulsar['MIP'] >= 84.3515625) & (data_pulsar['MIP'] <= 85.5234375)]\n",
    "data_pulsar_2 = data_pulsar.loc[(data_pulsar['TG'] == 1) & (data_pulsar['MIP'] >= 47.4140625) &  (data_pulsar['MIP'] <= 52.9296875)]\n",
    "\n",
    "data_pulsar_new = pd.concat([data_pulsar_1, data_pulsar_2])\n",
    "\n",
    "data_pulsar_new.shape"
   ],
   "metadata": {
    "collapsed": false,
    "pycharm": {
     "name": "#%%\n"
    }
   }
  },
  {
   "cell_type": "code",
   "execution_count": 21,
   "outputs": [
    {
     "data": {
      "text/plain": "67.553"
     },
     "execution_count": 21,
     "metadata": {},
     "output_type": "execute_result"
    }
   ],
   "source": [
    "round(data_pulsar_new.MIP.mean(), 3)"
   ],
   "metadata": {
    "collapsed": false,
    "pycharm": {
     "name": "#%%\n"
    }
   }
  },
  {
   "cell_type": "code",
   "execution_count": 133,
   "outputs": [
    {
     "data": {
      "text/plain": "         date   country     city   Latitude  Longitude  tavg  tmin  tmax  \\\n0  21-07-2018  Abkhazia  Sukhumi  43.001525  41.023415  23.4  20.9  25.5   \n1  22-07-2018  Abkhazia  Sukhumi  43.001525  41.023415  23.5  21.0  25.7   \n2  23-07-2018  Abkhazia  Sukhumi  43.001525  41.023415  23.5  21.1  25.5   \n3  24-07-2018  Abkhazia  Sukhumi  43.001525  41.023415  24.3  20.8  27.1   \n4  25-07-2018  Abkhazia  Sukhumi  43.001525  41.023415  26.5  22.7  30.0   \n\n    wdir  wspd    pres  \n0  329.0   9.3  1009.6  \n1  337.0   9.4  1010.0  \n2   41.0   8.2  1007.7  \n3   10.0   9.3  1004.4  \n4    9.0   9.7  1002.0  ",
      "text/html": "<div>\n<style scoped>\n    .dataframe tbody tr th:only-of-type {\n        vertical-align: middle;\n    }\n\n    .dataframe tbody tr th {\n        vertical-align: top;\n    }\n\n    .dataframe thead th {\n        text-align: right;\n    }\n</style>\n<table border=\"1\" class=\"dataframe\">\n  <thead>\n    <tr style=\"text-align: right;\">\n      <th></th>\n      <th>date</th>\n      <th>country</th>\n      <th>city</th>\n      <th>Latitude</th>\n      <th>Longitude</th>\n      <th>tavg</th>\n      <th>tmin</th>\n      <th>tmax</th>\n      <th>wdir</th>\n      <th>wspd</th>\n      <th>pres</th>\n    </tr>\n  </thead>\n  <tbody>\n    <tr>\n      <th>0</th>\n      <td>21-07-2018</td>\n      <td>Abkhazia</td>\n      <td>Sukhumi</td>\n      <td>43.001525</td>\n      <td>41.023415</td>\n      <td>23.4</td>\n      <td>20.9</td>\n      <td>25.5</td>\n      <td>329.0</td>\n      <td>9.3</td>\n      <td>1009.6</td>\n    </tr>\n    <tr>\n      <th>1</th>\n      <td>22-07-2018</td>\n      <td>Abkhazia</td>\n      <td>Sukhumi</td>\n      <td>43.001525</td>\n      <td>41.023415</td>\n      <td>23.5</td>\n      <td>21.0</td>\n      <td>25.7</td>\n      <td>337.0</td>\n      <td>9.4</td>\n      <td>1010.0</td>\n    </tr>\n    <tr>\n      <th>2</th>\n      <td>23-07-2018</td>\n      <td>Abkhazia</td>\n      <td>Sukhumi</td>\n      <td>43.001525</td>\n      <td>41.023415</td>\n      <td>23.5</td>\n      <td>21.1</td>\n      <td>25.5</td>\n      <td>41.0</td>\n      <td>8.2</td>\n      <td>1007.7</td>\n    </tr>\n    <tr>\n      <th>3</th>\n      <td>24-07-2018</td>\n      <td>Abkhazia</td>\n      <td>Sukhumi</td>\n      <td>43.001525</td>\n      <td>41.023415</td>\n      <td>24.3</td>\n      <td>20.8</td>\n      <td>27.1</td>\n      <td>10.0</td>\n      <td>9.3</td>\n      <td>1004.4</td>\n    </tr>\n    <tr>\n      <th>4</th>\n      <td>25-07-2018</td>\n      <td>Abkhazia</td>\n      <td>Sukhumi</td>\n      <td>43.001525</td>\n      <td>41.023415</td>\n      <td>26.5</td>\n      <td>22.7</td>\n      <td>30.0</td>\n      <td>9.0</td>\n      <td>9.7</td>\n      <td>1002.0</td>\n    </tr>\n  </tbody>\n</table>\n</div>"
     },
     "execution_count": 133,
     "metadata": {},
     "output_type": "execute_result"
    }
   ],
   "source": [
    "data_weather = pd.read_csv('daily_weather_data.csv')\n",
    "data_weather.head()"
   ],
   "metadata": {
    "collapsed": false,
    "pycharm": {
     "name": "#%%\n"
    }
   }
  },
  {
   "cell_type": "code",
   "execution_count": 134,
   "outputs": [
    {
     "data": {
      "text/plain": "192"
     },
     "execution_count": 134,
     "metadata": {},
     "output_type": "execute_result"
    }
   ],
   "source": [
    "data_weather['city'].nunique()"
   ],
   "metadata": {
    "collapsed": false,
    "pycharm": {
     "name": "#%%\n"
    }
   }
  },
  {
   "cell_type": "code",
   "execution_count": 46,
   "outputs": [
    {
     "data": {
      "text/plain": "             date         country      city   Latitude  Longitude  tavg  tmin  \\\n324642 2022-10-07  Western Sahara  El Aaiún  27.125287   -13.1625  22.1  18.6   \n324643 2022-10-08  Western Sahara  El Aaiún  27.125287   -13.1625  22.1  19.6   \n324644 2022-10-09  Western Sahara  El Aaiún  27.125287   -13.1625  23.4  19.6   \n324645 2022-10-10  Western Sahara  El Aaiún  27.125287   -13.1625  23.1  18.6   \n324646 2022-10-11  Western Sahara  El Aaiún  27.125287   -13.1625  21.4  17.3   \n\n        tmax  wdir  wspd    pres  \n324642  25.6   3.0  24.7  1013.7  \n324643  25.6   2.0  20.5  1013.0  \n324644  29.6  34.0  24.0  1015.4  \n324645  29.7  39.0  28.4  1017.6  \n324646  27.5  21.0  21.3  1018.6  ",
      "text/html": "<div>\n<style scoped>\n    .dataframe tbody tr th:only-of-type {\n        vertical-align: middle;\n    }\n\n    .dataframe tbody tr th {\n        vertical-align: top;\n    }\n\n    .dataframe thead th {\n        text-align: right;\n    }\n</style>\n<table border=\"1\" class=\"dataframe\">\n  <thead>\n    <tr style=\"text-align: right;\">\n      <th></th>\n      <th>date</th>\n      <th>country</th>\n      <th>city</th>\n      <th>Latitude</th>\n      <th>Longitude</th>\n      <th>tavg</th>\n      <th>tmin</th>\n      <th>tmax</th>\n      <th>wdir</th>\n      <th>wspd</th>\n      <th>pres</th>\n    </tr>\n  </thead>\n  <tbody>\n    <tr>\n      <th>324642</th>\n      <td>2022-10-07</td>\n      <td>Western Sahara</td>\n      <td>El Aaiún</td>\n      <td>27.125287</td>\n      <td>-13.1625</td>\n      <td>22.1</td>\n      <td>18.6</td>\n      <td>25.6</td>\n      <td>3.0</td>\n      <td>24.7</td>\n      <td>1013.7</td>\n    </tr>\n    <tr>\n      <th>324643</th>\n      <td>2022-10-08</td>\n      <td>Western Sahara</td>\n      <td>El Aaiún</td>\n      <td>27.125287</td>\n      <td>-13.1625</td>\n      <td>22.1</td>\n      <td>19.6</td>\n      <td>25.6</td>\n      <td>2.0</td>\n      <td>20.5</td>\n      <td>1013.0</td>\n    </tr>\n    <tr>\n      <th>324644</th>\n      <td>2022-10-09</td>\n      <td>Western Sahara</td>\n      <td>El Aaiún</td>\n      <td>27.125287</td>\n      <td>-13.1625</td>\n      <td>23.4</td>\n      <td>19.6</td>\n      <td>29.6</td>\n      <td>34.0</td>\n      <td>24.0</td>\n      <td>1015.4</td>\n    </tr>\n    <tr>\n      <th>324645</th>\n      <td>2022-10-10</td>\n      <td>Western Sahara</td>\n      <td>El Aaiún</td>\n      <td>27.125287</td>\n      <td>-13.1625</td>\n      <td>23.1</td>\n      <td>18.6</td>\n      <td>29.7</td>\n      <td>39.0</td>\n      <td>28.4</td>\n      <td>1017.6</td>\n    </tr>\n    <tr>\n      <th>324646</th>\n      <td>2022-10-11</td>\n      <td>Western Sahara</td>\n      <td>El Aaiún</td>\n      <td>27.125287</td>\n      <td>-13.1625</td>\n      <td>21.4</td>\n      <td>17.3</td>\n      <td>27.5</td>\n      <td>21.0</td>\n      <td>21.3</td>\n      <td>1018.6</td>\n    </tr>\n  </tbody>\n</table>\n</div>"
     },
     "execution_count": 46,
     "metadata": {},
     "output_type": "execute_result"
    }
   ],
   "source": [
    "data_weather.tail()"
   ],
   "metadata": {
    "collapsed": false,
    "pycharm": {
     "name": "#%%\n"
    }
   }
  },
  {
   "cell_type": "code",
   "execution_count": 139,
   "outputs": [
    {
     "name": "stdout",
     "output_type": "stream",
     "text": [
      "<class 'pandas.core.frame.DataFrame'>\n",
      "RangeIndex: 324647 entries, 0 to 324646\n",
      "Data columns (total 11 columns):\n",
      " #   Column     Non-Null Count   Dtype         \n",
      "---  ------     --------------   -----         \n",
      " 0   date       324647 non-null  datetime64[ns]\n",
      " 1   country    324647 non-null  object        \n",
      " 2   city       324647 non-null  object        \n",
      " 3   Latitude   324647 non-null  float64       \n",
      " 4   Longitude  324647 non-null  float64       \n",
      " 5   tavg       314963 non-null  float64       \n",
      " 6   tmin       312284 non-null  float64       \n",
      " 7   tmax       312269 non-null  float64       \n",
      " 8   wdir       283937 non-null  float64       \n",
      " 9   wspd       302400 non-null  float64       \n",
      " 10  pres       289416 non-null  float64       \n",
      "dtypes: datetime64[ns](1), float64(8), object(2)\n",
      "memory usage: 27.2+ MB\n"
     ]
    }
   ],
   "source": [
    "data_weather.info()"
   ],
   "metadata": {
    "collapsed": false,
    "pycharm": {
     "name": "#%%\n"
    }
   }
  },
  {
   "cell_type": "code",
   "execution_count": 141,
   "outputs": [],
   "source": [
    "data_weather['date'] = pd.to_datetime(data_weather.date)"
   ],
   "metadata": {
    "collapsed": false,
    "pycharm": {
     "name": "#%%\n"
    }
   }
  },
  {
   "cell_type": "code",
   "execution_count": 138,
   "outputs": [
    {
     "data": {
      "text/plain": "29.2"
     },
     "execution_count": 138,
     "metadata": {},
     "output_type": "execute_result"
    }
   ],
   "source": [
    "round(data_weather['tavg'].where((data_weather['date'] >= '2022-01-01') & (data_weather['city'] == 'Doha')).mean(), 1)"
   ],
   "metadata": {
    "collapsed": false,
    "pycharm": {
     "name": "#%%\n"
    }
   }
  },
  {
   "cell_type": "code",
   "execution_count": 55,
   "outputs": [],
   "source": [
    "import json\n",
    "import pprint"
   ],
   "metadata": {
    "collapsed": false,
    "pycharm": {
     "name": "#%%\n"
    }
   }
  },
  {
   "cell_type": "code",
   "execution_count": 57,
   "outputs": [
    {
     "name": "stdout",
     "output_type": "stream",
     "text": [
      "{'Date': '2024-02-21T11:30:00+03:00',\n",
      " 'PreviousDate': '2024-02-20T11:30:00+03:00',\n",
      " 'PreviousURL': '//www.cbr-xml-daily.ru/archive/2024/02/20/daily_json.js',\n",
      " 'Timestamp': '2024-02-20T19:00:00+03:00',\n",
      " 'Valute': {'AED': {'CharCode': 'AED',\n",
      "                    'ID': 'R01230',\n",
      "                    'Name': 'Дирхам ОАЭ',\n",
      "                    'Nominal': 1,\n",
      "                    'NumCode': '784',\n",
      "                    'Previous': 25.1628,\n",
      "                    'Value': 25.1461},\n",
      "            'AMD': {'CharCode': 'AMD',\n",
      "                    'ID': 'R01060',\n",
      "                    'Name': 'Армянских драмов',\n",
      "                    'Nominal': 100,\n",
      "                    'NumCode': '051',\n",
      "                    'Previous': 22.8529,\n",
      "                    'Value': 22.8321},\n",
      "            'AUD': {'CharCode': 'AUD',\n",
      "                    'ID': 'R01010',\n",
      "                    'Name': 'Австралийский доллар',\n",
      "                    'Nominal': 1,\n",
      "                    'NumCode': '036',\n",
      "                    'Previous': 60.4732,\n",
      "                    'Value': 60.3131},\n",
      "            'AZN': {'CharCode': 'AZN',\n",
      "                    'ID': 'R01020A',\n",
      "                    'Name': 'Азербайджанский манат',\n",
      "                    'Nominal': 1,\n",
      "                    'NumCode': '944',\n",
      "                    'Previous': 54.3589,\n",
      "                    'Value': 54.3229},\n",
      "            'BGN': {'CharCode': 'BGN',\n",
      "                    'ID': 'R01100',\n",
      "                    'Name': 'Болгарский лев',\n",
      "                    'Nominal': 1,\n",
      "                    'NumCode': '975',\n",
      "                    'Previous': 50.8771,\n",
      "                    'Value': 50.8813},\n",
      "            'BRL': {'CharCode': 'BRL',\n",
      "                    'ID': 'R01115',\n",
      "                    'Name': 'Бразильский реал',\n",
      "                    'Nominal': 1,\n",
      "                    'NumCode': '986',\n",
      "                    'Previous': 18.5719,\n",
      "                    'Value': 18.6255},\n",
      "            'BYN': {'CharCode': 'BYN',\n",
      "                    'ID': 'R01090B',\n",
      "                    'Name': 'Белорусский рубль',\n",
      "                    'Nominal': 1,\n",
      "                    'NumCode': '933',\n",
      "                    'Previous': 28.5234,\n",
      "                    'Value': 28.5345},\n",
      "            'CAD': {'CharCode': 'CAD',\n",
      "                    'ID': 'R01350',\n",
      "                    'Name': 'Канадский доллар',\n",
      "                    'Nominal': 1,\n",
      "                    'NumCode': '124',\n",
      "                    'Previous': 68.5332,\n",
      "                    'Value': 68.4878},\n",
      "            'CHF': {'CharCode': 'CHF',\n",
      "                    'ID': 'R01775',\n",
      "                    'Name': 'Швейцарский франк',\n",
      "                    'Nominal': 1,\n",
      "                    'NumCode': '756',\n",
      "                    'Previous': 104.8805,\n",
      "                    'Value': 104.7397},\n",
      "            'CNY': {'CharCode': 'CNY',\n",
      "                    'ID': 'R01375',\n",
      "                    'Name': 'Китайский юань',\n",
      "                    'Nominal': 1,\n",
      "                    'NumCode': '156',\n",
      "                    'Previous': 12.7662,\n",
      "                    'Value': 12.797},\n",
      "            'CZK': {'CharCode': 'CZK',\n",
      "                    'ID': 'R01760',\n",
      "                    'Name': 'Чешских крон',\n",
      "                    'Nominal': 10,\n",
      "                    'NumCode': '203',\n",
      "                    'Previous': 39.0807,\n",
      "                    'Value': 39.0862},\n",
      "            'DKK': {'CharCode': 'DKK',\n",
      "                    'ID': 'R01215',\n",
      "                    'Name': 'Датская крона',\n",
      "                    'Nominal': 1,\n",
      "                    'NumCode': '208',\n",
      "                    'Previous': 13.3485,\n",
      "                    'Value': 13.3493},\n",
      "            'EGP': {'CharCode': 'EGP',\n",
      "                    'ID': 'R01240',\n",
      "                    'Name': 'Египетских фунтов',\n",
      "                    'Nominal': 10,\n",
      "                    'NumCode': '818',\n",
      "                    'Previous': 29.9131,\n",
      "                    'Value': 29.8933},\n",
      "            'EUR': {'CharCode': 'EUR',\n",
      "                    'ID': 'R01239',\n",
      "                    'Name': 'Евро',\n",
      "                    'Nominal': 1,\n",
      "                    'NumCode': '978',\n",
      "                    'Previous': 99.4889,\n",
      "                    'Value': 99.5589},\n",
      "            'GBP': {'CharCode': 'GBP',\n",
      "                    'ID': 'R01035',\n",
      "                    'Name': 'Фунт стерлингов Соединенного королевства',\n",
      "                    'Nominal': 1,\n",
      "                    'NumCode': '826',\n",
      "                    'Previous': 116.289,\n",
      "                    'Value': 116.2397},\n",
      "            'GEL': {'CharCode': 'GEL',\n",
      "                    'ID': 'R01210',\n",
      "                    'Name': 'Грузинский лари',\n",
      "                    'Nominal': 1,\n",
      "                    'NumCode': '981',\n",
      "                    'Previous': 34.9615,\n",
      "                    'Value': 34.9159},\n",
      "            'HKD': {'CharCode': 'HKD',\n",
      "                    'ID': 'R01200',\n",
      "                    'Name': 'Гонконгский доллар',\n",
      "                    'Nominal': 1,\n",
      "                    'NumCode': '344',\n",
      "                    'Previous': 11.8368,\n",
      "                    'Value': 11.829},\n",
      "            'HUF': {'CharCode': 'HUF',\n",
      "                    'ID': 'R01135',\n",
      "                    'Name': 'Венгерских форинтов',\n",
      "                    'Nominal': 100,\n",
      "                    'NumCode': '348',\n",
      "                    'Previous': 25.5807,\n",
      "                    'Value': 25.6319},\n",
      "            'IDR': {'CharCode': 'IDR',\n",
      "                    'ID': 'R01280',\n",
      "                    'Name': 'Индонезийских рупий',\n",
      "                    'Nominal': 10000,\n",
      "                    'NumCode': '360',\n",
      "                    'Previous': 59.033,\n",
      "                    'Value': 59.0845},\n",
      "            'INR': {'CharCode': 'INR',\n",
      "                    'ID': 'R01270',\n",
      "                    'Name': 'Индийских рупий',\n",
      "                    'Nominal': 10,\n",
      "                    'NumCode': '356',\n",
      "                    'Previous': 11.1344,\n",
      "                    'Value': 11.1238},\n",
      "            'JPY': {'CharCode': 'JPY',\n",
      "                    'ID': 'R01820',\n",
      "                    'Name': 'Японских иен',\n",
      "                    'Nominal': 100,\n",
      "                    'NumCode': '392',\n",
      "                    'Previous': 61.615,\n",
      "                    'Value': 61.4349},\n",
      "            'KGS': {'CharCode': 'KGS',\n",
      "                    'ID': 'R01370',\n",
      "                    'Name': 'Киргизских сомов',\n",
      "                    'Nominal': 10,\n",
      "                    'NumCode': '417',\n",
      "                    'Previous': 10.3332,\n",
      "                    'Value': 10.3264},\n",
      "            'KRW': {'CharCode': 'KRW',\n",
      "                    'ID': 'R01815',\n",
      "                    'Name': 'Вон Республики Корея',\n",
      "                    'Nominal': 1000,\n",
      "                    'NumCode': '410',\n",
      "                    'Previous': 69.2108,\n",
      "                    'Value': 69.0408},\n",
      "            'KZT': {'CharCode': 'KZT',\n",
      "                    'ID': 'R01335',\n",
      "                    'Name': 'Казахстанских тенге',\n",
      "                    'Nominal': 100,\n",
      "                    'NumCode': '398',\n",
      "                    'Previous': 20.596,\n",
      "                    'Value': 20.5156},\n",
      "            'MDL': {'CharCode': 'MDL',\n",
      "                    'ID': 'R01500',\n",
      "                    'Name': 'Молдавских леев',\n",
      "                    'Nominal': 10,\n",
      "                    'NumCode': '498',\n",
      "                    'Previous': 51.7168,\n",
      "                    'Value': 51.6589},\n",
      "            'NOK': {'CharCode': 'NOK',\n",
      "                    'ID': 'R01535',\n",
      "                    'Name': 'Норвежских крон',\n",
      "                    'Nominal': 10,\n",
      "                    'NumCode': '578',\n",
      "                    'Previous': 87.6292,\n",
      "                    'Value': 88.0319},\n",
      "            'NZD': {'CharCode': 'NZD',\n",
      "                    'ID': 'R01530',\n",
      "                    'Name': 'Новозеландский доллар',\n",
      "                    'Nominal': 1,\n",
      "                    'NumCode': '554',\n",
      "                    'Previous': 56.7352,\n",
      "                    'Value': 56.6792},\n",
      "            'PLN': {'CharCode': 'PLN',\n",
      "                    'ID': 'R01565',\n",
      "                    'Name': 'Польский злотый',\n",
      "                    'Nominal': 1,\n",
      "                    'NumCode': '985',\n",
      "                    'Previous': 22.9482,\n",
      "                    'Value': 23.0907},\n",
      "            'QAR': {'CharCode': 'QAR',\n",
      "                    'ID': 'R01355',\n",
      "                    'Name': 'Катарский риал',\n",
      "                    'Nominal': 1,\n",
      "                    'NumCode': '634',\n",
      "                    'Previous': 25.3874,\n",
      "                    'Value': 25.3706},\n",
      "            'RON': {'CharCode': 'RON',\n",
      "                    'ID': 'R01585F',\n",
      "                    'Name': 'Румынский лей',\n",
      "                    'Nominal': 1,\n",
      "                    'NumCode': '946',\n",
      "                    'Previous': 20.007,\n",
      "                    'Value': 20.0458},\n",
      "            'RSD': {'CharCode': 'RSD',\n",
      "                    'ID': 'R01805F',\n",
      "                    'Name': 'Сербских динаров',\n",
      "                    'Nominal': 100,\n",
      "                    'NumCode': '941',\n",
      "                    'Previous': 85.0483,\n",
      "                    'Value': 84.8794},\n",
      "            'SEK': {'CharCode': 'SEK',\n",
      "                    'ID': 'R01770',\n",
      "                    'Name': 'Шведских крон',\n",
      "                    'Nominal': 10,\n",
      "                    'NumCode': '752',\n",
      "                    'Previous': 88.3294,\n",
      "                    'Value': 88.5604},\n",
      "            'SGD': {'CharCode': 'SGD',\n",
      "                    'ID': 'R01625',\n",
      "                    'Name': 'Сингапурский доллар',\n",
      "                    'Nominal': 1,\n",
      "                    'NumCode': '702',\n",
      "                    'Previous': 68.7116,\n",
      "                    'Value': 68.5896},\n",
      "            'THB': {'CharCode': 'THB',\n",
      "                    'ID': 'R01675',\n",
      "                    'Name': 'Таиландских батов',\n",
      "                    'Nominal': 10,\n",
      "                    'NumCode': '764',\n",
      "                    'Previous': 25.71,\n",
      "                    'Value': 25.5512},\n",
      "            'TJS': {'CharCode': 'TJS',\n",
      "                    'ID': 'R01670',\n",
      "                    'Name': 'Таджикских сомони',\n",
      "                    'Nominal': 10,\n",
      "                    'NumCode': '972',\n",
      "                    'Previous': 84.3513,\n",
      "                    'Value': 84.2931},\n",
      "            'TMT': {'CharCode': 'TMT',\n",
      "                    'ID': 'R01710A',\n",
      "                    'Name': 'Новый туркменский манат',\n",
      "                    'Nominal': 1,\n",
      "                    'NumCode': '934',\n",
      "                    'Previous': 26.4029,\n",
      "                    'Value': 26.3854},\n",
      "            'TRY': {'CharCode': 'TRY',\n",
      "                    'ID': 'R01700J',\n",
      "                    'Name': 'Турецких лир',\n",
      "                    'Nominal': 10,\n",
      "                    'NumCode': '949',\n",
      "                    'Previous': 30.0523,\n",
      "                    'Value': 29.9526},\n",
      "            'UAH': {'CharCode': 'UAH',\n",
      "                    'ID': 'R01720',\n",
      "                    'Name': 'Украинских гривен',\n",
      "                    'Nominal': 10,\n",
      "                    'NumCode': '980',\n",
      "                    'Previous': 24.3365,\n",
      "                    'Value': 24.1216},\n",
      "            'USD': {'CharCode': 'USD',\n",
      "                    'ID': 'R01235',\n",
      "                    'Name': 'Доллар США',\n",
      "                    'Nominal': 1,\n",
      "                    'NumCode': '840',\n",
      "                    'Previous': 92.4102,\n",
      "                    'Value': 92.349},\n",
      "            'UZS': {'CharCode': 'UZS',\n",
      "                    'ID': 'R01717',\n",
      "                    'Name': 'Узбекских сумов',\n",
      "                    'Nominal': 10000,\n",
      "                    'NumCode': '860',\n",
      "                    'Previous': 73.9878,\n",
      "                    'Value': 73.9968},\n",
      "            'VND': {'CharCode': 'VND',\n",
      "                    'ID': 'R01150',\n",
      "                    'Name': 'Вьетнамских донгов',\n",
      "                    'Nominal': 10000,\n",
      "                    'NumCode': '704',\n",
      "                    'Previous': 38.538,\n",
      "                    'Value': 38.498},\n",
      "            'XDR': {'CharCode': 'XDR',\n",
      "                    'ID': 'R01589',\n",
      "                    'Name': 'СДР (специальные права заимствования)',\n",
      "                    'Nominal': 1,\n",
      "                    'NumCode': '960',\n",
      "                    'Previous': 122.4213,\n",
      "                    'Value': 122.3403},\n",
      "            'ZAR': {'CharCode': 'ZAR',\n",
      "                    'ID': 'R01810',\n",
      "                    'Name': 'Южноафриканских рэндов',\n",
      "                    'Nominal': 10,\n",
      "                    'NumCode': '710',\n",
      "                    'Previous': 48.9202,\n",
      "                    'Value': 48.4311}}}\n"
     ]
    }
   ],
   "source": [
    "with open('daily_json.js') as f:\n",
    "    cb_rates = json.load(f)\n",
    "\n",
    "pprint.pprint(cb_rates)"
   ],
   "metadata": {
    "collapsed": false,
    "pycharm": {
     "name": "#%%\n"
    }
   }
  },
  {
   "cell_type": "code",
   "execution_count": 84,
   "outputs": [
    {
     "name": "stdout",
     "output_type": "stream",
     "text": [
      "('BYN',\n",
      " {'CharCode': 'BYN',\n",
      "  'ID': 'R01090B',\n",
      "  'Name': 'Белорусский рубль',\n",
      "  'Nominal': 1,\n",
      "  'NumCode': '933',\n",
      "  'Previous': 28.5234,\n",
      "  'Value': 28.5345})\n"
     ]
    }
   ],
   "source": [
    "valutes = cb_rates['Valute']\n",
    "pprint.pprint(sorted(valutes.items(), reverse=True)[36])"
   ],
   "metadata": {
    "collapsed": false,
    "pycharm": {
     "name": "#%%\n"
    }
   }
  },
  {
   "cell_type": "markdown",
   "source": [
    "## Промежуточная аттестация 3"
   ],
   "metadata": {
    "collapsed": false,
    "pycharm": {
     "name": "#%% md\n"
    }
   }
  },
  {
   "cell_type": "code",
   "execution_count": 122,
   "outputs": [
    {
     "data": {
      "text/plain": "   Unnamed: 0.4  Unnamed: 0.3  Unnamed: 0.2  Unnamed: 0.1  Unnamed: 0  \\\n0             0             0             0             0           0   \n1             1             1             1             1           1   \n2             2             2             2             2           2   \n3             3             3             3             3           3   \n4             4             4             4             4           4   \n\n                        _id                          nameRu  \\\n0  647385e537c1458c9452b5ba              И целого мира мало   \n1  647385e537c1458c9452b5bb               Суперагент Саймон   \n2  647385e537c1458c9452b5bc                 Бойцовский клуб   \n3  647385e537c1458c9452b5bd                     Паутина лжи   \n4  647385e637c1458c9452b5be  Любить по-русски 3: Губернатор   \n\n                    nameEn  year  \\\n0  The World Is Not Enough  1999   \n1                Simon Sez  1999   \n2               Fight Club  1999   \n3            Random Hearts  1999   \n4                      NaN  1999   \n\n                                           posterUrl  ...  \\\n0  https://kinopoiskapiunofficial.tech/images/pos...  ...   \n1  https://kinopoiskapiunofficial.tech/images/pos...  ...   \n2  https://kinopoiskapiunofficial.tech/images/pos...  ...   \n3  https://kinopoiskapiunofficial.tech/images/pos...  ...   \n4  https://kinopoiskapiunofficial.tech/images/pos...  ...   \n\n  directors[32].directorEn directors[33].directorEn directors[34].directorEn  \\\n0                      NaN                      NaN                      NaN   \n1                      NaN                      NaN                      NaN   \n2                      NaN                      NaN                      NaN   \n3                      NaN                      NaN                      NaN   \n4                      NaN                      NaN                      NaN   \n\n  directors[35].directorEn filmId    type       amount  cur directors rating  \n0                      NaN   6585  BUDGET  135000000.0  USD         1  7.034  \n1                      NaN  25189  BUDGET   10000000.0  USD         1  4.654  \n2                      NaN    361  BUDGET   63000000.0  USD         1  8.664  \n3                      NaN   2761  BUDGET   64000000.0  USD         1  6.053  \n4                      NaN  94081     NaN          0.0  NaN         0  5.207  \n\n[5 rows x 96 columns]",
      "text/html": "<div>\n<style scoped>\n    .dataframe tbody tr th:only-of-type {\n        vertical-align: middle;\n    }\n\n    .dataframe tbody tr th {\n        vertical-align: top;\n    }\n\n    .dataframe thead th {\n        text-align: right;\n    }\n</style>\n<table border=\"1\" class=\"dataframe\">\n  <thead>\n    <tr style=\"text-align: right;\">\n      <th></th>\n      <th>Unnamed: 0.4</th>\n      <th>Unnamed: 0.3</th>\n      <th>Unnamed: 0.2</th>\n      <th>Unnamed: 0.1</th>\n      <th>Unnamed: 0</th>\n      <th>_id</th>\n      <th>nameRu</th>\n      <th>nameEn</th>\n      <th>year</th>\n      <th>posterUrl</th>\n      <th>...</th>\n      <th>directors[32].directorEn</th>\n      <th>directors[33].directorEn</th>\n      <th>directors[34].directorEn</th>\n      <th>directors[35].directorEn</th>\n      <th>filmId</th>\n      <th>type</th>\n      <th>amount</th>\n      <th>cur</th>\n      <th>directors</th>\n      <th>rating</th>\n    </tr>\n  </thead>\n  <tbody>\n    <tr>\n      <th>0</th>\n      <td>0</td>\n      <td>0</td>\n      <td>0</td>\n      <td>0</td>\n      <td>0</td>\n      <td>647385e537c1458c9452b5ba</td>\n      <td>И целого мира мало</td>\n      <td>The World Is Not Enough</td>\n      <td>1999</td>\n      <td>https://kinopoiskapiunofficial.tech/images/pos...</td>\n      <td>...</td>\n      <td>NaN</td>\n      <td>NaN</td>\n      <td>NaN</td>\n      <td>NaN</td>\n      <td>6585</td>\n      <td>BUDGET</td>\n      <td>135000000.0</td>\n      <td>USD</td>\n      <td>1</td>\n      <td>7.034</td>\n    </tr>\n    <tr>\n      <th>1</th>\n      <td>1</td>\n      <td>1</td>\n      <td>1</td>\n      <td>1</td>\n      <td>1</td>\n      <td>647385e537c1458c9452b5bb</td>\n      <td>Суперагент Саймон</td>\n      <td>Simon Sez</td>\n      <td>1999</td>\n      <td>https://kinopoiskapiunofficial.tech/images/pos...</td>\n      <td>...</td>\n      <td>NaN</td>\n      <td>NaN</td>\n      <td>NaN</td>\n      <td>NaN</td>\n      <td>25189</td>\n      <td>BUDGET</td>\n      <td>10000000.0</td>\n      <td>USD</td>\n      <td>1</td>\n      <td>4.654</td>\n    </tr>\n    <tr>\n      <th>2</th>\n      <td>2</td>\n      <td>2</td>\n      <td>2</td>\n      <td>2</td>\n      <td>2</td>\n      <td>647385e537c1458c9452b5bc</td>\n      <td>Бойцовский клуб</td>\n      <td>Fight Club</td>\n      <td>1999</td>\n      <td>https://kinopoiskapiunofficial.tech/images/pos...</td>\n      <td>...</td>\n      <td>NaN</td>\n      <td>NaN</td>\n      <td>NaN</td>\n      <td>NaN</td>\n      <td>361</td>\n      <td>BUDGET</td>\n      <td>63000000.0</td>\n      <td>USD</td>\n      <td>1</td>\n      <td>8.664</td>\n    </tr>\n    <tr>\n      <th>3</th>\n      <td>3</td>\n      <td>3</td>\n      <td>3</td>\n      <td>3</td>\n      <td>3</td>\n      <td>647385e537c1458c9452b5bd</td>\n      <td>Паутина лжи</td>\n      <td>Random Hearts</td>\n      <td>1999</td>\n      <td>https://kinopoiskapiunofficial.tech/images/pos...</td>\n      <td>...</td>\n      <td>NaN</td>\n      <td>NaN</td>\n      <td>NaN</td>\n      <td>NaN</td>\n      <td>2761</td>\n      <td>BUDGET</td>\n      <td>64000000.0</td>\n      <td>USD</td>\n      <td>1</td>\n      <td>6.053</td>\n    </tr>\n    <tr>\n      <th>4</th>\n      <td>4</td>\n      <td>4</td>\n      <td>4</td>\n      <td>4</td>\n      <td>4</td>\n      <td>647385e637c1458c9452b5be</td>\n      <td>Любить по-русски 3: Губернатор</td>\n      <td>NaN</td>\n      <td>1999</td>\n      <td>https://kinopoiskapiunofficial.tech/images/pos...</td>\n      <td>...</td>\n      <td>NaN</td>\n      <td>NaN</td>\n      <td>NaN</td>\n      <td>NaN</td>\n      <td>94081</td>\n      <td>NaN</td>\n      <td>0.0</td>\n      <td>NaN</td>\n      <td>0</td>\n      <td>5.207</td>\n    </tr>\n  </tbody>\n</table>\n<p>5 rows × 96 columns</p>\n</div>"
     },
     "execution_count": 122,
     "metadata": {},
     "output_type": "execute_result"
    }
   ],
   "source": [
    "attestation = pd.read_csv('att1_075.csv')\n",
    "attestation.head()"
   ],
   "metadata": {
    "collapsed": false,
    "pycharm": {
     "name": "#%%\n"
    }
   }
  },
  {
   "cell_type": "code",
   "execution_count": 86,
   "outputs": [
    {
     "name": "stdout",
     "output_type": "stream",
     "text": [
      "<class 'pandas.core.frame.DataFrame'>\n",
      "RangeIndex: 4438 entries, 0 to 4437\n",
      "Data columns (total 96 columns):\n",
      " #   Column                    Non-Null Count  Dtype  \n",
      "---  ------                    --------------  -----  \n",
      " 0   Unnamed: 0.4              4438 non-null   int64  \n",
      " 1   Unnamed: 0.3              4438 non-null   int64  \n",
      " 2   Unnamed: 0.2              4438 non-null   int64  \n",
      " 3   Unnamed: 0.1              4438 non-null   int64  \n",
      " 4   Unnamed: 0                4438 non-null   int64  \n",
      " 5   _id                       4438 non-null   object \n",
      " 6   nameRu                    4434 non-null   object \n",
      " 7   nameEn                    3423 non-null   object \n",
      " 8   year                      4438 non-null   int64  \n",
      " 9   posterUrl                 4438 non-null   object \n",
      " 10  posterUrlPreview          4438 non-null   object \n",
      " 11  countries[0].country      4438 non-null   object \n",
      " 12  countries[1].country      1633 non-null   object \n",
      " 13  countries[2].country      665 non-null    object \n",
      " 14  genres[0].genre           4428 non-null   object \n",
      " 15  genres[1].genre           3510 non-null   object \n",
      " 16  genres[2].genre           2138 non-null   object \n",
      " 17  duration                  4435 non-null   float64\n",
      " 18  directors[0].directorRu   4406 non-null   object \n",
      " 19  directors[1].directorRu   546 non-null    object \n",
      " 20  directors[2].directorRu   205 non-null    object \n",
      " 21  directors[3].directorRu   149 non-null    object \n",
      " 22  directors[4].directorRu   125 non-null    object \n",
      " 23  directors[5].directorRu   92 non-null     object \n",
      " 24  directors[6].directorRu   60 non-null     object \n",
      " 25  directors[7].directorRu   43 non-null     object \n",
      " 26  directors[8].directorRu   24 non-null     object \n",
      " 27  directors[9].directorRu   15 non-null     object \n",
      " 28  directors[10].directorRu  12 non-null     object \n",
      " 29  directors[11].directorRu  7 non-null      object \n",
      " 30  directors[12].directorRu  5 non-null      object \n",
      " 31  directors[13].directorRu  4 non-null      object \n",
      " 32  directors[14].directorRu  3 non-null      object \n",
      " 33  directors[15].directorRu  3 non-null      object \n",
      " 34  directors[16].directorRu  2 non-null      object \n",
      " 35  directors[17].directorRu  2 non-null      object \n",
      " 36  directors[18].directorRu  2 non-null      object \n",
      " 37  directors[19].directorRu  2 non-null      object \n",
      " 38  directors[20].directorRu  2 non-null      object \n",
      " 39  directors[21].directorRu  2 non-null      object \n",
      " 40  directors[22].directorRu  1 non-null      object \n",
      " 41  directors[23].directorRu  1 non-null      object \n",
      " 42  directors[24].directorRu  1 non-null      object \n",
      " 43  directors[25].directorRu  1 non-null      object \n",
      " 44  directors[26].directorRu  1 non-null      object \n",
      " 45  directors[27].directorRu  1 non-null      object \n",
      " 46  directors[28].directorRu  1 non-null      object \n",
      " 47  directors[29].directorRu  1 non-null      object \n",
      " 48  directors[30].directorRu  1 non-null      object \n",
      " 49  directors[31].directorRu  1 non-null      object \n",
      " 50  directors[32].directorRu  1 non-null      object \n",
      " 51  directors[33].directorRu  1 non-null      object \n",
      " 52  directors[34].directorRu  1 non-null      object \n",
      " 53  directors[35].directorRu  1 non-null      object \n",
      " 54  directors[0].directorEn   3415 non-null   object \n",
      " 55  directors[1].directorEn   382 non-null    object \n",
      " 56  directors[2].directorEn   90 non-null     object \n",
      " 57  directors[3].directorEn   42 non-null     object \n",
      " 58  directors[4].directorEn   28 non-null     object \n",
      " 59  directors[5].directorEn   22 non-null     object \n",
      " 60  directors[6].directorEn   18 non-null     object \n",
      " 61  directors[7].directorEn   16 non-null     object \n",
      " 62  directors[8].directorEn   10 non-null     object \n",
      " 63  directors[9].directorEn   7 non-null      object \n",
      " 64  directors[10].directorEn  7 non-null      object \n",
      " 65  directors[11].directorEn  3 non-null      object \n",
      " 66  directors[12].directorEn  3 non-null      object \n",
      " 67  directors[13].directorEn  2 non-null      object \n",
      " 68  directors[14].directorEn  2 non-null      object \n",
      " 69  directors[15].directorEn  2 non-null      object \n",
      " 70  directors[16].directorEn  2 non-null      object \n",
      " 71  directors[17].directorEn  2 non-null      object \n",
      " 72  directors[18].directorEn  2 non-null      object \n",
      " 73  directors[19].directorEn  2 non-null      object \n",
      " 74  directors[20].directorEn  2 non-null      object \n",
      " 75  directors[21].directorEn  1 non-null      object \n",
      " 76  directors[22].directorEn  1 non-null      object \n",
      " 77  directors[23].directorEn  1 non-null      object \n",
      " 78  directors[24].directorEn  1 non-null      object \n",
      " 79  directors[25].directorEn  1 non-null      object \n",
      " 80  directors[26].directorEn  1 non-null      object \n",
      " 81  directors[27].directorEn  1 non-null      object \n",
      " 82  directors[28].directorEn  1 non-null      object \n",
      " 83  directors[29].directorEn  1 non-null      object \n",
      " 84  directors[30].directorEn  1 non-null      object \n",
      " 85  directors[31].directorEn  1 non-null      object \n",
      " 86  directors[32].directorEn  1 non-null      object \n",
      " 87  directors[33].directorEn  1 non-null      object \n",
      " 88  directors[34].directorEn  1 non-null      object \n",
      " 89  directors[35].directorEn  1 non-null      object \n",
      " 90  filmId                    4438 non-null   int64  \n",
      " 91  type                      1799 non-null   object \n",
      " 92  amount                    4256 non-null   float64\n",
      " 93  cur                       1695 non-null   object \n",
      " 94  directors                 4438 non-null   int64  \n",
      " 95  rating                    4438 non-null   float64\n",
      "dtypes: float64(3), int64(8), object(85)\n",
      "memory usage: 3.3+ MB\n"
     ]
    }
   ],
   "source": [
    "attestation.info()"
   ],
   "metadata": {
    "collapsed": false,
    "pycharm": {
     "name": "#%%\n"
    }
   }
  },
  {
   "cell_type": "code",
   "execution_count": 106,
   "outputs": [],
   "source": [
    "attestation['nameEn_len'] = [len(attestation['nameEn'].tolist()[i]) for i in range(len(attestation['nameEn'].tolist()))]"
   ],
   "metadata": {
    "collapsed": false,
    "pycharm": {
     "name": "#%%\n"
    }
   }
  },
  {
   "cell_type": "code",
   "execution_count": 107,
   "outputs": [
    {
     "data": {
      "text/plain": "1"
     },
     "execution_count": 107,
     "metadata": {},
     "output_type": "execute_result"
    }
   ],
   "source": [
    "attestation['nameEn_len'].min()"
   ],
   "metadata": {
    "collapsed": false,
    "pycharm": {
     "name": "#%%\n"
    }
   }
  },
  {
   "cell_type": "code",
   "execution_count": 132,
   "outputs": [
    {
     "data": {
      "text/plain": "      Unnamed: 0.4  Unnamed: 0.3  Unnamed: 0.2  Unnamed: 0.1  Unnamed: 0  \\\n1309          1809          1809          1809          1809        1809   \n1027          1418          1418          1418          1418        1418   \n3485          4985          4985          4985          4986        4986   \n1566          2316          2316          2316          2316        2316   \n2975          4475          4475          4475          4476        4476   \n...            ...           ...           ...           ...         ...   \n3533          5033          5033          5033          5034        5034   \n2572          4072          4072          4072          4073        4073   \n1501          2180          2180          2180          2180        2180   \n3522          5022          5022          5022          5023        5023   \n2219          3624          3624          3624          3625        3625   \n\n                           _id                                  nameRu  \\\n1309  6473b2c537c1458c9452bccc                     У каждого свое кино   \n1027  647388a937c1458c9452bb44                     Париж, я люблю тебя   \n3485  64746c0c37c1458c9452c97a                    Берлин, я люблю тебя   \n1566  6473b31b37c1458c9452bec8                  Нью-Йорк, я люблю тебя   \n2975  64746b3437c1458c9452c76c  Страшные истории, рассказанные на ночь   \n...                        ...                                     ...   \n3533  64746c1337c1458c9452c9ad                         Это не навсегда   \n2572  647468d837c1458c9452c5cd                           Карман России   \n1501  6473b30437c1458c9452be3f               Человек, который знал всё   \n3522  64746c1237c1458c9452c9a1                                 Беглецы   \n2219  6474684137c1458c9452c3f9                  Звёзды мне укажут путь   \n\n                                                 nameEn  year  \\\n1309  Chacun son cinéma ou Ce petit coup au coeur qu...  2007   \n1027                                   Paris, je t'aime  2006   \n3485                                 Berlin, I Love You  2019   \n1566                               New York, I Love You  2008   \n2975                 A Night of Horror: Nightmare Radio  2019   \n...                                                 ...   ...   \n3533                                                NaN  2019   \n2572                                                NaN  2021   \n1501                                                NaN  2009   \n3522                                                NaN  2017   \n2219                                                NaN  2022   \n\n                                              posterUrl  ...  \\\n1309  https://kinopoiskapiunofficial.tech/images/pos...  ...   \n1027  https://kinopoiskapiunofficial.tech/images/pos...  ...   \n3485  https://kinopoiskapiunofficial.tech/images/pos...  ...   \n1566  https://kinopoiskapiunofficial.tech/images/pos...  ...   \n2975  https://kinopoiskapiunofficial.tech/images/pos...  ...   \n...                                                 ...  ...   \n3533  https://kinopoiskapiunofficial.tech/images/pos...  ...   \n2572  https://kinopoiskapiunofficial.tech/images/pos...  ...   \n1501  https://kinopoiskapiunofficial.tech/images/pos...  ...   \n3522  https://kinopoiskapiunofficial.tech/images/pos...  ...   \n2219  https://kinopoiskapiunofficial.tech/images/pos...  ...   \n\n     directors[32].directorEn directors[33].directorEn  \\\n1309           Lars von Trier              Wim Wenders   \n1027                      NaN                      NaN   \n3485                      NaN                      NaN   \n1566                      NaN                      NaN   \n2975                      NaN                      NaN   \n...                       ...                      ...   \n3533                      NaN                      NaN   \n2572                      NaN                      NaN   \n1501                      NaN                      NaN   \n3522                      NaN                      NaN   \n2219                      NaN                      NaN   \n\n     directors[34].directorEn directors[35].directorEn   filmId    type  \\\n1309             Wong Kar-Wai              Zhang Yimou   279724     RUS   \n1027                      NaN                      NaN    77437     RUS   \n3485                      NaN                      NaN   669654     NaN   \n1566                      NaN                      NaN   280540  BUDGET   \n2975                      NaN                      NaN  1293037     NaN   \n...                       ...                      ...      ...     ...   \n3533                      NaN                      NaN  1232565     NaN   \n2572                      NaN                      NaN  4505456     NaN   \n1501                      NaN                      NaN   406628     RUS   \n3522                      NaN                      NaN   811571     NaN   \n2219                      NaN                      NaN  1162851     NaN   \n\n         amount  cur directors rating  \n1309   188003.0  USD        35  7.130  \n1027  1048103.0  USD        22  7.544  \n3485        0.0  NaN        13  5.779  \n1566        NaN  USD        11  7.018  \n2975        0.0  NaN        11  5.426  \n...         ...  ...       ...    ...  \n3533        0.0  NaN         0  6.704  \n2572        0.0  NaN         0  8.140  \n1501   160916.0  USD         0  5.946  \n3522        0.0  NaN         0  6.251  \n2219        0.0  NaN         0  7.329  \n\n[4438 rows x 96 columns]",
      "text/html": "<div>\n<style scoped>\n    .dataframe tbody tr th:only-of-type {\n        vertical-align: middle;\n    }\n\n    .dataframe tbody tr th {\n        vertical-align: top;\n    }\n\n    .dataframe thead th {\n        text-align: right;\n    }\n</style>\n<table border=\"1\" class=\"dataframe\">\n  <thead>\n    <tr style=\"text-align: right;\">\n      <th></th>\n      <th>Unnamed: 0.4</th>\n      <th>Unnamed: 0.3</th>\n      <th>Unnamed: 0.2</th>\n      <th>Unnamed: 0.1</th>\n      <th>Unnamed: 0</th>\n      <th>_id</th>\n      <th>nameRu</th>\n      <th>nameEn</th>\n      <th>year</th>\n      <th>posterUrl</th>\n      <th>...</th>\n      <th>directors[32].directorEn</th>\n      <th>directors[33].directorEn</th>\n      <th>directors[34].directorEn</th>\n      <th>directors[35].directorEn</th>\n      <th>filmId</th>\n      <th>type</th>\n      <th>amount</th>\n      <th>cur</th>\n      <th>directors</th>\n      <th>rating</th>\n    </tr>\n  </thead>\n  <tbody>\n    <tr>\n      <th>1309</th>\n      <td>1809</td>\n      <td>1809</td>\n      <td>1809</td>\n      <td>1809</td>\n      <td>1809</td>\n      <td>6473b2c537c1458c9452bccc</td>\n      <td>У каждого свое кино</td>\n      <td>Chacun son cinéma ou Ce petit coup au coeur qu...</td>\n      <td>2007</td>\n      <td>https://kinopoiskapiunofficial.tech/images/pos...</td>\n      <td>...</td>\n      <td>Lars von Trier</td>\n      <td>Wim Wenders</td>\n      <td>Wong Kar-Wai</td>\n      <td>Zhang Yimou</td>\n      <td>279724</td>\n      <td>RUS</td>\n      <td>188003.0</td>\n      <td>USD</td>\n      <td>35</td>\n      <td>7.130</td>\n    </tr>\n    <tr>\n      <th>1027</th>\n      <td>1418</td>\n      <td>1418</td>\n      <td>1418</td>\n      <td>1418</td>\n      <td>1418</td>\n      <td>647388a937c1458c9452bb44</td>\n      <td>Париж, я люблю тебя</td>\n      <td>Paris, je t'aime</td>\n      <td>2006</td>\n      <td>https://kinopoiskapiunofficial.tech/images/pos...</td>\n      <td>...</td>\n      <td>NaN</td>\n      <td>NaN</td>\n      <td>NaN</td>\n      <td>NaN</td>\n      <td>77437</td>\n      <td>RUS</td>\n      <td>1048103.0</td>\n      <td>USD</td>\n      <td>22</td>\n      <td>7.544</td>\n    </tr>\n    <tr>\n      <th>3485</th>\n      <td>4985</td>\n      <td>4985</td>\n      <td>4985</td>\n      <td>4986</td>\n      <td>4986</td>\n      <td>64746c0c37c1458c9452c97a</td>\n      <td>Берлин, я люблю тебя</td>\n      <td>Berlin, I Love You</td>\n      <td>2019</td>\n      <td>https://kinopoiskapiunofficial.tech/images/pos...</td>\n      <td>...</td>\n      <td>NaN</td>\n      <td>NaN</td>\n      <td>NaN</td>\n      <td>NaN</td>\n      <td>669654</td>\n      <td>NaN</td>\n      <td>0.0</td>\n      <td>NaN</td>\n      <td>13</td>\n      <td>5.779</td>\n    </tr>\n    <tr>\n      <th>1566</th>\n      <td>2316</td>\n      <td>2316</td>\n      <td>2316</td>\n      <td>2316</td>\n      <td>2316</td>\n      <td>6473b31b37c1458c9452bec8</td>\n      <td>Нью-Йорк, я люблю тебя</td>\n      <td>New York, I Love You</td>\n      <td>2008</td>\n      <td>https://kinopoiskapiunofficial.tech/images/pos...</td>\n      <td>...</td>\n      <td>NaN</td>\n      <td>NaN</td>\n      <td>NaN</td>\n      <td>NaN</td>\n      <td>280540</td>\n      <td>BUDGET</td>\n      <td>NaN</td>\n      <td>USD</td>\n      <td>11</td>\n      <td>7.018</td>\n    </tr>\n    <tr>\n      <th>2975</th>\n      <td>4475</td>\n      <td>4475</td>\n      <td>4475</td>\n      <td>4476</td>\n      <td>4476</td>\n      <td>64746b3437c1458c9452c76c</td>\n      <td>Страшные истории, рассказанные на ночь</td>\n      <td>A Night of Horror: Nightmare Radio</td>\n      <td>2019</td>\n      <td>https://kinopoiskapiunofficial.tech/images/pos...</td>\n      <td>...</td>\n      <td>NaN</td>\n      <td>NaN</td>\n      <td>NaN</td>\n      <td>NaN</td>\n      <td>1293037</td>\n      <td>NaN</td>\n      <td>0.0</td>\n      <td>NaN</td>\n      <td>11</td>\n      <td>5.426</td>\n    </tr>\n    <tr>\n      <th>...</th>\n      <td>...</td>\n      <td>...</td>\n      <td>...</td>\n      <td>...</td>\n      <td>...</td>\n      <td>...</td>\n      <td>...</td>\n      <td>...</td>\n      <td>...</td>\n      <td>...</td>\n      <td>...</td>\n      <td>...</td>\n      <td>...</td>\n      <td>...</td>\n      <td>...</td>\n      <td>...</td>\n      <td>...</td>\n      <td>...</td>\n      <td>...</td>\n      <td>...</td>\n      <td>...</td>\n    </tr>\n    <tr>\n      <th>3533</th>\n      <td>5033</td>\n      <td>5033</td>\n      <td>5033</td>\n      <td>5034</td>\n      <td>5034</td>\n      <td>64746c1337c1458c9452c9ad</td>\n      <td>Это не навсегда</td>\n      <td>NaN</td>\n      <td>2019</td>\n      <td>https://kinopoiskapiunofficial.tech/images/pos...</td>\n      <td>...</td>\n      <td>NaN</td>\n      <td>NaN</td>\n      <td>NaN</td>\n      <td>NaN</td>\n      <td>1232565</td>\n      <td>NaN</td>\n      <td>0.0</td>\n      <td>NaN</td>\n      <td>0</td>\n      <td>6.704</td>\n    </tr>\n    <tr>\n      <th>2572</th>\n      <td>4072</td>\n      <td>4072</td>\n      <td>4072</td>\n      <td>4073</td>\n      <td>4073</td>\n      <td>647468d837c1458c9452c5cd</td>\n      <td>Карман России</td>\n      <td>NaN</td>\n      <td>2021</td>\n      <td>https://kinopoiskapiunofficial.tech/images/pos...</td>\n      <td>...</td>\n      <td>NaN</td>\n      <td>NaN</td>\n      <td>NaN</td>\n      <td>NaN</td>\n      <td>4505456</td>\n      <td>NaN</td>\n      <td>0.0</td>\n      <td>NaN</td>\n      <td>0</td>\n      <td>8.140</td>\n    </tr>\n    <tr>\n      <th>1501</th>\n      <td>2180</td>\n      <td>2180</td>\n      <td>2180</td>\n      <td>2180</td>\n      <td>2180</td>\n      <td>6473b30437c1458c9452be3f</td>\n      <td>Человек, который знал всё</td>\n      <td>NaN</td>\n      <td>2009</td>\n      <td>https://kinopoiskapiunofficial.tech/images/pos...</td>\n      <td>...</td>\n      <td>NaN</td>\n      <td>NaN</td>\n      <td>NaN</td>\n      <td>NaN</td>\n      <td>406628</td>\n      <td>RUS</td>\n      <td>160916.0</td>\n      <td>USD</td>\n      <td>0</td>\n      <td>5.946</td>\n    </tr>\n    <tr>\n      <th>3522</th>\n      <td>5022</td>\n      <td>5022</td>\n      <td>5022</td>\n      <td>5023</td>\n      <td>5023</td>\n      <td>64746c1237c1458c9452c9a1</td>\n      <td>Беглецы</td>\n      <td>NaN</td>\n      <td>2017</td>\n      <td>https://kinopoiskapiunofficial.tech/images/pos...</td>\n      <td>...</td>\n      <td>NaN</td>\n      <td>NaN</td>\n      <td>NaN</td>\n      <td>NaN</td>\n      <td>811571</td>\n      <td>NaN</td>\n      <td>0.0</td>\n      <td>NaN</td>\n      <td>0</td>\n      <td>6.251</td>\n    </tr>\n    <tr>\n      <th>2219</th>\n      <td>3624</td>\n      <td>3624</td>\n      <td>3624</td>\n      <td>3625</td>\n      <td>3625</td>\n      <td>6474684137c1458c9452c3f9</td>\n      <td>Звёзды мне укажут путь</td>\n      <td>NaN</td>\n      <td>2022</td>\n      <td>https://kinopoiskapiunofficial.tech/images/pos...</td>\n      <td>...</td>\n      <td>NaN</td>\n      <td>NaN</td>\n      <td>NaN</td>\n      <td>NaN</td>\n      <td>1162851</td>\n      <td>NaN</td>\n      <td>0.0</td>\n      <td>NaN</td>\n      <td>0</td>\n      <td>7.329</td>\n    </tr>\n  </tbody>\n</table>\n<p>4438 rows × 96 columns</p>\n</div>"
     },
     "execution_count": 132,
     "metadata": {},
     "output_type": "execute_result"
    }
   ],
   "source": [
    "attestation.sort_values(by='directors', ascending=False)"
   ],
   "metadata": {
    "collapsed": false,
    "pycharm": {
     "name": "#%%\n"
    }
   }
  },
  {
   "cell_type": "code",
   "execution_count": 113,
   "outputs": [],
   "source": [
    "df = attestation.loc[(attestation['type'] == 'BUDGET') & (attestation['amount'] != 0)]"
   ],
   "metadata": {
    "collapsed": false,
    "pycharm": {
     "name": "#%%\n"
    }
   }
  },
  {
   "cell_type": "code",
   "execution_count": 114,
   "outputs": [
    {
     "data": {
      "text/plain": "(1152, 97)"
     },
     "execution_count": 114,
     "metadata": {},
     "output_type": "execute_result"
    }
   ],
   "source": [
    "df.shape"
   ],
   "metadata": {
    "collapsed": false,
    "pycharm": {
     "name": "#%%\n"
    }
   }
  },
  {
   "cell_type": "code",
   "execution_count": 117,
   "outputs": [
    {
     "data": {
      "text/plain": "6.741"
     },
     "execution_count": 117,
     "metadata": {},
     "output_type": "execute_result"
    }
   ],
   "source": [
    "round(df['rating'].loc[df['rating'] != 0].mean(), 3)"
   ],
   "metadata": {
    "collapsed": false,
    "pycharm": {
     "name": "#%%\n"
    }
   }
  },
  {
   "cell_type": "code",
   "execution_count": null,
   "outputs": [],
   "source": [],
   "metadata": {
    "collapsed": false,
    "pycharm": {
     "name": "#%%\n"
    }
   }
  }
 ],
 "metadata": {
  "kernelspec": {
   "display_name": "Python 3",
   "language": "python",
   "name": "python3"
  },
  "language_info": {
   "codemirror_mode": {
    "name": "ipython",
    "version": 2
   },
   "file_extension": ".py",
   "mimetype": "text/x-python",
   "name": "python",
   "nbconvert_exporter": "python",
   "pygments_lexer": "ipython2",
   "version": "2.7.6"
  }
 },
 "nbformat": 4,
 "nbformat_minor": 0
}