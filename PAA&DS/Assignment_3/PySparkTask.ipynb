{
 "cells": [
  {
   "cell_type": "code",
   "execution_count": null,
   "metadata": {
    "id": "95a6d223"
   },
   "outputs": [],
   "source": [
    "# Assignment #3 Vysotskiy Roman J4132c"
   ],
   "id": "95a6d223"
  },
  {
   "cell_type": "code",
   "execution_count": null,
   "metadata": {
    "colab": {
     "background_save": true
    },
    "id": "yPdPTCy_3AVp",
    "outputId": "3aff474e-f92d-498a-99b7-d15b1883f98d"
   },
   "outputs": [
    {
     "data": {
      "application/vnd.google.colaboratory.intrinsic+json": {
       "type": "string"
      },
      "text/plain": [
       "'\\nCreate spark session with 2 cores and 2g memory on a driver (you will work locally)\\n'"
      ]
     },
     "execution_count": 6,
     "metadata": {},
     "output_type": "execute_result"
    }
   ],
   "source": [
    "\"\"\"\n",
    "Create spark session with 2 cores and 2g memory on a driver (you will work locally)\n",
    "\"\"\""
   ],
   "id": "yPdPTCy_3AVp"
  },
  {
   "cell_type": "code",
   "execution_count": 1,
   "metadata": {
    "id": "AFNgCe_X3gmy"
   },
   "outputs": [],
   "source": [
    "!apt-get install openjdk-8-jdk-headless -qq > /dev/null\n",
    "!wget -q http://archive.apache.org/dist/spark/spark-3.1.1/spark-3.1.1-bin-hadoop3.2.tgz\n",
    "!tar xf spark-3.1.1-bin-hadoop3.2.tgz\n",
    "!pip install -q findspark\n",
    "\n",
    "import os\n",
    "os.environ[\"JAVA_HOME\"] = \"/usr/lib/jvm/java-8-openjdk-amd64\"\n",
    "os.environ[\"SPARK_HOME\"] = \"/content/spark-3.1.1-bin-hadoop3.2\""
   ],
   "id": "AFNgCe_X3gmy"
  },
  {
   "cell_type": "code",
   "execution_count": 2,
   "metadata": {
    "colab": {
     "base_uri": "https://localhost:8080/",
     "height": 216
    },
    "id": "Kx-OMDc83-e7",
    "outputId": "5fd5ebc9-adec-4a45-9805-9935432a32f0"
   },
   "outputs": [
    {
     "output_type": "execute_result",
     "data": {
      "text/plain": [
       "<pyspark.sql.session.SparkSession at 0x792e7d713d90>"
      ],
      "text/html": [
       "\n",
       "            <div>\n",
       "                <p><b>SparkSession - in-memory</b></p>\n",
       "                \n",
       "        <div>\n",
       "            <p><b>SparkContext</b></p>\n",
       "\n",
       "            <p><a href=\"http://cbf68dea278a:4040\">Spark UI</a></p>\n",
       "\n",
       "            <dl>\n",
       "              <dt>Version</dt>\n",
       "                <dd><code>v3.1.1</code></dd>\n",
       "              <dt>Master</dt>\n",
       "                <dd><code>local[*]</code></dd>\n",
       "              <dt>AppName</dt>\n",
       "                <dd><code>taskname</code></dd>\n",
       "            </dl>\n",
       "        </div>\n",
       "        \n",
       "            </div>\n",
       "        "
      ]
     },
     "metadata": {},
     "execution_count": 2
    }
   ],
   "source": [
    "import findspark\n",
    "findspark.init()\n",
    "\n",
    "from pyspark.sql import SparkSession\n",
    "spark = SparkSession.builder.master(\"local[*]\").appName(\"taskname\").config(\"spark.sql.repl.eagerEval.enabled\", True).getOrCreate()\n",
    "# spark.conf.set(\"spark.sql.repl.eagerEval.enabled\", True) # Property used to format output tables better\n",
    "spark"
   ],
   "id": "Kx-OMDc83-e7"
  },
  {
   "cell_type": "code",
   "execution_count": null,
   "metadata": {
    "id": "86645c15"
   },
   "outputs": [],
   "source": [
    "\"\"\"\n",
    "Using Spark UI link below you can see tasks submitted to spark\n",
    "Also you can see cached values\n",
    "\"\"\""
   ],
   "id": "86645c15"
  },
  {
   "cell_type": "code",
   "execution_count": 3,
   "metadata": {
    "colab": {
     "base_uri": "https://localhost:8080/",
     "height": 216
    },
    "id": "dbbd4481",
    "outputId": "2cecc698-d3ef-44db-caa7-264c7b8ceca7"
   },
   "outputs": [
    {
     "output_type": "execute_result",
     "data": {
      "text/plain": [
       "<pyspark.sql.session.SparkSession at 0x792e7d713d90>"
      ],
      "text/html": [
       "\n",
       "            <div>\n",
       "                <p><b>SparkSession - in-memory</b></p>\n",
       "                \n",
       "        <div>\n",
       "            <p><b>SparkContext</b></p>\n",
       "\n",
       "            <p><a href=\"http://cbf68dea278a:4040\">Spark UI</a></p>\n",
       "\n",
       "            <dl>\n",
       "              <dt>Version</dt>\n",
       "                <dd><code>v3.1.1</code></dd>\n",
       "              <dt>Master</dt>\n",
       "                <dd><code>local[*]</code></dd>\n",
       "              <dt>AppName</dt>\n",
       "                <dd><code>taskname</code></dd>\n",
       "            </dl>\n",
       "        </div>\n",
       "        \n",
       "            </div>\n",
       "        "
      ]
     },
     "metadata": {},
     "execution_count": 3
    }
   ],
   "source": [
    "spark"
   ],
   "id": "dbbd4481"
  },
  {
   "cell_type": "code",
   "execution_count": 4,
   "metadata": {
    "id": "d44d66b7"
   },
   "outputs": [],
   "source": [
    "import random\n",
    "\n",
    "from pyspark.sql import Row\n",
    "from pyspark.sql.types import StructType, StructField, StringType, IntegerType\n",
    "from pyspark.sql.functions import col, udf, monotonically_increasing_id, mean"
   ],
   "id": "d44d66b7"
  },
  {
   "cell_type": "code",
   "execution_count": null,
   "metadata": {
    "id": "ce61c61d"
   },
   "outputs": [],
   "source": [
    "\"\"\"\n",
    "Read dataset\n",
    "\"\"\""
   ],
   "id": "ce61c61d"
  },
  {
   "cell_type": "code",
   "execution_count": 5,
   "metadata": {
    "id": "DoyVfxnr4uRD",
    "colab": {
     "base_uri": "https://localhost:8080/"
    },
    "outputId": "619c686b-b411-46d3-aa6e-b440da8f8935"
   },
   "outputs": [
    {
     "output_type": "stream",
     "name": "stdout",
     "text": [
      "Mounted at /content/drive\n"
     ]
    }
   ],
   "source": [
    "from google.colab import drive\n",
    "drive.mount('/content/drive')"
   ],
   "id": "DoyVfxnr4uRD"
  },
  {
   "cell_type": "code",
   "execution_count": 6,
   "metadata": {
    "id": "17b4e8a6",
    "colab": {
     "base_uri": "https://localhost:8080/"
    },
    "outputId": "be1bb53f-85bd-4e66-ebd2-2efa1a47ea51"
   },
   "outputs": [
    {
     "output_type": "stream",
     "name": "stdout",
     "text": [
      "+----------------+------+---------+-------+-----------+--------------+----+-----+----------+-----+--------------------+-------+--------------------+------+---------+---------+---------------+---------+--------------------+---------------+-------------------+--------+--------------------+-----------+----+---------+--------------+-------+-----------+------------------+--------------------+-----------+\n",
      "|          artist|attack|cardClass|classes|collectible|collectionText|cost|dbfId|durability|elite|           entourage|faction|              flavor|health|hideStats|howToEarn|howToEarnGolden|       id|           mechanics|multiClassGroup|               name|overload|    playRequirements|playerClass|race|   rarity|referencedTags|    set|spellDamage|targetingArrowText|                text|       type|\n",
      "+----------------+------+---------+-------+-----------+--------------+----+-----+----------+-----+--------------------+-------+--------------------+------+---------+---------+---------------+---------+--------------------+---------------+-------------------+--------+--------------------+-----------+----+---------+--------------+-------+-----------+------------------+--------------------+-----------+\n",
      "|  Zoltan & Gabor|  null|   SHAMAN|   null|       true|          null|   2|  404|      null| null|                null|   null|It was just a fle...|  null|     null|     null|           null|  CS2_038|                null|           null|   Ancestral Spirit|    null|{null, null, null...|     SHAMAN|null|     RARE| [DEATHRATTLE]|EXPERT1|       null|              null|Give a minion \"<b...|      SPELL|\n",
      "|            null|  null|  NEUTRAL|   null|       null|          null|null| 2643|      null| null|[BRMA14_10, BRMA1...|   null|                null|  null|     null|     null|           null|   TB_001|                null|           null|    Boss HP Swapper|    null|                null|    NEUTRAL|null|     null|          null|     TB|       null|              null|                null|ENCHANTMENT|\n",
      "|            null|  null|  NEUTRAL|   null|       null|          null|   1| 2325|      null| null|                null|   null|                null|  null|     null|     null|           null| BRMA04_2|      [AI_MUST_PLAY]|           null|        Magma Pulse|    null|                null|    NEUTRAL|null|     null|          null|    BRM|       null|              null|<b>Hero Power</b>...| HERO_POWER|\n",
      "|   John Polidora|    10|  NEUTRAL|   null|       true|          null|   9| 2725|      null| true|                null|   null|This massive yeti...|    10|     null|     null|           null|   AT_125|            [CHARGE]|           null|            Icehowl|    null|                null|    NEUTRAL|null|LEGENDARY|          null|    TGT|       null|              null|<b>Charge</b>\n",
      "Can...|     MINION|\n",
      "|            null|  null|  WARRIOR|   null|       null|          null|null|  521|      null| null|                null|   null|                null|  null|     null|     null|           null|NEW1_036e|[TAG_ONE_TURN_EFF...|           null|   Commanding Shout|    null|                null|    WARRIOR|null|     null|          null|EXPERT1|       null|              null|Can't be reduced ...|ENCHANTMENT|\n",
      "|            null|     1|  NEUTRAL|   null|       null|          null|   1| 2399|      null| null|                null|   null|                null|     1|     null|     null|           null| BRMA15_4|            [CHARGE]|           null|         Aberration|    null|                null|    NEUTRAL|null|     null|          null|    BRM|       null|              null|       <b>Charge</b>|     MINION|\n",
      "|  Lucas Graciano|  null|  PALADIN|   null|       true|          null|   3|  679|      null| null|                null|   null|This is not just ...|  null|     null|     null|           null|  EX1_349|                null|           null|       Divine Favor|    null|                null|    PALADIN|null|     RARE|          null|EXPERT1|       null|              null|Draw cards until ...|      SPELL|\n",
      "|            null|  null|  NEUTRAL|   null|       null|          null|null| 2118|      null| null|                null|   null|                null|    99|     null|     null|           null| NAX6_01H|                null|           null|            Loatheb|    null|                null|    NEUTRAL|null|     null|          null|   NAXX|       null|              null|                null|       HERO|\n",
      "|Mauricio Herrera|  null|  NEUTRAL|   null|       null|          null|null|40572|      null| null|                null|   null|                null|  null|     null|     null|           null| CFM_755e|                null|           null|          Smuggling|    null|                null|    NEUTRAL|null|     null|          null|  GANGS|       null|              null|+1/+1 from Grimes...|ENCHANTMENT|\n",
      "|            null|     1|  NEUTRAL|   null|       null|          null|   1| 2424|      null| null|                null|   null|                null|     1|     null|     null|           null|BRMA02_2t|             [TAUNT]|           null|Dark Iron Spectator|    null|                null|    NEUTRAL|null|     null|          null|    BRM|       null|              null|        <b>Taunt</b>|     MINION|\n",
      "+----------------+------+---------+-------+-----------+--------------+----+-----+----------+-----+--------------------+-------+--------------------+------+---------+---------+---------------+---------+--------------------+---------------+-------------------+--------+--------------------+-----------+----+---------+--------------+-------+-----------+------------------+--------------------+-----------+\n",
      "only showing top 10 rows\n",
      "\n"
     ]
    }
   ],
   "source": [
    "data = spark.read.json('/content/drive/MyDrive/cards_(2).json') #('/content/cards_(2).json')\n",
    "data.show(10)"
   ],
   "id": "17b4e8a6"
  },
  {
   "cell_type": "code",
   "execution_count": null,
   "metadata": {
    "id": "29fc78b9"
   },
   "outputs": [],
   "source": [
    "\"\"\"\n",
    "Remove samples without artist name, attack and health value\n",
    "\"\"\""
   ],
   "id": "29fc78b9"
  },
  {
   "cell_type": "code",
   "execution_count": 7,
   "metadata": {
    "id": "04d7c437",
    "colab": {
     "base_uri": "https://localhost:8080/"
    },
    "outputId": "26051f39-6b67-4f3f-ea2a-1daf0af8dfb0"
   },
   "outputs": [
    {
     "output_type": "stream",
     "name": "stdout",
     "text": [
      "+--------------+------+---------+-------+-----------+--------------+----+-----+----------+-----+---------+--------+--------------------+------+---------+--------------------+--------------------+-------+-----------+---------------+-------------------+--------+--------------------+-----------+-----+---------+--------------+-------+-----------+------------------+--------------------+------+\n",
      "|        artist|attack|cardClass|classes|collectible|collectionText|cost|dbfId|durability|elite|entourage| faction|              flavor|health|hideStats|           howToEarn|     howToEarnGolden|     id|  mechanics|multiClassGroup|               name|overload|    playRequirements|playerClass| race|   rarity|referencedTags|    set|spellDamage|targetingArrowText|                text|  type|\n",
      "+--------------+------+---------+-------+-----------+--------------+----+-----+----------+-----+---------+--------+--------------------+------+---------+--------------------+--------------------+-------+-----------+---------------+-------------------+--------+--------------------+-----------+-----+---------+--------------+-------+-----------+------------------+--------------------+------+\n",
      "| John Polidora|    10|  NEUTRAL|   null|       true|          null|   9| 2725|      null| true|     null|    null|This massive yeti...|    10|     null|                null|                null| AT_125|   [CHARGE]|           null|            Icehowl|    null|                null|    NEUTRAL| null|LEGENDARY|          null|    TGT|       null|              null|<b>Charge</b>\n",
      "Can...|MINION|\n",
      "|    Glenn Rane|     3|  NEUTRAL|   null|       true|          null|   4| 1799|      null| null|     null|    null|This soul just <i...|     5|     null|Unlocked in The C...|Crafting unlocked...|FP1_016|[BATTLECRY]|           null|       Wailing Soul|    null|                null|    NEUTRAL| null|     RARE|     [SILENCE]|   NAXX|       null|              null|<b>Battlecry: Sil...|MINION|\n",
      "|   James Ryman|     2|  NEUTRAL|   null|       true|          null|   2|  891|      null| null|     null|ALLIANCE|She carries a shi...|     3|     null|                null|                null|EX1_058|[BATTLECRY]|           null|  Sunfury Protector|    null|                null|    NEUTRAL| null|     RARE|       [TAUNT]|EXPERT1|       null|              null|<b>Battlecry:</b>...|MINION|\n",
      "|  George Davis|     2|  WARLOCK|   null|       true|          null|   2| 2895|      null| null|     null|    null|I'm offering you ...|     2|     null|Unlocked in the T...|Crafting unlocked...|LOE_023|[BATTLECRY]|           null|       Dark Peddler|    null|                null|    WARLOCK| null|   COMMON|    [DISCOVER]|    LOE|       null|              null|<b>Battlecry: Dis...|MINION|\n",
      "| Garrett Hanna|     5|  NEUTRAL|   null|       true|          null|   4|40607|      null| true|     null|    null|Infamous in the s...|     4|     null|                null|                null|CFM_808|       null|           null|   Genzo, the Shark|    null|                null|    NEUTRAL| null|LEGENDARY|          null|  GANGS|       null|              null|Whenever this att...|MINION|\n",
      "|Wayne Reynolds|     1|  WARLOCK|   null|       true|          null|   1|13334|      null| null|     null|    null|The Reliquary con...|     1|     null|Unlocked in Uldam...|Crafting unlocked...|LOE_116|[BATTLECRY]|           null|   Reliquary Seeker|    null|                null|    WARLOCK| null|     RARE|          null|    LOE|       null|              null|<b>Battlecry:</b>...|MINION|\n",
      "|       Samwise|     4|  NEUTRAL|   null|       true|          null|   3| 1109|      null| null|     null|   HORDE|He claims it is a...|     7|     null|                null|                null|CS2_181|[BATTLECRY]|           null|Injured Blademaster|    null|                null|    NEUTRAL| null|     RARE|          null|EXPERT1|       null|              null|<b>Battlecry:</b>...|MINION|\n",
      "| Ralph Horsley|     6|  NEUTRAL|   null|       true|          null|   5| 2088|      null| true|     null|    null|It's hard to make...|     3|     null|                null|                null|GVG_120|[BATTLECRY]|           null|   Hemet Nesingwary|    null|{null, null, null...|    NEUTRAL| null|LEGENDARY|          null|    GVG|       null|  Destroy a Beast.|<b>Battlecry:</b>...|MINION|\n",
      "|     E.M. Gist|     9|  NEUTRAL|   null|       true|          null|   7| 1687|      null| null|     null|    null|You don’t tame a ...|     5|     null|                null|Unlocked at Hunte...|CS2_201|       null|           null|         Core Hound|    null|                null|    NEUTRAL|BEAST|   COMMON|          null|   CORE|       null|              null|                null|MINION|\n",
      "|    Adam Byrne|     3|   HUNTER|   null|       true|          null|   2|40684|      null| null|     null|    null|Still angry that ...|     2|     null|                null|                null|CFM_338|[BATTLECRY]|           null|   Trogg Beastrager|    null|                null|     HUNTER| null|     RARE|          null|  GANGS|       null|              null|<b>Battlecry:</b>...|MINION|\n",
      "+--------------+------+---------+-------+-----------+--------------+----+-----+----------+-----+---------+--------+--------------------+------+---------+--------------------+--------------------+-------+-----------+---------------+-------------------+--------+--------------------+-----------+-----+---------+--------------+-------+-----------+------------------+--------------------+------+\n",
      "only showing top 10 rows\n",
      "\n"
     ]
    }
   ],
   "source": [
    "data_authors = data.na.drop(subset=[\"artist\",\"attack\", \"health\"]).cache() # remember about .cache() operation\n",
    "data_authors.show(10)"
   ],
   "id": "04d7c437"
  },
  {
   "cell_type": "code",
   "execution_count": null,
   "metadata": {
    "id": "41ba603c",
    "colab": {
     "base_uri": "https://localhost:8080/",
     "height": 35
    },
    "outputId": "7cf88df5-b5ad-42db-d4f8-1b6205363cf6"
   },
   "outputs": [
    {
     "output_type": "execute_result",
     "data": {
      "text/plain": [
       "'\\nFor each column print the number of non Null rows and number of unique rows\\n'"
      ],
      "application/vnd.google.colaboratory.intrinsic+json": {
       "type": "string"
      }
     },
     "metadata": {},
     "execution_count": 25
    }
   ],
   "source": [
    "\"\"\"\n",
    "For each column print the number of non Null rows and number of unique rows\n",
    "\"\"\""
   ],
   "id": "41ba603c"
  },
  {
   "cell_type": "code",
   "execution_count": 8,
   "metadata": {
    "id": "f1bda4cb",
    "colab": {
     "base_uri": "https://localhost:8080/"
    },
    "outputId": "cbbba1ae-f3e6-433e-dbfe-328979496f88"
   },
   "outputs": [
    {
     "output_type": "stream",
     "name": "stdout",
     "text": [
      "artist. Non empty: 829\tUnique values: 234\n",
      "attack. Non empty: 829\tUnique values: 31\n",
      "cardClass. Non empty: 829\tUnique values: 10\n",
      "classes. Non empty: 9\tUnique values: 4\n",
      "collectible. Non empty: 731\tUnique values: 2\n",
      "collectionText. Non empty: 5\tUnique values: 6\n",
      "cost. Non empty: 829\tUnique values: 14\n",
      "dbfId. Non empty: 829\tUnique values: 829\n",
      "durability. Non empty: 0\tUnique values: 1\n",
      "elite. Non empty: 141\tUnique values: 2\n",
      "entourage. Non empty: 6\tUnique values: 7\n",
      "faction. Non empty: 60\tUnique values: 3\n",
      "flavor. Non empty: 731\tUnique values: 732\n",
      "health. Non empty: 829\tUnique values: 30\n",
      "hideStats. Non empty: 2\tUnique values: 2\n",
      "howToEarn. Non empty: 136\tUnique values: 27\n",
      "howToEarnGolden. Non empty: 181\tUnique values: 77\n",
      "id. Non empty: 829\tUnique values: 829\n",
      "mechanics. Non empty: 553\tUnique values: 49\n",
      "multiClassGroup. Non empty: 9\tUnique values: 4\n",
      "name. Non empty: 829\tUnique values: 791\n",
      "overload. Non empty: 9\tUnique values: 4\n",
      "playRequirements. Non empty: 81\tUnique values: 34\n",
      "playerClass. Non empty: 829\tUnique values: 10\n",
      "race. Non empty: 240\tUnique values: 8\n",
      "rarity. Non empty: 744\tUnique values: 6\n",
      "referencedTags. Non empty: 131\tUnique values: 23\n",
      "set. Non empty: 829\tUnique values: 12\n",
      "spellDamage. Non empty: 14\tUnique values: 4\n",
      "targetingArrowText. Non empty: 49\tUnique values: 40\n",
      "text. Non empty: 734\tUnique values: 648\n",
      "type. Non empty: 829\tUnique values: 1\n"
     ]
    }
   ],
   "source": [
    "for column_name in data_authors.columns:\n",
    "    rows_number_not_empty = data_authors.filter(col(column_name).isNotNull()).count()\n",
    "    rows_number_unique = data_authors.select(column_name).distinct().count() # distinct operation may help\n",
    "\n",
    "    print('{}. Non empty: {}\\tUnique values: {}'.format(column_name, rows_number_not_empty, rows_number_unique))"
   ],
   "id": "f1bda4cb"
  },
  {
   "cell_type": "code",
   "execution_count": 9,
   "metadata": {
    "id": "d472c55f",
    "colab": {
     "base_uri": "https://localhost:8080/"
    },
    "outputId": "06e6ea99-2e02-4123-a2ee-d26117316f63"
   },
   "outputs": [
    {
     "output_type": "stream",
     "name": "stdout",
     "text": [
      "+----------+\n",
      "|      race|\n",
      "+----------+\n",
      "|MECHANICAL|\n",
      "|      null|\n",
      "|    MURLOC|\n",
      "|    DRAGON|\n",
      "|     TOTEM|\n",
      "|     BEAST|\n",
      "|     DEMON|\n",
      "|    PIRATE|\n",
      "+----------+\n",
      "\n"
     ]
    }
   ],
   "source": [
    "data_authors.select('race').distinct().show()"
   ],
   "id": "d472c55f"
  },
  {
   "cell_type": "code",
   "execution_count": 10,
   "metadata": {
    "id": "d0fa9764",
    "colab": {
     "base_uri": "https://localhost:8080/"
    },
    "outputId": "868d287f-6600-4269-8651-17a85d821c47"
   },
   "outputs": [
    {
     "output_type": "stream",
     "name": "stdout",
     "text": [
      "+---------+\n",
      "|   rarity|\n",
      "+---------+\n",
      "|     null|\n",
      "|     FREE|\n",
      "|     EPIC|\n",
      "|     RARE|\n",
      "|   COMMON|\n",
      "|LEGENDARY|\n",
      "+---------+\n",
      "\n"
     ]
    }
   ],
   "source": [
    "data_authors.select('rarity').distinct().show()"
   ],
   "id": "d0fa9764"
  },
  {
   "cell_type": "code",
   "execution_count": 11,
   "metadata": {
    "id": "37c5d1d1"
   },
   "outputs": [],
   "source": [
    "str2int_rarity = {\n",
    "    'FREE': 1,\n",
    "    'COMMON': 2,\n",
    "    'RARE': 3,\n",
    "    'LEGENDARY': 4,\n",
    "    'EPIC': 5,\n",
    "    'NULL': 0\n",
    "}"
   ],
   "id": "37c5d1d1"
  },
  {
   "cell_type": "code",
   "execution_count": null,
   "metadata": {
    "id": "6d33c1f3"
   },
   "outputs": [],
   "source": [
    "\"\"\"\n",
    "Using dict above - create a new column with name \"rarity_int\", where each string will be\n",
    "converted to an integer\n",
    "\n",
    "Operation \"col\" return \"pointer\" to required column\n",
    "\"\"\""
   ],
   "id": "6d33c1f3"
  },
  {
   "cell_type": "code",
   "execution_count": 12,
   "metadata": {
    "id": "74ea05ec"
   },
   "outputs": [],
   "source": [
    "data_authors = data_authors.withColumn('rarity_int', udf(lambda x: str2int_rarity.get(x, 0), IntegerType())(col('rarity')))"
   ],
   "id": "74ea05ec"
  },
  {
   "cell_type": "code",
   "execution_count": null,
   "metadata": {
    "id": "7ce9d38e"
   },
   "outputs": [],
   "source": [
    "\"\"\"\n",
    "Calculate average rarity of each race\n",
    "\"\"\""
   ],
   "id": "7ce9d38e"
  },
  {
   "cell_type": "code",
   "execution_count": 13,
   "metadata": {
    "id": "dcdfdd8e",
    "colab": {
     "base_uri": "https://localhost:8080/"
    },
    "outputId": "75998ac2-396b-4ab0-fa8a-8dde2a975710"
   },
   "outputs": [
    {
     "output_type": "stream",
     "name": "stdout",
     "text": [
      "+----------+------------------+\n",
      "|      race|    average rarity|\n",
      "+----------+------------------+\n",
      "|MECHANICAL|3.0185185185185186|\n",
      "|      null|2.6536502546689302|\n",
      "|    MURLOC| 2.652173913043478|\n",
      "|    DRAGON|3.2222222222222223|\n",
      "|     TOTEM|               2.5|\n",
      "|     BEAST|               2.3|\n",
      "|     DEMON|2.3333333333333335|\n",
      "|    PIRATE|2.8947368421052633|\n",
      "+----------+------------------+\n",
      "\n"
     ]
    }
   ],
   "source": [
    "data_authors.groupby('race').agg(mean('rarity_int').alias('average rarity')).show(10)"
   ],
   "id": "dcdfdd8e"
  },
  {
   "cell_type": "code",
   "execution_count": 14,
   "metadata": {
    "id": "3341b101"
   },
   "outputs": [],
   "source": [
    "@udf(returnType=IntegerType())\n",
    "def calculate_number_of_attacks(health, attack):\n",
    "    if attack == 0:\n",
    "        return -1\n",
    "    return health // attack + (0 if health % attack == 0 else 1)"
   ],
   "id": "3341b101"
  },
  {
   "cell_type": "code",
   "execution_count": null,
   "metadata": {
    "id": "522b9a48"
   },
   "outputs": [],
   "source": [
    "\"\"\"\n",
    "Using udf defined above, calculate how many attacks needed for each card to kill itself\n",
    "\"\"\""
   ],
   "id": "522b9a48"
  },
  {
   "cell_type": "code",
   "execution_count": 15,
   "metadata": {
    "id": "b11d4aab"
   },
   "outputs": [],
   "source": [
    "data_authors_2 = data_authors.withColumn('Attack to kill itself', calculate_number_of_attacks(col(\"health\"), col(\"attack\"))).select('health', 'attack', 'Attack to kill itself')"
   ],
   "id": "b11d4aab"
  },
  {
   "cell_type": "code",
   "execution_count": 16,
   "metadata": {
    "id": "8b09750f",
    "colab": {
     "base_uri": "https://localhost:8080/"
    },
    "outputId": "1d2be8dd-7312-4980-dfea-23d35c8314cc"
   },
   "outputs": [
    {
     "output_type": "stream",
     "name": "stdout",
     "text": [
      "+------+------+---------------------+\n",
      "|health|attack|Attack to kill itself|\n",
      "+------+------+---------------------+\n",
      "|    10|    10|                    1|\n",
      "|     5|     3|                    2|\n",
      "|     3|     2|                    2|\n",
      "|     2|     2|                    1|\n",
      "|     4|     5|                    1|\n",
      "+------+------+---------------------+\n",
      "only showing top 5 rows\n",
      "\n"
     ]
    }
   ],
   "source": [
    "data_authors_2.show(5)"
   ],
   "id": "8b09750f"
  },
  {
   "cell_type": "code",
   "execution_count": null,
   "metadata": {
    "id": "96964a15"
   },
   "outputs": [],
   "source": [
    "\"\"\"\n",
    "Here some work on randomizing indexes for dataframe\n",
    "It is not always easy to assign unique values for each row non-monotonically\n",
    "\"\"\""
   ],
   "id": "96964a15"
  },
  {
   "cell_type": "code",
   "execution_count": 17,
   "metadata": {
    "id": "0e8bd40b"
   },
   "outputs": [],
   "source": [
    "random_ids_left = list(range(data_authors.count() + 1))\n",
    "random_ids_right = list(range(data_authors.count() + 1))"
   ],
   "id": "0e8bd40b"
  },
  {
   "cell_type": "code",
   "execution_count": 18,
   "metadata": {
    "id": "81985c93"
   },
   "outputs": [],
   "source": [
    "random.shuffle(random_ids_left)\n",
    "random.shuffle(random_ids_right)"
   ],
   "id": "81985c93"
  },
  {
   "cell_type": "code",
   "execution_count": null,
   "metadata": {
    "id": "6d348e84"
   },
   "outputs": [],
   "source": [
    "\"\"\"\n",
    "Create monotonic id\n",
    "\"\"\""
   ],
   "id": "6d348e84"
  },
  {
   "cell_type": "code",
   "execution_count": 19,
   "metadata": {
    "id": "852c4acd"
   },
   "outputs": [],
   "source": [
    "data_authors = data_authors.withColumn('unique_id', monotonically_increasing_id())"
   ],
   "id": "852c4acd"
  },
  {
   "cell_type": "code",
   "execution_count": null,
   "metadata": {
    "id": "a37dc16b"
   },
   "outputs": [],
   "source": [
    "\"\"\"\n",
    "Create left and right indexes for each sample. You will use them for join operation\n",
    "\"\"\""
   ],
   "id": "a37dc16b"
  },
  {
   "cell_type": "code",
   "execution_count": 20,
   "metadata": {
    "id": "c1900417"
   },
   "outputs": [],
   "source": [
    "data_authors = data_authors.withColumn('left_id', udf(lambda x: random_ids_left[x], IntegerType())(col('unique_id')))\n",
    "data_authors = data_authors.withColumn('right_id', udf(lambda x: random_ids_right[x], IntegerType())(col('unique_id'))).cache()"
   ],
   "id": "c1900417"
  },
  {
   "cell_type": "code",
   "execution_count": 21,
   "metadata": {
    "id": "f242655f",
    "colab": {
     "base_uri": "https://localhost:8080/"
    },
    "outputId": "a6386523-3765-40f1-8150-215e0b2c3dde"
   },
   "outputs": [
    {
     "output_type": "execute_result",
     "data": {
      "text/plain": [
       "829"
      ]
     },
     "metadata": {},
     "execution_count": 21
    }
   ],
   "source": [
    "data_authors.count()"
   ],
   "id": "f242655f"
  },
  {
   "cell_type": "code",
   "execution_count": null,
   "metadata": {
    "id": "5862fa85"
   },
   "outputs": [],
   "source": [
    "\"\"\"\n",
    "For each sample you need to select another sample, where left_id == right_id and create new row\n",
    "Resulting dataframe consists of [left_id, name, attack, health, right_id, right_name, right_attack, right_health]\n",
    "\"\"\""
   ],
   "id": "5862fa85"
  },
  {
   "cell_type": "code",
   "execution_count": null,
   "metadata": {
    "id": "3a8b57a6"
   },
   "outputs": [],
   "source": [
    "\"\"\"\n",
    "Small hint: data_authors.select(col('name').alias('right_name'))\n",
    "\"\"\""
   ],
   "id": "3a8b57a6"
  },
  {
   "cell_type": "code",
   "execution_count": null,
   "metadata": {
    "id": "e27fa355"
   },
   "outputs": [],
   "source": [
    "\"\"\"\n",
    "Small hint: you can join table with itself\n",
    "\"\"\""
   ],
   "id": "e27fa355"
  },
  {
   "cell_type": "code",
   "source": [
    "data_crossed = data_authors.alias(\"left\").join(data_authors.alias(\"right\"),\n",
    "    col(\"left.left_id\") == col(\"right.right_id\"), \"inner\")\n",
    "\n",
    "data_crossed.show(10)"
   ],
   "metadata": {
    "colab": {
     "base_uri": "https://localhost:8080/"
    },
    "id": "Pv0na0OWCtnS",
    "outputId": "2acb42a4-dde9-4e69-8cbe-3651a78eabca"
   },
   "id": "Pv0na0OWCtnS",
   "execution_count": 53,
   "outputs": [
    {
     "output_type": "stream",
     "name": "stdout",
     "text": [
      "+--------------+------+---------+-------+-----------+--------------+----+-----+----------+-----+---------+--------+--------------------+------+---------+--------------------+--------------------+-------+-----------+---------------+-------------------+--------+--------------------+-----------+-----+---------+--------------+-------+-----------+------------------+--------------------+------+----------+---------+-------+--------+-----------------+------+---------+-------+-----------+--------------+----+-----+----------+-----+---------+-------+--------------------+------+---------+--------------------+--------------------+--------+-----------+---------------+--------------------+--------+----------------+-----------+----------+---------+--------------+-------+-----------+------------------+--------------------+------+----------+---------+-------+--------+\n",
      "|        artist|attack|cardClass|classes|collectible|collectionText|cost|dbfId|durability|elite|entourage| faction|              flavor|health|hideStats|           howToEarn|     howToEarnGolden|     id|  mechanics|multiClassGroup|               name|overload|    playRequirements|playerClass| race|   rarity|referencedTags|    set|spellDamage|targetingArrowText|                text|  type|rarity_int|unique_id|left_id|right_id|           artist|attack|cardClass|classes|collectible|collectionText|cost|dbfId|durability|elite|entourage|faction|              flavor|health|hideStats|           howToEarn|     howToEarnGolden|      id|  mechanics|multiClassGroup|                name|overload|playRequirements|playerClass|      race|   rarity|referencedTags|    set|spellDamage|targetingArrowText|                text|  type|rarity_int|unique_id|left_id|right_id|\n",
      "+--------------+------+---------+-------+-----------+--------------+----+-----+----------+-----+---------+--------+--------------------+------+---------+--------------------+--------------------+-------+-----------+---------------+-------------------+--------+--------------------+-----------+-----+---------+--------------+-------+-----------+------------------+--------------------+------+----------+---------+-------+--------+-----------------+------+---------+-------+-----------+--------------+----+-----+----------+-----+---------+-------+--------------------+------+---------+--------------------+--------------------+--------+-----------+---------------+--------------------+--------+----------------+-----------+----------+---------+--------------+-------+-----------+------------------+--------------------+------+----------+---------+-------+--------+\n",
      "| John Polidora|    10|  NEUTRAL|   null|       true|          null|   9| 2725|      null| true|     null|    null|This massive yeti...|    10|     null|                null|                null| AT_125|   [CHARGE]|           null|            Icehowl|    null|                null|    NEUTRAL| null|LEGENDARY|          null|    TGT|       null|              null|<b>Charge</b>\n",
      "Can...|MINION|         4|        0|    567|     763|  Anton Magdalina|     4|  NEUTRAL|   null|       true|          null|   3|40921|      null| null|     null|   null|When Sergeant Sal...|     3|     null|                null|                null| CFM_655|[BATTLECRY]|           null|    Toxic Sewer Ooze|    null|            null|    NEUTRAL|      null|   COMMON|          null|  GANGS|       null|              null|<b>Battlecry:</b>...|MINION|         2|      570|    222|     567|\n",
      "|    Glenn Rane|     3|  NEUTRAL|   null|       true|          null|   4| 1799|      null| null|     null|    null|This soul just <i...|     5|     null|Unlocked in The C...|Crafting unlocked...|FP1_016|[BATTLECRY]|           null|       Wailing Soul|    null|                null|    NEUTRAL| null|     RARE|     [SILENCE]|   NAXX|       null|              null|<b>Battlecry: Sil...|MINION|         3|        1|    592|     446|     Zolton Boros|     3|    ROGUE|   null|       true|          null|   2| 1988|      null| null|     null|   null|This guy is excel...|     2|     null|                null|                null| GVG_023|[BATTLECRY]|           null|  Goblin Auto-Barber|    null|            null|      ROGUE|MECHANICAL|   COMMON|          null|    GVG|       null|              null|<b>Battlecry:</b>...|MINION|         2|      656|    191|     592|\n",
      "|   James Ryman|     2|  NEUTRAL|   null|       true|          null|   2|  891|      null| null|     null|ALLIANCE|She carries a shi...|     3|     null|                null|                null|EX1_058|[BATTLECRY]|           null|  Sunfury Protector|    null|                null|    NEUTRAL| null|     RARE|       [TAUNT]|EXPERT1|       null|              null|<b>Battlecry:</b>...|MINION|         3|        2|    662|     644|Arthur Gimaldinov|     3|   PRIEST|   null|       true|          null|   5|39374|      null| null|     null|   null|B4 is a nice plac...|     4|     null|Unlocked in the O...|Crafting unlocked...| KAR_204|[BATTLECRY]|           null|         Onyx Bishop|    null|            null|     PRIEST|      null|     RARE|          null|   KARA|       null|              null|<b>Battlecry:</b>...|MINION|         3|       31|    109|     662|\n",
      "|  George Davis|     2|  WARLOCK|   null|       true|          null|   2| 2895|      null| null|     null|    null|I'm offering you ...|     2|     null|Unlocked in the T...|Crafting unlocked...|LOE_023|[BATTLECRY]|           null|       Dark Peddler|    null|                null|    WARLOCK| null|   COMMON|    [DISCOVER]|    LOE|       null|              null|<b>Battlecry: Dis...|MINION|         2|        3|    160|     379|           Ittoku|     2|  NEUTRAL|   null|       true|          null|   3| 1784|      null| null|     null|   null|The Shades of Nax...|     2|     null|Unlocked in Frost...|Crafting unlocked...| FP1_005|  [STEALTH]|           null|  Shade of Naxxramas|    null|            null|    NEUTRAL|      null|     EPIC|          null|   NAXX|       null|              null|<b>Stealth.</b> A...|MINION|         5|      310|    324|     160|\n",
      "| Garrett Hanna|     5|  NEUTRAL|   null|       true|          null|   4|40607|      null| true|     null|    null|Infamous in the s...|     4|     null|                null|                null|CFM_808|       null|           null|   Genzo, the Shark|    null|                null|    NEUTRAL| null|LEGENDARY|          null|  GANGS|       null|              null|Whenever this att...|MINION|         4|        4|    525|     520|      James Ryman|     2|  NEUTRAL|   null|       true|          null|   2|38538|      null| null|     null|   null|Bile actually mak...|     1|     null|                null|                null|  OG_156|[BATTLECRY]|           null|  Bilefin Tidehunter|    null|            null|    NEUTRAL|    MURLOC|   COMMON|       [TAUNT]|     OG|       null|              null|<b>Battlecry:</b>...|MINION|         2|      103|    482|     525|\n",
      "|Wayne Reynolds|     1|  WARLOCK|   null|       true|          null|   1|13334|      null| null|     null|    null|The Reliquary con...|     1|     null|Unlocked in Uldam...|Crafting unlocked...|LOE_116|[BATTLECRY]|           null|   Reliquary Seeker|    null|                null|    WARLOCK| null|     RARE|          null|    LOE|       null|              null|<b>Battlecry:</b>...|MINION|         3|        5|    118|      55|         Wei Wang|     7|   PRIEST|   null|       true|          null|   7|    9|      null| true|     null|   null|He's been exiled ...|     7|     null|                null|                null| EX1_350|       null|           null|       Prophet Velen|    null|            null|     PRIEST|      null|LEGENDARY|          null|EXPERT1|       null|              null|Double the damage...|MINION|         4|      614|    311|     118|\n",
      "|       Samwise|     4|  NEUTRAL|   null|       true|          null|   3| 1109|      null| null|     null|   HORDE|He claims it is a...|     7|     null|                null|                null|CS2_181|[BATTLECRY]|           null|Injured Blademaster|    null|                null|    NEUTRAL| null|     RARE|          null|EXPERT1|       null|              null|<b>Battlecry:</b>...|MINION|         3|        6|    461|     401|    Ralph Horsley|     1|  NEUTRAL|   null|       true|          null|   2|39554|      null| null|     null|   null|She can tell you ...|     3|     null|Unlocked in the S...|Crafting unlocked...| KAR_062|[BATTLECRY]|           null|Netherspite Histo...|    null|            null|    NEUTRAL|      null|   COMMON|    [DISCOVER]|   KARA|       null|              null|<b>Battlecry:</b>...|MINION|         2|      410|    804|     461|\n",
      "| Ralph Horsley|     6|  NEUTRAL|   null|       true|          null|   5| 2088|      null| true|     null|    null|It's hard to make...|     3|     null|                null|                null|GVG_120|[BATTLECRY]|           null|   Hemet Nesingwary|    null|{null, null, null...|    NEUTRAL| null|LEGENDARY|          null|    GVG|       null|  Destroy a Beast.|<b>Battlecry:</b>...|MINION|         4|        7|    456|     264|      Bernie Kang|    12|  NEUTRAL|   null|       true|          null|  10|  834|      null| true|     null|   null|Once a noble drag...|    12|     null|                null|                null|NEW1_030|[BATTLECRY]|           null|           Deathwing|    null|            null|    NEUTRAL|    DRAGON|LEGENDARY|          null|EXPERT1|       null|              null|<b>Battlecry:</b>...|MINION|         4|      809|    401|     456|\n",
      "|     E.M. Gist|     9|  NEUTRAL|   null|       true|          null|   7| 1687|      null| null|     null|    null|You don’t tame a ...|     5|     null|                null|Unlocked at Hunte...|CS2_201|       null|           null|         Core Hound|    null|                null|    NEUTRAL|BEAST|   COMMON|          null|   CORE|       null|              null|                null|MINION|         2|        8|    781|     172|      Sam Nielson|     5|  NEUTRAL|   null|       true|          null|   6|38468|      null| true|     null|   null|Pro tip: DO NOT B...|     5|     null|                null|                null|  OG_122|[BATTLECRY]|           null|Mukla, Tyrant of ...|    null|            null|    NEUTRAL|     BEAST|LEGENDARY|          null|     OG|       null|              null|<b>Battlecry:</b>...|MINION|         4|      329|    607|     781|\n",
      "|    Adam Byrne|     3|   HUNTER|   null|       true|          null|   2|40684|      null| null|     null|    null|Still angry that ...|     2|     null|                null|                null|CFM_338|[BATTLECRY]|           null|   Trogg Beastrager|    null|                null|     HUNTER| null|     RARE|          null|  GANGS|       null|              null|<b>Battlecry:</b>...|MINION|         3|        9|    741|     328|      Howard Lyon|     2|  NEUTRAL|   null|       true|          null|   6| 1791|      null| true|     null|   null|Maexxna gets supe...|     8|     null|Unlocked in The A...|Crafting unlocked...| FP1_010|[POISONOUS]|           null|             Maexxna|    null|            null|    NEUTRAL|     BEAST|LEGENDARY|          null|   NAXX|       null|              null|Destroy any minio...|MINION|         4|      514|    165|     741|\n",
      "+--------------+------+---------+-------+-----------+--------------+----+-----+----------+-----+---------+--------+--------------------+------+---------+--------------------+--------------------+-------+-----------+---------------+-------------------+--------+--------------------+-----------+-----+---------+--------------+-------+-----------+------------------+--------------------+------+----------+---------+-------+--------+-----------------+------+---------+-------+-----------+--------------+----+-----+----------+-----+---------+-------+--------------------+------+---------+--------------------+--------------------+--------+-----------+---------------+--------------------+--------+----------------+-----------+----------+---------+--------------+-------+-----------+------------------+--------------------+------+----------+---------+-------+--------+\n",
      "only showing top 10 rows\n",
      "\n"
     ]
    }
   ]
  },
  {
   "cell_type": "code",
   "source": [
    "data_crossed = data_crossed.select(col('left.left_id'),\n",
    "                                   col('left.name'), col('left.attack'),\n",
    "                                   col('left.health'),\n",
    "                                   col('right.right_id'), col('right.name').alias('right_name'),\n",
    "                                   col('right.attack').alias('right_attack'), col('right.health').alias('right_health'))\n",
    "\n",
    "data_crossed.show(10)"
   ],
   "metadata": {
    "colab": {
     "base_uri": "https://localhost:8080/"
    },
    "id": "i9sS_25REJ9q",
    "outputId": "3e2575c6-edba-4f2b-8a49-19ba752a55f4"
   },
   "id": "i9sS_25REJ9q",
   "execution_count": 54,
   "outputs": [
    {
     "output_type": "stream",
     "name": "stdout",
     "text": [
      "+-------+-------------------+------+------+--------+--------------------+------------+------------+\n",
      "|left_id|               name|attack|health|right_id|          right_name|right_attack|right_health|\n",
      "+-------+-------------------+------+------+--------+--------------------+------------+------------+\n",
      "|    567|            Icehowl|    10|    10|     567|    Toxic Sewer Ooze|           4|           3|\n",
      "|    592|       Wailing Soul|     3|     5|     592|  Goblin Auto-Barber|           3|           2|\n",
      "|    662|  Sunfury Protector|     2|     3|     662|         Onyx Bishop|           3|           4|\n",
      "|    160|       Dark Peddler|     2|     2|     160|  Shade of Naxxramas|           2|           2|\n",
      "|    525|   Genzo, the Shark|     5|     4|     525|  Bilefin Tidehunter|           2|           1|\n",
      "|    118|   Reliquary Seeker|     1|     1|     118|       Prophet Velen|           7|           7|\n",
      "|    461|Injured Blademaster|     4|     7|     461|Netherspite Histo...|           1|           3|\n",
      "|    456|   Hemet Nesingwary|     6|     3|     456|           Deathwing|          12|          12|\n",
      "|    781|         Core Hound|     9|     5|     781|Mukla, Tyrant of ...|           5|           5|\n",
      "|    741|   Trogg Beastrager|     3|     2|     741|             Maexxna|           2|           8|\n",
      "+-------+-------------------+------+------+--------+--------------------+------------+------------+\n",
      "only showing top 10 rows\n",
      "\n"
     ]
    }
   ]
  },
  {
   "cell_type": "code",
   "execution_count": null,
   "metadata": {
    "id": "d5f9c823"
   },
   "outputs": [],
   "source": [
    "\"\"\"\n",
    "Now calculate how many attacks required for left card to kill right card\n",
    "\"\"\""
   ],
   "id": "d5f9c823"
  },
  {
   "cell_type": "code",
   "execution_count": 55,
   "metadata": {
    "id": "289636d2"
   },
   "outputs": [],
   "source": [
    "data_crossed = data_crossed.withColumn('Attacks to kill', calculate_number_of_attacks(col('right_health'), col('attack')))"
   ],
   "id": "289636d2"
  },
  {
   "cell_type": "code",
   "execution_count": 56,
   "metadata": {
    "id": "07e7d52c",
    "colab": {
     "base_uri": "https://localhost:8080/"
    },
    "outputId": "1acf5822-71df-4920-c739-0fb6c0e4598c"
   },
   "outputs": [
    {
     "output_type": "stream",
     "name": "stdout",
     "text": [
      "+-------+--------------------+------+------+--------+----------+------------+------------+---------------+\n",
      "|left_id|                name|attack|health|right_id|right_name|right_attack|right_health|Attacks to kill|\n",
      "+-------+--------------------+------+------+--------+----------+------------+------------+---------------+\n",
      "|    344|Arcane Nullifier ...|     2|     5|     344|Jade Golem|          25|          25|             13|\n",
      "|    804|Netherspite Histo...|     1|     3|     804|Jade Golem|          21|          21|             21|\n",
      "|    106|             Piranha|     1|     1|     106|     Ysera|           4|          12|             12|\n",
      "|    298|            Tabbycat|     1|     1|     298|Jade Golem|          12|          12|             12|\n",
      "|    793|       Pantry Spider|     1|     3|     793|Jade Golem|          26|          26|             26|\n",
      "+-------+--------------------+------+------+--------+----------+------------+------------+---------------+\n",
      "\n"
     ]
    }
   ],
   "source": [
    "data_crossed.filter(col('Attacks to kill') > 10).show(100)"
   ],
   "id": "07e7d52c"
  },
  {
   "cell_type": "code",
   "execution_count": null,
   "metadata": {
    "id": "f832397e"
   },
   "outputs": [],
   "source": [
    "\"\"\"\n",
    "Additional task OPTIONAL\n",
    "\n",
    "Calculate who will win (left or right), if left one starts first\n",
    "\"\"\""
   ],
   "id": "f832397e"
  },
  {
   "cell_type": "code",
   "execution_count": null,
   "metadata": {
    "id": "0b2605a2"
   },
   "outputs": [],
   "source": [],
   "id": "0b2605a2"
  }
 ],
 "metadata": {
  "colab": {
   "provenance": []
  },
  "kernelspec": {
   "display_name": "Python 3 (ipykernel)",
   "language": "python",
   "name": "python3"
  },
  "language_info": {
   "codemirror_mode": {
    "name": "ipython",
    "version": 3
   },
   "file_extension": ".py",
   "mimetype": "text/x-python",
   "name": "python",
   "nbconvert_exporter": "python",
   "pygments_lexer": "ipython3",
   "version": "3.11.5"
  }
 },
 "nbformat": 4,
 "nbformat_minor": 5
}