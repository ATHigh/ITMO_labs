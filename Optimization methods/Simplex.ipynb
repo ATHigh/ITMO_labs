{
 "cells": [
  {
   "cell_type": "code",
   "execution_count": 10,
   "metadata": {
    "collapsed": true
   },
   "outputs": [],
   "source": [
    "import numpy as np\n",
    "from scipy.optimize import linprog"
   ]
  },
  {
   "cell_type": "markdown",
   "source": [
    "linprog(method=’simplex’)\n",
    "scipy.optimize.linprog(c, A_ub=None, b_ub=None, A_eq=None, b_eq=None, bounds=(0, None), method='highs', callback=None, options=None, x0=None, integrality=None)\n",
    "\n",
    "Linear programming: minimize a linear objective function subject to linear equality and inequality constraints using the tableau-based simplex method.\n",
    "\n",
    "minimize:\n",
    "c @ x\n",
    "\n",
    "such that:\n",
    "A_ub @ x <= b_ub\n",
    "A_eq @ x == b_eq\n",
    "lb <= x <= ub\n",
    "\n",
    "Note that by default lb = 0 and ub = None unless specified with bounds."
   ],
   "metadata": {
    "collapsed": false,
    "pycharm": {
     "name": "#%% md\n"
    }
   }
  },
  {
   "cell_type": "markdown",
   "source": [
    "c=\t4\t3\t0\t0\n",
    "\t\t\t\t\t\tb=\n",
    "A=\t7\t5\t1\t0\t\t35\n",
    "\t1\t2\t0\t1\t\t8"
   ],
   "metadata": {
    "collapsed": false,
    "pycharm": {
     "name": "#%% md\n"
    }
   }
  },
  {
   "cell_type": "code",
   "execution_count": 11,
   "outputs": [],
   "source": [
    "c = [-4, -3, 0, 0]\n",
    "A = [[7, 5, 1, 0], [1, 2, 0, 1]]\n",
    "b = [35, 8]"
   ],
   "metadata": {
    "collapsed": false,
    "pycharm": {
     "name": "#%%\n"
    }
   }
  },
  {
   "cell_type": "code",
   "execution_count": 13,
   "outputs": [
    {
     "name": "stdout",
     "output_type": "stream",
     "text": [
      "Optimization terminated successfully.\n",
      "         Current function value: -20.333333  \n",
      "         Iterations: 2\n",
      " message: Optimization terminated successfully.\n",
      " success: True\n",
      "  status: 0\n",
      "     fun: -20.333333333333332\n",
      "       x: [ 3.333e+00  2.333e+00  0.000e+00  0.000e+00]\n",
      "     nit: 2\n"
     ]
    },
    {
     "name": "stderr",
     "output_type": "stream",
     "text": [
      "/var/folders/_2/3r2pyzk16rdbwgbf6s6rlngr0000gn/T/ipykernel_96411/565409127.py:1: DeprecationWarning: `method='simplex'` is deprecated and will be removed in SciPy 1.11.0. Please use one of the HiGHS solvers (e.g. `method='highs'`) in new code.\n",
      "  res = linprog(c=c, A_eq=A, b_eq=b, method='simplex', options={'disp': True})\n"
     ]
    }
   ],
   "source": [
    "res = linprog(c=c, A_eq=A, b_eq=b, method='simplex', options={'disp': True})\n",
    "print(res)"
   ],
   "metadata": {
    "collapsed": false,
    "pycharm": {
     "name": "#%%\n"
    }
   }
  },
  {
   "cell_type": "code",
   "execution_count": 18,
   "outputs": [],
   "source": [
    "c1 = [-3, -1, -2, 0, 0, 0]\n",
    "A1 = [[12, 3, 6, 3, 0, 0], [8, 1, -4, 0, 2, 0], [3, 0, 0, 0, 0, -1]]\n",
    "b1 = [46, 8, 0]\n",
    "x1_b, x2_b, x3_b = (0, None), (0, None), (0, None)"
   ],
   "metadata": {
    "collapsed": false,
    "pycharm": {
     "name": "#%%\n"
    }
   }
  },
  {
   "cell_type": "code",
   "execution_count": 19,
   "outputs": [
    {
     "name": "stdout",
     "output_type": "stream",
     "text": [
      "Optimization terminated successfully.\n",
      "         Current function value: -15.333333  \n",
      "         Iterations: 4\n",
      " message: Optimization terminated successfully.\n",
      " success: True\n",
      "  status: 0\n",
      "     fun: -15.333333333333334\n",
      "       x: [ 0.000e+00  1.289e+01  1.222e+00  0.000e+00  0.000e+00\n",
      "            0.000e+00]\n",
      "     nit: 4\n"
     ]
    },
    {
     "name": "stderr",
     "output_type": "stream",
     "text": [
      "/var/folders/_2/3r2pyzk16rdbwgbf6s6rlngr0000gn/T/ipykernel_96411/985224557.py:1: DeprecationWarning: `method='simplex'` is deprecated and will be removed in SciPy 1.11.0. Please use one of the HiGHS solvers (e.g. `method='highs'`) in new code.\n",
      "  res1 = linprog(c=c1, A_eq=A1, b_eq=b1, method='simplex', options={'disp': True})\n"
     ]
    }
   ],
   "source": [
    "res1 = linprog(c=c1, A_eq=A1, b_eq=b1, method='simplex', options={'disp': True})\n",
    "print(res1)"
   ],
   "metadata": {
    "collapsed": false,
    "pycharm": {
     "name": "#%%\n"
    }
   }
  },
  {
   "cell_type": "code",
   "execution_count": 20,
   "outputs": [],
   "source": [
    "import pulp"
   ],
   "metadata": {
    "collapsed": false,
    "pycharm": {
     "name": "#%%\n"
    }
   }
  },
  {
   "cell_type": "code",
   "execution_count": 21,
   "outputs": [],
   "source": [
    "Lp_prob = pulp.LpProblem('Problem', pulp.LpMaximize)"
   ],
   "metadata": {
    "collapsed": false,
    "pycharm": {
     "name": "#%%\n"
    }
   }
  },
  {
   "cell_type": "markdown",
   "source": [
    "## Bounds"
   ],
   "metadata": {
    "collapsed": false,
    "pycharm": {
     "name": "#%% md\n"
    }
   }
  },
  {
   "cell_type": "code",
   "execution_count": 22,
   "outputs": [],
   "source": [
    "x1 = pulp.LpVariable('x1', lowBound=0)\n",
    "x2 = pulp.LpVariable('x2', lowBound=0)\n",
    "x3 = pulp.LpVariable('x3', lowBound=0)\n",
    "x4 = pulp.LpVariable('x4')\n",
    "x5 = pulp.LpVariable('x5')\n",
    "x6 = pulp.LpVariable('x6')"
   ],
   "metadata": {
    "collapsed": false,
    "pycharm": {
     "name": "#%%\n"
    }
   }
  },
  {
   "cell_type": "markdown",
   "source": [
    "## Object Function"
   ],
   "metadata": {
    "collapsed": false,
    "pycharm": {
     "name": "#%% md\n"
    }
   }
  },
  {
   "cell_type": "code",
   "execution_count": 35,
   "outputs": [],
   "source": [
    "Lp_prob += 3*x1 + 1*x2 + 2*x3"
   ],
   "metadata": {
    "collapsed": false,
    "pycharm": {
     "name": "#%%\n"
    }
   }
  },
  {
   "cell_type": "markdown",
   "source": [
    "## Constraints"
   ],
   "metadata": {
    "collapsed": false,
    "pycharm": {
     "name": "#%% md\n"
    }
   }
  },
  {
   "cell_type": "code",
   "execution_count": 36,
   "outputs": [],
   "source": [
    "Lp_prob += 12*x1 + 3*x2 + 6*x3 + 3*x4 == 46\n",
    "Lp_prob += 8*x1 + 1*x2 - 4*x3 + 2*x5 == 8\n",
    "Lp_prob += 3*x1 - x6 == 0"
   ],
   "metadata": {
    "collapsed": false,
    "pycharm": {
     "name": "#%%\n"
    }
   }
  },
  {
   "cell_type": "code",
   "execution_count": 37,
   "outputs": [
    {
     "name": "stdout",
     "output_type": "stream",
     "text": [
      "Problem:\n",
      "MAXIMIZE\n",
      "3*x1 + 1*x2 + 2*x3 + 0\n",
      "SUBJECT TO\n",
      "_C1: 12 x1 + 3 x2 + 6 x3 + 3 x4 = 46\n",
      "\n",
      "_C2: 8 x1 + x2 - 4 x3 + 2 x5 = 8\n",
      "\n",
      "_C3: 3 x1 - x6 = 0\n",
      "\n",
      "_C4: 12 x1 + 3 x2 + 6 x3 + 3 x4 = 46\n",
      "\n",
      "_C5: 8 x1 + x2 - 4 x3 + 2 x5 = 8\n",
      "\n",
      "_C6: 3 x1 - x6 = 0\n",
      "\n",
      "_C7: 12 x1 + 3 x2 + 6 x3 + 3 x4 = 46\n",
      "\n",
      "_C8: 8 x1 + x2 - 4 x3 + 2 x5 = 8\n",
      "\n",
      "_C9: 3 x1 - x6 = 0\n",
      "\n",
      "VARIABLES\n",
      "x1 Continuous\n",
      "x2 Continuous\n",
      "x3 Continuous\n",
      "x4 free Continuous\n",
      "x5 free Continuous\n",
      "x6 free Continuous\n",
      "\n"
     ]
    }
   ],
   "source": [
    "print(Lp_prob)"
   ],
   "metadata": {
    "collapsed": false,
    "pycharm": {
     "name": "#%%\n"
    }
   }
  },
  {
   "cell_type": "code",
   "execution_count": 38,
   "outputs": [
    {
     "name": "stdout",
     "output_type": "stream",
     "text": [
      "Welcome to the CBC MILP Solver \n",
      "Version: 2.10.3 \n",
      "Build Date: Dec 15 2019 \n",
      "\n",
      "command line - /Users/roman14/.conda/envs/Pycharm/lib/python3.10/site-packages/pulp/solverdir/cbc/osx/64/cbc /var/folders/_2/3r2pyzk16rdbwgbf6s6rlngr0000gn/T/35236cf145904ca7b06305072068d5cf-pulp.mps -max -timeMode elapsed -branch -printingOptions all -solution /var/folders/_2/3r2pyzk16rdbwgbf6s6rlngr0000gn/T/35236cf145904ca7b06305072068d5cf-pulp.sol (default strategy 1)\n",
      "At line 2 NAME          MODEL\n",
      "At line 3 ROWS\n",
      "At line 14 COLUMNS\n",
      "At line 48 RHS\n",
      "At line 58 BOUNDS\n",
      "At line 62 ENDATA\n",
      "Problem MODEL has 9 rows, 6 columns and 30 elements\n",
      "Coin0008I MODEL read with 0 errors\n",
      "Option for timeMode changed from cpu to elapsed\n",
      "Presolve thinks problem is unbounded\n",
      "Analysis indicates model infeasible or unbounded\n",
      "0  Obj -0 Primal inf 14.499999 (6) Dual inf 11 (3)\n",
      "0  Obj -0 Primal inf 14.499999 (6) Dual inf 1.056e+11 (5) w.o. free dual inf (3)\n",
      "2  Obj -0 Dual inf 11 (3)\n",
      "2  Obj -0 Dual inf 11 (3)\n",
      "Dual infeasible - objective value -0\n",
      "DualInfeasible objective -0 - 2 iterations time 0.002\n",
      "\n",
      "Result - Linear relaxation unbounded\n",
      "\n",
      "Enumerated nodes:           0\n",
      "Total iterations:           0\n",
      "Time (CPU seconds):         0.00\n",
      "Time (Wallclock Seconds):   0.02\n",
      "\n",
      "Option for printingOptions changed from normal to all\n",
      "Total time (CPU seconds):       0.00   (Wallclock seconds):       0.02\n",
      "\n",
      "Unbounded\n"
     ]
    }
   ],
   "source": [
    "status = Lp_prob.solve()\n",
    "print(pulp.LpStatus[status])"
   ],
   "metadata": {
    "collapsed": false,
    "pycharm": {
     "name": "#%%\n"
    }
   }
  },
  {
   "cell_type": "code",
   "execution_count": 39,
   "outputs": [
    {
     "name": "stdout",
     "output_type": "stream",
     "text": [
      "0.0 0.0 0.0 15.333333 4.0 0.0\n"
     ]
    }
   ],
   "source": [
    "print(pulp.value(x1), pulp.value(x2), pulp.value(x3) ,pulp.value(x4), pulp.value(x5), pulp.value(x6))"
   ],
   "metadata": {
    "collapsed": false,
    "pycharm": {
     "name": "#%%\n"
    }
   }
  },
  {
   "cell_type": "code",
   "execution_count": 40,
   "outputs": [
    {
     "name": "stdout",
     "output_type": "stream",
     "text": [
      "0.0\n"
     ]
    }
   ],
   "source": [
    "print(pulp.value(Lp_prob.objective))"
   ],
   "metadata": {
    "collapsed": false,
    "pycharm": {
     "name": "#%%\n"
    }
   }
  },
  {
   "cell_type": "code",
   "execution_count": null,
   "outputs": [],
   "source": [],
   "metadata": {
    "collapsed": false,
    "pycharm": {
     "name": "#%%\n"
    }
   }
  }
 ],
 "metadata": {
  "kernelspec": {
   "display_name": "Python 3",
   "language": "python",
   "name": "python3"
  },
  "language_info": {
   "codemirror_mode": {
    "name": "ipython",
    "version": 2
   },
   "file_extension": ".py",
   "mimetype": "text/x-python",
   "name": "python",
   "nbconvert_exporter": "python",
   "pygments_lexer": "ipython2",
   "version": "2.7.6"
  }
 },
 "nbformat": 4,
 "nbformat_minor": 0
}