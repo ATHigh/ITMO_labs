{
 "cells": [
  {
   "cell_type": "markdown",
   "metadata": {
    "collapsed": true,
    "pycharm": {
     "name": "#%% md\n"
    }
   },
   "source": [
    "## Principal Component Analysis (PCA) / Exercise 7"
   ]
  },
  {
   "cell_type": "code",
   "execution_count": 15,
   "outputs": [],
   "source": [
    "import pandas as pd\n",
    "import matplotlib.pyplot as plt\n",
    "import numpy as np\n",
    "from sklearn.decomposition import PCA"
   ],
   "metadata": {
    "collapsed": false,
    "pycharm": {
     "name": "#%%\n"
    }
   }
  },
  {
   "cell_type": "markdown",
   "source": [
    "## Task 1"
   ],
   "metadata": {
    "collapsed": false,
    "pycharm": {
     "name": "#%% md\n"
    }
   }
  },
  {
   "cell_type": "markdown",
   "source": [
    "### In the file (72_36.csv) there is a set of synthetic data. The data describes 60 objects, each of which has 10 features. Your task is to switch to the new coordinates using principal components method and find the following parameters."
   ],
   "metadata": {
    "collapsed": false,
    "pycharm": {
     "name": "#%% md\n"
    }
   }
  },
  {
   "cell_type": "code",
   "execution_count": 3,
   "outputs": [
    {
     "data": {
      "text/plain": "           0          1          2          3          4          5  \\\n0  -7.551127 -16.501883  12.214029  -4.532918   7.195725 -10.695086   \n1  15.332258  -2.873288 -18.918645 -19.692909   9.338751  14.829184   \n2 -11.447178 -12.150761 -18.801647 -24.051650  15.213106  18.650944   \n3  16.922389  -4.922460 -21.959687 -19.735653   9.871696  15.691369   \n4  13.683867  -2.109327 -20.939583 -18.912884   7.441524  13.049203   \n\n           6          7          8          9  \n0 -21.060089 -23.861166  -2.754803  11.277232  \n1  -7.771072  -5.460143  14.528354 -13.885432  \n2   5.061457  -9.081610 -24.478108 -16.165841  \n3 -11.258013  -3.755190   9.735562 -10.922091  \n4  -8.486979  -7.611905  10.369139  -9.060181  ",
      "text/html": "<div>\n<style scoped>\n    .dataframe tbody tr th:only-of-type {\n        vertical-align: middle;\n    }\n\n    .dataframe tbody tr th {\n        vertical-align: top;\n    }\n\n    .dataframe thead th {\n        text-align: right;\n    }\n</style>\n<table border=\"1\" class=\"dataframe\">\n  <thead>\n    <tr style=\"text-align: right;\">\n      <th></th>\n      <th>0</th>\n      <th>1</th>\n      <th>2</th>\n      <th>3</th>\n      <th>4</th>\n      <th>5</th>\n      <th>6</th>\n      <th>7</th>\n      <th>8</th>\n      <th>9</th>\n    </tr>\n  </thead>\n  <tbody>\n    <tr>\n      <th>0</th>\n      <td>-7.551127</td>\n      <td>-16.501883</td>\n      <td>12.214029</td>\n      <td>-4.532918</td>\n      <td>7.195725</td>\n      <td>-10.695086</td>\n      <td>-21.060089</td>\n      <td>-23.861166</td>\n      <td>-2.754803</td>\n      <td>11.277232</td>\n    </tr>\n    <tr>\n      <th>1</th>\n      <td>15.332258</td>\n      <td>-2.873288</td>\n      <td>-18.918645</td>\n      <td>-19.692909</td>\n      <td>9.338751</td>\n      <td>14.829184</td>\n      <td>-7.771072</td>\n      <td>-5.460143</td>\n      <td>14.528354</td>\n      <td>-13.885432</td>\n    </tr>\n    <tr>\n      <th>2</th>\n      <td>-11.447178</td>\n      <td>-12.150761</td>\n      <td>-18.801647</td>\n      <td>-24.051650</td>\n      <td>15.213106</td>\n      <td>18.650944</td>\n      <td>5.061457</td>\n      <td>-9.081610</td>\n      <td>-24.478108</td>\n      <td>-16.165841</td>\n    </tr>\n    <tr>\n      <th>3</th>\n      <td>16.922389</td>\n      <td>-4.922460</td>\n      <td>-21.959687</td>\n      <td>-19.735653</td>\n      <td>9.871696</td>\n      <td>15.691369</td>\n      <td>-11.258013</td>\n      <td>-3.755190</td>\n      <td>9.735562</td>\n      <td>-10.922091</td>\n    </tr>\n    <tr>\n      <th>4</th>\n      <td>13.683867</td>\n      <td>-2.109327</td>\n      <td>-20.939583</td>\n      <td>-18.912884</td>\n      <td>7.441524</td>\n      <td>13.049203</td>\n      <td>-8.486979</td>\n      <td>-7.611905</td>\n      <td>10.369139</td>\n      <td>-9.060181</td>\n    </tr>\n  </tbody>\n</table>\n</div>"
     },
     "execution_count": 3,
     "metadata": {},
     "output_type": "execute_result"
    }
   ],
   "source": [
    "df = pd.read_csv(\"72_36.csv\", header=None)\n",
    "df.head()"
   ],
   "metadata": {
    "collapsed": false,
    "pycharm": {
     "name": "#%%\n"
    }
   }
  },
  {
   "cell_type": "code",
   "execution_count": 5,
   "outputs": [
    {
     "name": "stdout",
     "output_type": "stream",
     "text": [
      "<class 'pandas.core.frame.DataFrame'>\n",
      "RangeIndex: 60 entries, 0 to 59\n",
      "Data columns (total 10 columns):\n",
      " #   Column  Non-Null Count  Dtype  \n",
      "---  ------  --------------  -----  \n",
      " 0   0       60 non-null     float64\n",
      " 1   1       60 non-null     float64\n",
      " 2   2       60 non-null     float64\n",
      " 3   3       60 non-null     float64\n",
      " 4   4       60 non-null     float64\n",
      " 5   5       60 non-null     float64\n",
      " 6   6       60 non-null     float64\n",
      " 7   7       60 non-null     float64\n",
      " 8   8       60 non-null     float64\n",
      " 9   9       60 non-null     float64\n",
      "dtypes: float64(10)\n",
      "memory usage: 4.8 KB\n"
     ]
    }
   ],
   "source": [
    "df.info()"
   ],
   "metadata": {
    "collapsed": false,
    "pycharm": {
     "name": "#%%\n"
    }
   }
  },
  {
   "cell_type": "code",
   "execution_count": 6,
   "outputs": [
    {
     "data": {
      "text/plain": "               0          1          2          3          4          5  \\\ncount  60.000000  60.000000  60.000000  60.000000  60.000000  60.000000   \nmean   -2.161557  -2.136234  -3.393158  -8.149027   1.935156   2.991413   \nstd    13.505998  14.365423  12.393099  14.045255  10.910615  13.255787   \nmin   -22.158879 -21.010975 -22.427564 -25.383896 -16.887720 -20.087580   \n25%   -12.654926 -13.970409 -16.887975 -20.179858  -5.444760  -9.265950   \n50%    -5.669433  -7.887623  -1.304839 -10.368153   1.671580   6.677365   \n75%    13.668659   9.750770   8.295758  -4.484514  10.175889  14.786670   \nmax    18.036683  23.893006  14.917667  22.315291  19.794804  21.653669   \n\n               6          7          8          9  \ncount  60.000000  60.000000  60.000000  60.000000  \nmean    0.551149 -10.471441  -5.958081   0.036916  \nstd    12.432163  12.940256  12.573283  10.169975  \nmin   -23.816601 -26.866538 -24.478108 -18.074160  \n25%    -8.401688 -21.446072 -19.880652 -10.814478  \n50%     4.227656 -12.605306  -4.429841   2.023293  \n75%    10.047630  -6.029628   4.904405   8.691625  \nmax    16.268650  15.417416  14.528354  13.190385  ",
      "text/html": "<div>\n<style scoped>\n    .dataframe tbody tr th:only-of-type {\n        vertical-align: middle;\n    }\n\n    .dataframe tbody tr th {\n        vertical-align: top;\n    }\n\n    .dataframe thead th {\n        text-align: right;\n    }\n</style>\n<table border=\"1\" class=\"dataframe\">\n  <thead>\n    <tr style=\"text-align: right;\">\n      <th></th>\n      <th>0</th>\n      <th>1</th>\n      <th>2</th>\n      <th>3</th>\n      <th>4</th>\n      <th>5</th>\n      <th>6</th>\n      <th>7</th>\n      <th>8</th>\n      <th>9</th>\n    </tr>\n  </thead>\n  <tbody>\n    <tr>\n      <th>count</th>\n      <td>60.000000</td>\n      <td>60.000000</td>\n      <td>60.000000</td>\n      <td>60.000000</td>\n      <td>60.000000</td>\n      <td>60.000000</td>\n      <td>60.000000</td>\n      <td>60.000000</td>\n      <td>60.000000</td>\n      <td>60.000000</td>\n    </tr>\n    <tr>\n      <th>mean</th>\n      <td>-2.161557</td>\n      <td>-2.136234</td>\n      <td>-3.393158</td>\n      <td>-8.149027</td>\n      <td>1.935156</td>\n      <td>2.991413</td>\n      <td>0.551149</td>\n      <td>-10.471441</td>\n      <td>-5.958081</td>\n      <td>0.036916</td>\n    </tr>\n    <tr>\n      <th>std</th>\n      <td>13.505998</td>\n      <td>14.365423</td>\n      <td>12.393099</td>\n      <td>14.045255</td>\n      <td>10.910615</td>\n      <td>13.255787</td>\n      <td>12.432163</td>\n      <td>12.940256</td>\n      <td>12.573283</td>\n      <td>10.169975</td>\n    </tr>\n    <tr>\n      <th>min</th>\n      <td>-22.158879</td>\n      <td>-21.010975</td>\n      <td>-22.427564</td>\n      <td>-25.383896</td>\n      <td>-16.887720</td>\n      <td>-20.087580</td>\n      <td>-23.816601</td>\n      <td>-26.866538</td>\n      <td>-24.478108</td>\n      <td>-18.074160</td>\n    </tr>\n    <tr>\n      <th>25%</th>\n      <td>-12.654926</td>\n      <td>-13.970409</td>\n      <td>-16.887975</td>\n      <td>-20.179858</td>\n      <td>-5.444760</td>\n      <td>-9.265950</td>\n      <td>-8.401688</td>\n      <td>-21.446072</td>\n      <td>-19.880652</td>\n      <td>-10.814478</td>\n    </tr>\n    <tr>\n      <th>50%</th>\n      <td>-5.669433</td>\n      <td>-7.887623</td>\n      <td>-1.304839</td>\n      <td>-10.368153</td>\n      <td>1.671580</td>\n      <td>6.677365</td>\n      <td>4.227656</td>\n      <td>-12.605306</td>\n      <td>-4.429841</td>\n      <td>2.023293</td>\n    </tr>\n    <tr>\n      <th>75%</th>\n      <td>13.668659</td>\n      <td>9.750770</td>\n      <td>8.295758</td>\n      <td>-4.484514</td>\n      <td>10.175889</td>\n      <td>14.786670</td>\n      <td>10.047630</td>\n      <td>-6.029628</td>\n      <td>4.904405</td>\n      <td>8.691625</td>\n    </tr>\n    <tr>\n      <th>max</th>\n      <td>18.036683</td>\n      <td>23.893006</td>\n      <td>14.917667</td>\n      <td>22.315291</td>\n      <td>19.794804</td>\n      <td>21.653669</td>\n      <td>16.268650</td>\n      <td>15.417416</td>\n      <td>14.528354</td>\n      <td>13.190385</td>\n    </tr>\n  </tbody>\n</table>\n</div>"
     },
     "execution_count": 6,
     "metadata": {},
     "output_type": "execute_result"
    }
   ],
   "source": [
    "df.describe()"
   ],
   "metadata": {
    "collapsed": false,
    "pycharm": {
     "name": "#%%\n"
    }
   }
  },
  {
   "cell_type": "code",
   "execution_count": 17,
   "outputs": [],
   "source": [
    "pca = PCA(n_components=2, svd_solver=\"full\")\n",
    "x = pca.fit_transform(df)"
   ],
   "metadata": {
    "collapsed": false,
    "pycharm": {
     "name": "#%%\n"
    }
   }
  },
  {
   "cell_type": "code",
   "execution_count": 8,
   "outputs": [
    {
     "data": {
      "text/plain": "array([[ 2.15685525e+01, -2.01126641e+01],\n       [-2.56073365e+01, -1.15475506e+00],\n       [-2.90469230e+01, -2.13828959e+01],\n       [-2.66228667e+01, -3.58929188e+00],\n       [-2.26468277e+01, -1.33948426e+00],\n       [ 1.74176499e+01, -1.98195964e+01],\n       [-2.60417891e+01, -2.82384970e+00],\n       [-2.49502619e+01,  6.68421362e-03],\n       [ 1.78102461e+01, -2.20196444e+01],\n       [ 2.30749148e+01, -2.27378642e+01],\n       [ 5.72171790e+00,  3.11148661e+00],\n       [-1.63819769e+01,  3.37879848e+01],\n       [ 1.98463616e+01, -2.11191374e+01],\n       [-2.80594021e+01, -2.08649102e+01],\n       [ 4.66823452e+00,  6.17446158e+00],\n       [ 3.85665143e+00,  3.70873649e+00],\n       [ 4.37214263e+01,  4.33791643e+00],\n       [-1.25193823e+01,  3.50881979e+01],\n       [ 2.07387150e+01, -1.97577914e+01],\n       [-2.76993626e+01, -2.13454190e+01],\n       [ 4.44329478e+01,  3.27456147e+00],\n       [-3.11968369e+01, -2.33730454e+01],\n       [ 4.62899308e+01,  5.55558379e+00],\n       [-1.24821154e+01,  3.27455181e+01],\n       [ 1.75687375e+01, -1.81777428e+01],\n       [-2.60909978e+01, -3.87300773e+00],\n       [-2.62593452e+01, -2.37615645e+00],\n       [ 4.60608575e+01,  5.45736052e+00],\n       [ 4.45854591e+01,  2.57488437e+00],\n       [ 4.14946222e+00,  3.10692048e+00],\n       [-1.48195387e+01,  3.49536686e+01],\n       [-2.77492807e+01, -1.97727350e+00],\n       [ 1.73391707e+01, -1.97177271e+01],\n       [-2.96202164e+01, -1.99740509e+01],\n       [-1.38490084e+01,  3.54456534e+01],\n       [-1.38744442e+01,  3.31928228e+01],\n       [-2.92615193e+01, -2.13210511e+01],\n       [ 4.53801423e+01,  3.53173028e+00],\n       [ 4.29486306e+00,  7.21054065e+00],\n       [-1.25836377e+01,  3.24845827e+01],\n       [-2.77998917e+01, -2.10993549e+01],\n       [ 4.52127958e+01,  2.92054342e+00],\n       [ 4.73237001e+01,  5.84134185e+00],\n       [ 1.96934444e+01, -1.92100378e+01],\n       [-1.56443933e+01,  3.38150959e+01],\n       [ 6.83592717e+00,  6.72076453e+00],\n       [-2.46472376e+01,  2.73171206e-01],\n       [-2.86692971e+01, -2.10961334e+01],\n       [ 3.95268085e+00,  5.87215716e+00],\n       [-3.05702792e+01, -1.94252470e+01],\n       [ 4.50520824e+01,  5.25278894e+00],\n       [-2.48912659e+01, -2.79209217e+00],\n       [ 1.88158493e+01, -2.36957439e+01],\n       [ 3.43015073e+00,  5.02858510e+00],\n       [-1.44346517e+01,  3.60303031e+01],\n       [-3.01868338e+01, -2.15103313e+01],\n       [ 1.64387450e+00,  3.58980163e+00],\n       [-1.50443589e+01,  3.58874645e+01],\n       [ 1.85914169e+00,  6.01997680e+00],\n       [ 4.69055906e+01,  4.68501013e+00]])"
     },
     "execution_count": 8,
     "metadata": {},
     "output_type": "execute_result"
    }
   ],
   "source": [
    "x"
   ],
   "metadata": {
    "collapsed": false,
    "pycharm": {
     "name": "#%%\n"
    }
   }
  },
  {
   "cell_type": "code",
   "execution_count": 21,
   "outputs": [
    {
     "name": "stdout",
     "output_type": "stream",
     "text": [
      "coordinate of the first object with respect to the first principal component = 21.569\n",
      "coordinate of the first object with respect to the second principal component = -20.113\n",
      "Total fraction of variance = 0.659\n"
     ]
    }
   ],
   "source": [
    "#Enter the coordinate of the first object with respect to the first principal component.\n",
    "#Use point as decimal delimiter. Round the answer to thousandths.\n",
    "\n",
    "print(f'coordinate of the first object with respect to the first principal component = {round(x[0][0], 3)}')\n",
    "\n",
    "#Enter the coordinate of the first object with respect to the second principal component.\n",
    "#Use point as decimal delimiter. Round the answer to thousandths.\n",
    "\n",
    "print(f'coordinate of the first object with respect to the second principal component = {round(x[0][1], 3)}')\n",
    "\n",
    "#Enter the fraction of variance explained when the first and the second principal components are used.\n",
    "#Use point as decimal delimiter. Round the answer to thousandths.\n",
    "\n",
    "print(f'Total fraction of variance = {round(sum(pca.explained_variance_ratio_), 3)}')"
   ],
   "metadata": {
    "collapsed": false,
    "pycharm": {
     "name": "#%%\n"
    }
   }
  },
  {
   "cell_type": "code",
   "execution_count": 14,
   "outputs": [
    {
     "name": "stdout",
     "output_type": "stream",
     "text": [
      "0.8595901505644251\n"
     ]
    }
   ],
   "source": [
    "# What minimal number of principal components are to be used, so that the fraction of variance explained will exceed 0.85\n",
    "# Enter a non-negative integer\n",
    "print(sum(pca.explained_variance_ratio_)) # answer 3"
   ],
   "metadata": {
    "collapsed": false,
    "pycharm": {
     "name": "#%%\n"
    }
   }
  },
  {
   "cell_type": "code",
   "execution_count": 22,
   "outputs": [
    {
     "data": {
      "text/plain": "Text(0, 0.5, 'pc2')"
     },
     "execution_count": 22,
     "metadata": {},
     "output_type": "execute_result"
    },
    {
     "data": {
      "text/plain": "<Figure size 1000x1000 with 1 Axes>",
      "image/png": "[encoded data removed]"
     },
     "metadata": {},
     "output_type": "display_data"
    }
   ],
   "source": [
    "# What number of groups the objects can be splitted in, if only the first and the second principal components are used?\n",
    "# Enter a non-negative integer\n",
    "plt.figure(figsize=(10,10))\n",
    "plt.scatter(x[:,0], x[:,1])\n",
    "plt.title('PCA decomposition')\n",
    "plt.xlabel('pc1')\n",
    "plt.ylabel('pc2')"
   ],
   "metadata": {
    "collapsed": false,
    "pycharm": {
     "name": "#%%\n"
    }
   }
  },
  {
   "cell_type": "markdown",
   "source": [
    "## Task 2"
   ],
   "metadata": {
    "collapsed": false,
    "pycharm": {
     "name": "#%% md\n"
    }
   }
  },
  {
   "cell_type": "markdown",
   "source": [
    "### In order to enter the ITMO Christmas party you must find the correct party logo. In order to get the logo picture you must reconstruct the initial logo using the first 10 principal components (all guests have got a score matrix and a loading matrix of the 10 first PCs)."
   ],
   "metadata": {
    "collapsed": false,
    "pycharm": {
     "name": "#%% md\n"
    }
   }
  },
  {
   "cell_type": "code",
   "execution_count": 35,
   "outputs": [],
   "source": [
    "score_matrix = pd.read_csv(\"X_reduced_408.csv\", header=None, sep=';')\n",
    "loading_matrix = pd.read_csv(\"X_loadings_408.csv\", header=None, sep=';')"
   ],
   "metadata": {
    "collapsed": false,
    "pycharm": {
     "name": "#%%\n"
    }
   }
  },
  {
   "cell_type": "code",
   "execution_count": 36,
   "outputs": [
    {
     "data": {
      "text/plain": "          0          1          2          3           4          5         6  \\\n0  0.813516  46.249795  48.287749 -35.611005 -200.935466 -53.587974 -7.265691   \n1  0.813516  46.249795  48.287749 -35.611005 -200.935466 -53.587974 -7.265691   \n2  0.813516  46.249795  48.287749 -35.611005 -200.935466 -53.587974 -7.265691   \n3  0.813516  46.249795  48.287749 -35.611005 -200.935466 -53.587974 -7.265691   \n4  0.813516  46.249795  48.287749 -35.611005 -200.935466 -53.587974 -7.265691   \n\n          7         8          9  \n0 -2.084236 -3.816588 -14.379928  \n1 -2.084236 -3.816588 -14.379928  \n2 -2.084236 -3.816588 -14.379928  \n3 -2.084236 -3.816588 -14.379928  \n4 -2.084236 -3.816588 -14.379928  ",
      "text/html": "<div>\n<style scoped>\n    .dataframe tbody tr th:only-of-type {\n        vertical-align: middle;\n    }\n\n    .dataframe tbody tr th {\n        vertical-align: top;\n    }\n\n    .dataframe thead th {\n        text-align: right;\n    }\n</style>\n<table border=\"1\" class=\"dataframe\">\n  <thead>\n    <tr style=\"text-align: right;\">\n      <th></th>\n      <th>0</th>\n      <th>1</th>\n      <th>2</th>\n      <th>3</th>\n      <th>4</th>\n      <th>5</th>\n      <th>6</th>\n      <th>7</th>\n      <th>8</th>\n      <th>9</th>\n    </tr>\n  </thead>\n  <tbody>\n    <tr>\n      <th>0</th>\n      <td>0.813516</td>\n      <td>46.249795</td>\n      <td>48.287749</td>\n      <td>-35.611005</td>\n      <td>-200.935466</td>\n      <td>-53.587974</td>\n      <td>-7.265691</td>\n      <td>-2.084236</td>\n      <td>-3.816588</td>\n      <td>-14.379928</td>\n    </tr>\n    <tr>\n      <th>1</th>\n      <td>0.813516</td>\n      <td>46.249795</td>\n      <td>48.287749</td>\n      <td>-35.611005</td>\n      <td>-200.935466</td>\n      <td>-53.587974</td>\n      <td>-7.265691</td>\n      <td>-2.084236</td>\n      <td>-3.816588</td>\n      <td>-14.379928</td>\n    </tr>\n    <tr>\n      <th>2</th>\n      <td>0.813516</td>\n      <td>46.249795</td>\n      <td>48.287749</td>\n      <td>-35.611005</td>\n      <td>-200.935466</td>\n      <td>-53.587974</td>\n      <td>-7.265691</td>\n      <td>-2.084236</td>\n      <td>-3.816588</td>\n      <td>-14.379928</td>\n    </tr>\n    <tr>\n      <th>3</th>\n      <td>0.813516</td>\n      <td>46.249795</td>\n      <td>48.287749</td>\n      <td>-35.611005</td>\n      <td>-200.935466</td>\n      <td>-53.587974</td>\n      <td>-7.265691</td>\n      <td>-2.084236</td>\n      <td>-3.816588</td>\n      <td>-14.379928</td>\n    </tr>\n    <tr>\n      <th>4</th>\n      <td>0.813516</td>\n      <td>46.249795</td>\n      <td>48.287749</td>\n      <td>-35.611005</td>\n      <td>-200.935466</td>\n      <td>-53.587974</td>\n      <td>-7.265691</td>\n      <td>-2.084236</td>\n      <td>-3.816588</td>\n      <td>-14.379928</td>\n    </tr>\n  </tbody>\n</table>\n</div>"
     },
     "execution_count": 36,
     "metadata": {},
     "output_type": "execute_result"
    }
   ],
   "source": [
    "score_matrix.head()"
   ],
   "metadata": {
    "collapsed": false,
    "pycharm": {
     "name": "#%%\n"
    }
   }
  },
  {
   "cell_type": "code",
   "execution_count": 39,
   "outputs": [
    {
     "name": "stdout",
     "output_type": "stream",
     "text": [
      "score_matrix shape is - (100, 10)\n",
      "loading_matrix shape is - (100, 10)\n"
     ]
    }
   ],
   "source": [
    "print(f\"score_matrix shape is - {score_matrix.shape}\\nloading_matrix shape is - {loading_matrix.shape}\")"
   ],
   "metadata": {
    "collapsed": false,
    "pycharm": {
     "name": "#%%\n"
    }
   }
  },
  {
   "cell_type": "code",
   "execution_count": 40,
   "outputs": [],
   "source": [
    "reconstructed = np.dot(score_matrix, loading_matrix.T)"
   ],
   "metadata": {
    "collapsed": false,
    "pycharm": {
     "name": "#%%\n"
    }
   }
  },
  {
   "cell_type": "code",
   "execution_count": 41,
   "outputs": [
    {
     "data": {
      "text/plain": "(100, 100)"
     },
     "execution_count": 41,
     "metadata": {},
     "output_type": "execute_result"
    }
   ],
   "source": [
    "reconstructed.shape"
   ],
   "metadata": {
    "collapsed": false,
    "pycharm": {
     "name": "#%%\n"
    }
   }
  },
  {
   "cell_type": "code",
   "execution_count": 44,
   "outputs": [
    {
     "data": {
      "text/plain": "<matplotlib.image.AxesImage at 0x13599cfd0>"
     },
     "execution_count": 44,
     "metadata": {},
     "output_type": "execute_result"
    },
    {
     "data": {
      "text/plain": "<Figure size 640x480 with 1 Axes>",
      "image/png": "[encoded data removed]"
     },
     "metadata": {},
     "output_type": "display_data"
    }
   ],
   "source": [
    "plt.imshow(reconstructed, cmap='gray')"
   ],
   "metadata": {
    "collapsed": false,
    "pycharm": {
     "name": "#%%\n"
    }
   }
  },
  {
   "cell_type": "code",
   "execution_count": null,
   "outputs": [],
   "source": [],
   "metadata": {
    "collapsed": false,
    "pycharm": {
     "name": "#%%\n"
    }
   }
  }
 ],
 "metadata": {
  "kernelspec": {
   "display_name": "Python 3",
   "language": "python",
   "name": "python3"
  },
  "language_info": {
   "codemirror_mode": {
    "name": "ipython",
    "version": 2
   },
   "file_extension": ".py",
   "mimetype": "text/x-python",
   "name": "python",
   "nbconvert_exporter": "python",
   "pygments_lexer": "ipython2",
   "version": "2.7.6"
  }
 },
 "nbformat": 4,
 "nbformat_minor": 0
}