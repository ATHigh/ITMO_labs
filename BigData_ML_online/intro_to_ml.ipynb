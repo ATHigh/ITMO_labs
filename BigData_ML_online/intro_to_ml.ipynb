{
 "cells": [
  {
   "cell_type": "markdown",
   "metadata": {
    "collapsed": true,
    "pycharm": {
     "name": "#%% md\n"
    }
   },
   "source": [
    "## Introduction to ML / Exercise 6"
   ]
  },
  {
   "cell_type": "code",
   "execution_count": null,
   "outputs": [],
   "source": [
    "import pandas as pd\n",
    "import numpy as np"
   ],
   "metadata": {
    "collapsed": false,
    "pycharm": {
     "name": "#%%\n"
    }
   }
  },
  {
   "cell_type": "markdown",
   "source": [
    "## Import data"
   ],
   "metadata": {
    "collapsed": false,
    "pycharm": {
     "name": "#%% md\n"
    }
   }
  },
  {
   "cell_type": "markdown",
   "source": [
    "##### The file contains the data on the average salary and population in Russia as of January 1, 2019 (according to the Russian Federal State Statistics Service). Imagine that someone has forgotten to mention Altai Region, Rostov Region, The Jewish Autonomous Region, Yamalo-Nenets Autonomous district, Amur Region. These regions should not be included in the summary. Please delete the data on these regions from the file and work with a new sample saved in the CSV format."
   ],
   "metadata": {
    "collapsed": false,
    "pycharm": {
     "name": "#%% md\n"
    }
   }
  },
  {
   "cell_type": "code",
   "execution_count": 3,
   "outputs": [
    {
     "data": {
      "text/plain": "               Region_RU           Region_EN  AVG_Salary  Population  \\\n0         Алтайский край        Altai Region       25960      218866   \n1       Амурская область         Amur Region       43156      793194   \n2  Архангельская область  Arkhangelsk Region       47526     1144119   \n3   Астраханская область    Astrakhan Region       32166     1014065   \n4   Белгородская область     Belgorod Region       31163     1547418   \n\n   Unnamed: 4  \n0         NaN  \n1         NaN  \n2         NaN  \n3         NaN  \n4         NaN  ",
      "text/html": "<div>\n<style scoped>\n    .dataframe tbody tr th:only-of-type {\n        vertical-align: middle;\n    }\n\n    .dataframe tbody tr th {\n        vertical-align: top;\n    }\n\n    .dataframe thead th {\n        text-align: right;\n    }\n</style>\n<table border=\"1\" class=\"dataframe\">\n  <thead>\n    <tr style=\"text-align: right;\">\n      <th></th>\n      <th>Region_RU</th>\n      <th>Region_EN</th>\n      <th>AVG_Salary</th>\n      <th>Population</th>\n      <th>Unnamed: 4</th>\n    </tr>\n  </thead>\n  <tbody>\n    <tr>\n      <th>0</th>\n      <td>Алтайский край</td>\n      <td>Altai Region</td>\n      <td>25960</td>\n      <td>218866</td>\n      <td>NaN</td>\n    </tr>\n    <tr>\n      <th>1</th>\n      <td>Амурская область</td>\n      <td>Amur Region</td>\n      <td>43156</td>\n      <td>793194</td>\n      <td>NaN</td>\n    </tr>\n    <tr>\n      <th>2</th>\n      <td>Архангельская область</td>\n      <td>Arkhangelsk Region</td>\n      <td>47526</td>\n      <td>1144119</td>\n      <td>NaN</td>\n    </tr>\n    <tr>\n      <th>3</th>\n      <td>Астраханская область</td>\n      <td>Astrakhan Region</td>\n      <td>32166</td>\n      <td>1014065</td>\n      <td>NaN</td>\n    </tr>\n    <tr>\n      <th>4</th>\n      <td>Белгородская область</td>\n      <td>Belgorod Region</td>\n      <td>31163</td>\n      <td>1547418</td>\n      <td>NaN</td>\n    </tr>\n  </tbody>\n</table>\n</div>"
     },
     "execution_count": 3,
     "metadata": {},
     "output_type": "execute_result"
    }
   ],
   "source": [
    "data = pd.read_csv('salary_and_population.csv')\n",
    "data.head()"
   ],
   "metadata": {
    "collapsed": false,
    "pycharm": {
     "name": "#%%\n"
    }
   }
  },
  {
   "cell_type": "code",
   "execution_count": 23,
   "outputs": [
    {
     "name": "stdout",
     "output_type": "stream",
     "text": [
      "<class 'pandas.core.frame.DataFrame'>\n",
      "RangeIndex: 85 entries, 0 to 84\n",
      "Data columns (total 5 columns):\n",
      " #   Column      Non-Null Count  Dtype  \n",
      "---  ------      --------------  -----  \n",
      " 0   Region_RU   85 non-null     object \n",
      " 1   Region_EN   85 non-null     object \n",
      " 2   AVG_Salary  85 non-null     int64  \n",
      " 3   Population  85 non-null     int64  \n",
      " 4   Unnamed: 4  0 non-null      float64\n",
      "dtypes: float64(1), int64(2), object(2)\n",
      "memory usage: 3.4+ KB\n"
     ]
    }
   ],
   "source": [
    "data.info()"
   ],
   "metadata": {
    "collapsed": false,
    "pycharm": {
     "name": "#%%\n"
    }
   }
  },
  {
   "cell_type": "code",
   "execution_count": 26,
   "outputs": [
    {
     "data": {
      "text/plain": "               Region_RU           Region_EN  AVG_Salary  Population  \\\n2  Архангельская область  Arkhangelsk Region       47526     1144119   \n3   Астраханская область    Astrakhan Region       32166     1014065   \n4   Белгородская область     Belgorod Region       31163     1547418   \n5       Брянская область      Bryansk Region       27403     1200187   \n6   Владимирская область     Vladimir Region       31647     1365805   \n\n   Unnamed: 4  \n2         NaN  \n3         NaN  \n4         NaN  \n5         NaN  \n6         NaN  ",
      "text/html": "<div>\n<style scoped>\n    .dataframe tbody tr th:only-of-type {\n        vertical-align: middle;\n    }\n\n    .dataframe tbody tr th {\n        vertical-align: top;\n    }\n\n    .dataframe thead th {\n        text-align: right;\n    }\n</style>\n<table border=\"1\" class=\"dataframe\">\n  <thead>\n    <tr style=\"text-align: right;\">\n      <th></th>\n      <th>Region_RU</th>\n      <th>Region_EN</th>\n      <th>AVG_Salary</th>\n      <th>Population</th>\n      <th>Unnamed: 4</th>\n    </tr>\n  </thead>\n  <tbody>\n    <tr>\n      <th>2</th>\n      <td>Архангельская область</td>\n      <td>Arkhangelsk Region</td>\n      <td>47526</td>\n      <td>1144119</td>\n      <td>NaN</td>\n    </tr>\n    <tr>\n      <th>3</th>\n      <td>Астраханская область</td>\n      <td>Astrakhan Region</td>\n      <td>32166</td>\n      <td>1014065</td>\n      <td>NaN</td>\n    </tr>\n    <tr>\n      <th>4</th>\n      <td>Белгородская область</td>\n      <td>Belgorod Region</td>\n      <td>31163</td>\n      <td>1547418</td>\n      <td>NaN</td>\n    </tr>\n    <tr>\n      <th>5</th>\n      <td>Брянская область</td>\n      <td>Bryansk Region</td>\n      <td>27403</td>\n      <td>1200187</td>\n      <td>NaN</td>\n    </tr>\n    <tr>\n      <th>6</th>\n      <td>Владимирская область</td>\n      <td>Vladimir Region</td>\n      <td>31647</td>\n      <td>1365805</td>\n      <td>NaN</td>\n    </tr>\n  </tbody>\n</table>\n</div>"
     },
     "execution_count": 26,
     "metadata": {},
     "output_type": "execute_result"
    }
   ],
   "source": [
    "regions_delete = ['Altai Region', 'Rostov Region', 'The Jewish Autonomous Region',\n",
    "                                   'Yamalo-Nenets Autonomous district', 'Amur Region']\n",
    "data = data[data.Region_EN.isin (regions_delete) == False]\n",
    "data.head()"
   ],
   "metadata": {
    "collapsed": false,
    "pycharm": {
     "name": "#%%\n"
    }
   }
  },
  {
   "cell_type": "code",
   "execution_count": 31,
   "outputs": [
    {
     "name": "stdout",
     "output_type": "stream",
     "text": [
      "sample mean of the salary =  38432.288\n",
      "sample median of the salary =  32723.0\n",
      "sample variance of the salary =  252680444.88\n",
      "sample standard deviation of the salary =  15895.925\n"
     ]
    }
   ],
   "source": [
    "# Find the sample mean of the salary: Enter the solution rounded to the hundredth.\n",
    "\n",
    "print(\"sample mean of the salary = \", round(data.AVG_Salary.mean(), 3))\n",
    "\n",
    "# Find the sample median  of the salary: Enter the solution rounded to the hundredth.\n",
    "\n",
    "print(\"sample median of the salary = \", round(data.AVG_Salary.median(), 3))\n",
    "\n",
    "# Find the variance estimate S^2 of the salary: Enter the solution rounded to the hundredth. In AzureML Studio use Population variance from Compute Elementary Statistics.\n",
    "\n",
    "print(\"sample variance of the salary = \", round(data.AVG_Salary.var(ddof = 0), 3))\n",
    "\n",
    "\n",
    "# Find the standard deviation sigma* of the salary: Enter the solution rounded to the hundredth. In AzureML Studio use Population standart deviation from Compute Elementary Statistics.\n",
    "\n",
    "print(\"sample standard deviation of the salary = \", round(data.AVG_Salary.std(ddof = 0), 3))\n"
   ],
   "metadata": {
    "collapsed": false,
    "pycharm": {
     "name": "#%%\n"
    }
   }
  },
  {
   "cell_type": "code",
   "execution_count": null,
   "outputs": [],
   "source": [],
   "metadata": {
    "collapsed": false,
    "pycharm": {
     "name": "#%%\n"
    }
   }
  }
 ],
 "metadata": {
  "kernelspec": {
   "display_name": "Python 3",
   "language": "python",
   "name": "python3"
  },
  "language_info": {
   "codemirror_mode": {
    "name": "ipython",
    "version": 2
   },
   "file_extension": ".py",
   "mimetype": "text/x-python",
   "name": "python",
   "nbconvert_exporter": "python",
   "pygments_lexer": "ipython2",
   "version": "2.7.6"
  }
 },
 "nbformat": 4,
 "nbformat_minor": 0
}