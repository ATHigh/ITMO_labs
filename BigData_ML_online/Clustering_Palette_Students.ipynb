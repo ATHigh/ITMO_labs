{
 "cells": [
  {
   "cell_type": "markdown",
   "metadata": {
    "id": "11sQJfZv7hsM",
    "pycharm": {
     "name": "#%% md\n"
    }
   },
   "source": [
    "# Using `K-means` for image compression\n"
   ]
  },
  {
   "cell_type": "markdown",
   "metadata": {
    "id": "PVQmRCJ_7hsN",
    "pycharm": {
     "name": "#%% md\n"
    }
   },
   "source": [
    "Clustering can be used for image compression. The scheme is surprisingly simple: similar, adjacent colors should be combined into one color. Let's do it ourselves. You will work with the following image.\n",
    "\n",
    "Read the image from your individual assignment."
   ]
  },
  {
   "cell_type": "code",
   "execution_count": null,
   "metadata": {
    "id": "9TsZ9FGI7hsN",
    "pycharm": {
     "name": "#%%\n"
    }
   },
   "outputs": [],
   "source": [
    "import matplotlib.pyplot as plt\n",
    "from google.colab.patches import cv2_imshow\n",
    "import cv2\n",
    "import numpy as np\n",
    "\n",
    "\n",
    "# Путь к изображению\n",
    "img_path = '/content/china.jpg'\n",
    "\n",
    "img = cv2.imread(img_path)\n",
    "img = cv2.cvtColor(img, cv2.COLOR_BGR2RGB)\n",
    "plt.axis('off')\n",
    "plt.imshow(img)"
   ]
  },
  {
   "cell_type": "markdown",
   "metadata": {
    "id": "31nycfn87hsO",
    "pycharm": {
     "name": "#%% md\n"
    }
   },
   "source": [
    "The image shown is a three-channel (RGB) image. Calculate the average pixel intensity across all channels."
   ]
  },
  {
   "cell_type": "code",
   "execution_count": null,
   "metadata": {
    "id": "bPSL5a8ZyCZq"
   },
   "outputs": [],
   "source": [
    "# < ENTER YOUR CODE HERE > "
   ]
  },
  {
   "cell_type": "markdown",
   "metadata": {
    "id": "fi8xEC3CyI2r"
   },
   "source": [
    "Normalize pixel intensity values by dividing all values by $255$. Calculate the average value of pixel intensity for all channels after the transformation has been done."
   ]
  },
  {
   "cell_type": "code",
   "execution_count": null,
   "metadata": {
    "id": "MIIf9UfX7hsO",
    "pycharm": {
     "name": "#%%\n"
    }
   },
   "outputs": [],
   "source": [
    "# < ENTER YOUR CODE HERE > "
   ]
  },
  {
   "cell_type": "markdown",
   "metadata": {
    "id": "UFmQ0o1l7hsO",
    "pycharm": {
     "name": "#%% md\n"
    }
   },
   "source": [
    "Let's make sure that the original color space with about $16$ million possible states ($256^3$) is too large, and its dimensionality can be reduced. For clarity, let's build only some subsamples of dependencies of intensity values and only on a random subset of pixels.\n",
    "\n",
    "\"Straighten\" the image so that <code>.shape</code> of the corresponding array has the following form <code>(height * width, 3)</code>."
   ]
  },
  {
   "cell_type": "code",
   "execution_count": null,
   "metadata": {
    "id": "sCzXUh3n7hsO",
    "pycharm": {
     "name": "#%%\n"
    }
   },
   "outputs": [],
   "source": [
    "# The function takes as input a \"straightened\" array corresponding to the image\n",
    "\n",
    "def plot_pixels(data, colors=None, N=10000):\n",
    "    if colors is None:\n",
    "        colors = data\n",
    "\n",
    "    rng = np.random.RandomState(0)\n",
    "    i = rng.permutation(data.shape[0])[:N]\n",
    "    colors = colors[i]\n",
    "    R, G, B = data[i].T\n",
    "\n",
    "    fig, ax = plt.subplots(1, 2, figsize=(16, 6))\n",
    "    ax[0].scatter(R, G, color=colors, marker='.')\n",
    "    ax[0].set(xlabel='Red', ylabel='Green', xlim=(0, 1), ylim=(0, 1))\n",
    "\n",
    "    ax[1].scatter(R, B, color=colors, marker='.')\n",
    "    ax[1].set(xlabel='Red', ylabel='Blue', xlim=(0, 1), ylim=(0, 1))"
   ]
  },
  {
   "cell_type": "code",
   "execution_count": null,
   "metadata": {
    "id": "UwOr9H7O7hsO",
    "pycharm": {
     "name": "#%%\n"
    }
   },
   "outputs": [],
   "source": [
    "# < ENTER YOUR CODE HERE > "
   ]
  },
  {
   "cell_type": "markdown",
   "metadata": {
    "id": "A4rLk5_E7hsO",
    "pycharm": {
     "name": "#%% md\n"
    }
   },
   "source": [
    "Let's transform $16$ million possibilities into just $16$ possibilities by using <code>K-means</code>. To speed up the algorithm, we'll use <a href=\"https://scikit-learn.org/stable/modules/generated/sklearn.cluster.MiniBatchKMeans.html\"><code>K-means</code></a> on batches (subsets of the dataset). We'll see if this spoils the result.\n",
    "\n",
    "Train the <code>MiniBatchKMeans</code> model on a normalized and \"straightened\" image with the parameters specified in your assignment.\n",
    "\n",
    "In the image, replace the color values of each pixel with the coordinate values of the centroid of the cluster to which the pixel was assigned. Plot color dependency graphs using <code>plot_pixels()</code> with the new palette (the parameter <code>colors</code>)."
   ]
  },
  {
   "cell_type": "code",
   "execution_count": null,
   "metadata": {
    "id": "Mjgb1hbi7hsP",
    "pycharm": {
     "name": "#%%\n"
    }
   },
   "outputs": [],
   "source": [
    "# < ENTER YOUR CODE HERE > "
   ]
  },
  {
   "cell_type": "markdown",
   "metadata": {
    "id": "wLoxRazp6Dmn"
   },
   "source": [
    "Calculate the average pixel intensity value of the resulting image."
   ]
  },
  {
   "cell_type": "code",
   "execution_count": null,
   "metadata": {
    "id": "404YDxa_6Q9E"
   },
   "outputs": [],
   "source": [
    "# < ENTER YOUR CODE HERE > "
   ]
  },
  {
   "cell_type": "markdown",
   "metadata": {
    "id": "J0QlH8yl8AaY"
   },
   "source": [
    "Enter the image number that corresponds to the $16$ color palette."
   ]
  },
  {
   "cell_type": "code",
   "execution_count": null,
   "metadata": {
    "id": "pEAWA39X8bEZ"
   },
   "outputs": [],
   "source": [
    "# < ENTER YOUR CODE HERE > "
   ]
  },
  {
   "cell_type": "markdown",
   "metadata": {
    "id": "2TAlwysU7IJg"
   },
   "source": [
    "Construct an image of size $4 \\times 4$ based on the $16$ colors obtained. Select the correct image."
   ]
  },
  {
   "cell_type": "code",
   "execution_count": null,
   "metadata": {
    "id": "-IWqjqQY7hsP",
    "pycharm": {
     "name": "#%%\n"
    }
   },
   "outputs": [],
   "source": [
    "# < ENTER YOUR CODE HERE > "
   ]
  },
  {
   "cell_type": "markdown",
   "metadata": {
    "id": "z-NWWkW17hsP",
    "pycharm": {
     "name": "#%% md\n"
    }
   },
   "source": [
    "It's time to look at the result! Line up next to the original image and an image that uses only $16$ of colors."
   ]
  },
  {
   "cell_type": "code",
   "execution_count": null,
   "metadata": {
    "id": "B2wipNA1GChP"
   },
   "outputs": [],
   "source": [
    "# < ENTER YOUR CODE HERE > "
   ]
  }
 ],
 "metadata": {
  "colab": {
   "provenance": []
  },
  "kernelspec": {
   "display_name": "Python 3 (ipykernel)",
   "language": "python",
   "name": "python3"
  },
  "language_info": {
   "codemirror_mode": {
    "name": "ipython",
    "version": 3
   },
   "file_extension": ".py",
   "mimetype": "text/x-python",
   "name": "python",
   "nbconvert_exporter": "python",
   "pygments_lexer": "ipython3",
   "version": "3.8.10"
  }
 },
 "nbformat": 4,
 "nbformat_minor": 1
}
