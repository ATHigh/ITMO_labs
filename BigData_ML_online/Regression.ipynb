{
 "cells": [
  {
   "cell_type": "markdown",
   "metadata": {
    "collapsed": true,
    "pycharm": {
     "name": "#%% md\n"
    }
   },
   "source": [
    "## Regression / Exercise 8"
   ]
  },
  {
   "cell_type": "code",
   "execution_count": 100,
   "outputs": [],
   "source": [
    "import pandas as pd\n",
    "import numpy as np\n",
    "from sklearn.linear_model import LinearRegression\n",
    "from sklearn.model_selection import train_test_split\n",
    "from sklearn.metrics import r2_score\n",
    "import seaborn as sns"
   ],
   "metadata": {
    "collapsed": false,
    "pycharm": {
     "name": "#%%\n"
    }
   }
  },
  {
   "cell_type": "markdown",
   "source": [
    "## Task 1"
   ],
   "metadata": {
    "collapsed": false,
    "pycharm": {
     "name": "#%% md\n"
    }
   }
  },
  {
   "cell_type": "code",
   "execution_count": 32,
   "outputs": [
    {
     "data": {
      "text/plain": "     X   Y\nid        \n1   17  39\n2   20  36\n3   14  34\n4   13  35\n5   10  25\n6   25  43\n7    8  26\n8    4   7\n9    7  16\n10   9  22",
      "text/html": "<div>\n<style scoped>\n    .dataframe tbody tr th:only-of-type {\n        vertical-align: middle;\n    }\n\n    .dataframe tbody tr th {\n        vertical-align: top;\n    }\n\n    .dataframe thead th {\n        text-align: right;\n    }\n</style>\n<table border=\"1\" class=\"dataframe\">\n  <thead>\n    <tr style=\"text-align: right;\">\n      <th></th>\n      <th>X</th>\n      <th>Y</th>\n    </tr>\n    <tr>\n      <th>id</th>\n      <th></th>\n      <th></th>\n    </tr>\n  </thead>\n  <tbody>\n    <tr>\n      <th>1</th>\n      <td>17</td>\n      <td>39</td>\n    </tr>\n    <tr>\n      <th>2</th>\n      <td>20</td>\n      <td>36</td>\n    </tr>\n    <tr>\n      <th>3</th>\n      <td>14</td>\n      <td>34</td>\n    </tr>\n    <tr>\n      <th>4</th>\n      <td>13</td>\n      <td>35</td>\n    </tr>\n    <tr>\n      <th>5</th>\n      <td>10</td>\n      <td>25</td>\n    </tr>\n    <tr>\n      <th>6</th>\n      <td>25</td>\n      <td>43</td>\n    </tr>\n    <tr>\n      <th>7</th>\n      <td>8</td>\n      <td>26</td>\n    </tr>\n    <tr>\n      <th>8</th>\n      <td>4</td>\n      <td>7</td>\n    </tr>\n    <tr>\n      <th>9</th>\n      <td>7</td>\n      <td>16</td>\n    </tr>\n    <tr>\n      <th>10</th>\n      <td>9</td>\n      <td>22</td>\n    </tr>\n  </tbody>\n</table>\n</div>"
     },
     "execution_count": 32,
     "metadata": {},
     "output_type": "execute_result"
    }
   ],
   "source": [
    "df = pd.read_csv(\"data_regression.txt\", sep=\",\", index_col=0)\n",
    "df.head(10)"
   ],
   "metadata": {
    "collapsed": false,
    "pycharm": {
     "name": "#%%\n"
    }
   }
  },
  {
   "cell_type": "code",
   "execution_count": 13,
   "outputs": [
    {
     "name": "stdout",
     "output_type": "stream",
     "text": [
      "<class 'pandas.core.frame.DataFrame'>\n",
      "Index: 10 entries, 1 to 10\n",
      "Data columns (total 2 columns):\n",
      " #   Column  Non-Null Count  Dtype\n",
      "---  ------  --------------  -----\n",
      " 0   X       10 non-null     int64\n",
      " 1   Y       10 non-null     int64\n",
      "dtypes: int64(2)\n",
      "memory usage: 240.0 bytes\n"
     ]
    }
   ],
   "source": [
    "df.info()"
   ],
   "metadata": {
    "collapsed": false,
    "pycharm": {
     "name": "#%%\n"
    }
   }
  },
  {
   "cell_type": "code",
   "source": [
    "#Find the sample X mean:\n",
    "print(df['X'].mean())"
   ],
   "metadata": {
    "collapsed": false,
    "pycharm": {
     "name": "#%%\n"
    }
   },
   "execution_count": 8,
   "outputs": [
    {
     "name": "stdout",
     "output_type": "stream",
     "text": [
      "12.7\n"
     ]
    }
   ]
  },
  {
   "cell_type": "code",
   "execution_count": 9,
   "outputs": [
    {
     "name": "stdout",
     "output_type": "stream",
     "text": [
      "28.3\n"
     ]
    }
   ],
   "source": [
    "#Find the sample Y mean:\n",
    "print(df['Y'].mean())"
   ],
   "metadata": {
    "collapsed": false,
    "pycharm": {
     "name": "#%%\n"
    }
   }
  },
  {
   "cell_type": "code",
   "execution_count": 44,
   "outputs": [],
   "source": [
    "X = np.array(df.X).reshape(-1, 1)\n",
    "Y = np.array(df.Y).reshape(-1, 1)"
   ],
   "metadata": {
    "collapsed": false,
    "pycharm": {
     "name": "#%%\n"
    }
   }
  },
  {
   "cell_type": "code",
   "execution_count": 22,
   "outputs": [
    {
     "name": "stdout",
     "output_type": "stream",
     "text": [
      "R^2 equals = 0.82\n"
     ]
    }
   ],
   "source": [
    "# Train the linear regression model to predict the values and enter the specified parameters.\n",
    "reg = LinearRegression().fit(X, Y)\n",
    "print(f'R^2 equals = {round(reg.score(X, Y), 2)}')"
   ],
   "metadata": {
    "collapsed": false,
    "pycharm": {
     "name": "#%%\n"
    }
   }
  },
  {
   "cell_type": "code",
   "execution_count": 31,
   "outputs": [
    {
     "name": "stdout",
     "output_type": "stream",
     "text": [
      "Zero coef = [8.3467163]\n",
      "First coef = [[1.5711247]]\n"
     ]
    }
   ],
   "source": [
    "print(f'Zero coef = {reg.intercept_}\\nFirst coef = {reg.coef_}')"
   ],
   "metadata": {
    "collapsed": false,
    "pycharm": {
     "name": "#%%\n"
    }
   }
  },
  {
   "cell_type": "markdown",
   "source": [
    "## Task 2\n",
    "\n",
    "#### The provided dataset consists of seven different types of fish sold in some fish shop. The goal is to predict the mass of the fish from some indirect features known about the fish. The features themselves may need to be synthesized from those that are known.\n",
    "\n",
    "#### IMPORTANT: Tasks with detailed explanations are presented in the notebook. When completing tasks in the notebook, you should enter your answers in the appropriate input boxes below. It is recommended that you enter the answers step by step, with a sufficient number of attempts provided for this purpose.\n",
    "\n",
    "#### Use train_test_split() to split the dataset into training and test samples with parameters test_size=0.2, random_state=27. Use stratification by column Species. Stratification will maintain the proportions of represented objects (by fish type representatives) in the training and test samples."
   ],
   "metadata": {
    "collapsed": false,
    "pycharm": {
     "name": "#%% md\n"
    }
   }
  },
  {
   "cell_type": "code",
   "execution_count": 33,
   "outputs": [
    {
     "data": {
      "text/plain": "  Species  Weight  Length1  Length2  Length3   Height   Width\n0   Roach   150.0     20.4     22.0     24.7   5.8045  3.7544\n1   Perch   250.0     25.4     27.5     28.9   7.2828  4.5662\n2   Bream   430.0     26.5     29.0     34.0  12.4440  5.1340\n3   Bream   925.0     36.2     39.5     45.3  18.7542  6.7497\n4   Perch   110.0     19.0     21.0     22.5   5.6925  3.5550",
      "text/html": "<div>\n<style scoped>\n    .dataframe tbody tr th:only-of-type {\n        vertical-align: middle;\n    }\n\n    .dataframe tbody tr th {\n        vertical-align: top;\n    }\n\n    .dataframe thead th {\n        text-align: right;\n    }\n</style>\n<table border=\"1\" class=\"dataframe\">\n  <thead>\n    <tr style=\"text-align: right;\">\n      <th></th>\n      <th>Species</th>\n      <th>Weight</th>\n      <th>Length1</th>\n      <th>Length2</th>\n      <th>Length3</th>\n      <th>Height</th>\n      <th>Width</th>\n    </tr>\n  </thead>\n  <tbody>\n    <tr>\n      <th>0</th>\n      <td>Roach</td>\n      <td>150.0</td>\n      <td>20.4</td>\n      <td>22.0</td>\n      <td>24.7</td>\n      <td>5.8045</td>\n      <td>3.7544</td>\n    </tr>\n    <tr>\n      <th>1</th>\n      <td>Perch</td>\n      <td>250.0</td>\n      <td>25.4</td>\n      <td>27.5</td>\n      <td>28.9</td>\n      <td>7.2828</td>\n      <td>4.5662</td>\n    </tr>\n    <tr>\n      <th>2</th>\n      <td>Bream</td>\n      <td>430.0</td>\n      <td>26.5</td>\n      <td>29.0</td>\n      <td>34.0</td>\n      <td>12.4440</td>\n      <td>5.1340</td>\n    </tr>\n    <tr>\n      <th>3</th>\n      <td>Bream</td>\n      <td>925.0</td>\n      <td>36.2</td>\n      <td>39.5</td>\n      <td>45.3</td>\n      <td>18.7542</td>\n      <td>6.7497</td>\n    </tr>\n    <tr>\n      <th>4</th>\n      <td>Perch</td>\n      <td>110.0</td>\n      <td>19.0</td>\n      <td>21.0</td>\n      <td>22.5</td>\n      <td>5.6925</td>\n      <td>3.5550</td>\n    </tr>\n  </tbody>\n</table>\n</div>"
     },
     "execution_count": 33,
     "metadata": {},
     "output_type": "execute_result"
    }
   ],
   "source": [
    "df2 = pd.read_csv(\"fish_train.csv\")\n",
    "df2.head()"
   ],
   "metadata": {
    "collapsed": false,
    "pycharm": {
     "name": "#%%\n"
    }
   }
  },
  {
   "cell_type": "code",
   "execution_count": 35,
   "outputs": [
    {
     "name": "stdout",
     "output_type": "stream",
     "text": [
      "<class 'pandas.core.frame.DataFrame'>\n",
      "RangeIndex: 119 entries, 0 to 118\n",
      "Data columns (total 7 columns):\n",
      " #   Column   Non-Null Count  Dtype  \n",
      "---  ------   --------------  -----  \n",
      " 0   Species  119 non-null    object \n",
      " 1   Weight   119 non-null    float64\n",
      " 2   Length1  119 non-null    float64\n",
      " 3   Length2  119 non-null    float64\n",
      " 4   Length3  119 non-null    float64\n",
      " 5   Height   119 non-null    float64\n",
      " 6   Width    119 non-null    float64\n",
      "dtypes: float64(6), object(1)\n",
      "memory usage: 6.6+ KB\n"
     ]
    }
   ],
   "source": [
    "df2.info()"
   ],
   "metadata": {
    "collapsed": false,
    "pycharm": {
     "name": "#%%\n"
    }
   }
  },
  {
   "cell_type": "code",
   "execution_count": 36,
   "outputs": [
    {
     "data": {
      "text/plain": "            Weight     Length1     Length2     Length3      Height       Width\ncount   119.000000  119.000000  119.000000  119.000000  119.000000  119.000000\nmean    405.177311   26.594958   28.781513   31.602521    9.092096    4.507407\nstd     338.834252    9.613002   10.308208   11.116086    4.231866    1.678796\nmin       0.000000    7.500000    8.400000    8.800000    1.738800    1.047600\n25%     142.500000   20.000000   22.000000   23.500000    6.138850    3.536400\n50%     300.000000   25.400000   27.500000   30.600000    8.145400    4.335000\n75%     685.000000   33.850000   36.450000   40.150000   12.143400    5.789550\nmax    1550.000000   56.000000   60.000000   64.000000   18.957000    8.142000",
      "text/html": "<div>\n<style scoped>\n    .dataframe tbody tr th:only-of-type {\n        vertical-align: middle;\n    }\n\n    .dataframe tbody tr th {\n        vertical-align: top;\n    }\n\n    .dataframe thead th {\n        text-align: right;\n    }\n</style>\n<table border=\"1\" class=\"dataframe\">\n  <thead>\n    <tr style=\"text-align: right;\">\n      <th></th>\n      <th>Weight</th>\n      <th>Length1</th>\n      <th>Length2</th>\n      <th>Length3</th>\n      <th>Height</th>\n      <th>Width</th>\n    </tr>\n  </thead>\n  <tbody>\n    <tr>\n      <th>count</th>\n      <td>119.000000</td>\n      <td>119.000000</td>\n      <td>119.000000</td>\n      <td>119.000000</td>\n      <td>119.000000</td>\n      <td>119.000000</td>\n    </tr>\n    <tr>\n      <th>mean</th>\n      <td>405.177311</td>\n      <td>26.594958</td>\n      <td>28.781513</td>\n      <td>31.602521</td>\n      <td>9.092096</td>\n      <td>4.507407</td>\n    </tr>\n    <tr>\n      <th>std</th>\n      <td>338.834252</td>\n      <td>9.613002</td>\n      <td>10.308208</td>\n      <td>11.116086</td>\n      <td>4.231866</td>\n      <td>1.678796</td>\n    </tr>\n    <tr>\n      <th>min</th>\n      <td>0.000000</td>\n      <td>7.500000</td>\n      <td>8.400000</td>\n      <td>8.800000</td>\n      <td>1.738800</td>\n      <td>1.047600</td>\n    </tr>\n    <tr>\n      <th>25%</th>\n      <td>142.500000</td>\n      <td>20.000000</td>\n      <td>22.000000</td>\n      <td>23.500000</td>\n      <td>6.138850</td>\n      <td>3.536400</td>\n    </tr>\n    <tr>\n      <th>50%</th>\n      <td>300.000000</td>\n      <td>25.400000</td>\n      <td>27.500000</td>\n      <td>30.600000</td>\n      <td>8.145400</td>\n      <td>4.335000</td>\n    </tr>\n    <tr>\n      <th>75%</th>\n      <td>685.000000</td>\n      <td>33.850000</td>\n      <td>36.450000</td>\n      <td>40.150000</td>\n      <td>12.143400</td>\n      <td>5.789550</td>\n    </tr>\n    <tr>\n      <th>max</th>\n      <td>1550.000000</td>\n      <td>56.000000</td>\n      <td>60.000000</td>\n      <td>64.000000</td>\n      <td>18.957000</td>\n      <td>8.142000</td>\n    </tr>\n  </tbody>\n</table>\n</div>"
     },
     "execution_count": 36,
     "metadata": {},
     "output_type": "execute_result"
    }
   ],
   "source": [
    "df2.describe()"
   ],
   "metadata": {
    "collapsed": false,
    "pycharm": {
     "name": "#%%\n"
    }
   }
  },
  {
   "cell_type": "code",
   "execution_count": 95,
   "outputs": [],
   "source": [
    "X = df2.drop(columns=['Species','Weight'])\n",
    "Y = df2['Weight']"
   ],
   "metadata": {
    "collapsed": false,
    "pycharm": {
     "name": "#%%\n"
    }
   }
  },
  {
   "cell_type": "code",
   "execution_count": 96,
   "outputs": [],
   "source": [
    "X_train, X_test, y_train, y_test = train_test_split(X, Y, test_size=0.2, random_state=27, stratify=df2['Species'])"
   ],
   "metadata": {
    "collapsed": false,
    "pycharm": {
     "name": "#%%\n"
    }
   }
  },
  {
   "cell_type": "code",
   "execution_count": 97,
   "outputs": [
    {
     "name": "stdout",
     "output_type": "stream",
     "text": [
      "4.558\n"
     ]
    }
   ],
   "source": [
    "# Find sample mean for the column Width of the obtained training sample.\n",
    "# The decimal separator is a period. Round your answer to three decimal places.\n",
    "print(round(X_train['Width'].mean(),3))"
   ],
   "metadata": {
    "collapsed": false,
    "pycharm": {
     "name": "#%%\n"
    }
   }
  },
  {
   "cell_type": "markdown",
   "source": [
    "## 1. Building a base model\n",
    "\n",
    "### Remove categorical features and train a linear regression model on the training dataset. Perform predictions on the test dataset.\n",
    "### Evaluate the model using the metric r2_score().\n",
    "\n",
    "### Enter r2_score() of the obtained model.\n",
    "### The decimal separator is a period. Round your answer to three decimal places."
   ],
   "metadata": {
    "collapsed": false,
    "pycharm": {
     "name": "#%% md\n"
    }
   }
  },
  {
   "cell_type": "code",
   "execution_count": 98,
   "outputs": [],
   "source": [
    "base_model = LinearRegression().fit(X_train, y_train)"
   ],
   "metadata": {
    "collapsed": false,
    "pycharm": {
     "name": "#%%\n"
    }
   }
  },
  {
   "cell_type": "code",
   "execution_count": 99,
   "outputs": [
    {
     "name": "stdout",
     "output_type": "stream",
     "text": [
      "0.801\n"
     ]
    }
   ],
   "source": [
    "print(round(r2_score(y_test, base_model.predict(X_test)),3))"
   ],
   "metadata": {
    "collapsed": false,
    "pycharm": {
     "name": "#%%\n"
    }
   }
  },
  {
   "cell_type": "code",
   "execution_count": 101,
   "outputs": [
    {
     "data": {
      "text/plain": "<Axes: >"
     },
     "execution_count": 101,
     "metadata": {},
     "output_type": "execute_result"
    },
    {
     "data": {
      "text/plain": "<Figure size 640x480 with 2 Axes>",
      "image/png": "[encoded data removed]"
     },
     "metadata": {},
     "output_type": "display_data"
    }
   ],
   "source": [
    "sns.heatmap(X_train)"
   ],
   "metadata": {
    "collapsed": false,
    "pycharm": {
     "name": "#%%\n"
    }
   }
  },
  {
   "cell_type": "code",
   "execution_count": null,
   "outputs": [],
   "source": [],
   "metadata": {
    "collapsed": false,
    "pycharm": {
     "name": "#%%\n"
    }
   }
  }
 ],
 "metadata": {
  "kernelspec": {
   "display_name": "Python 3",
   "language": "python",
   "name": "python3"
  },
  "language_info": {
   "codemirror_mode": {
    "name": "ipython",
    "version": 2
   },
   "file_extension": ".py",
   "mimetype": "text/x-python",
   "name": "python",
   "nbconvert_exporter": "python",
   "pygments_lexer": "ipython2",
   "version": "2.7.6"
  }
 },
 "nbformat": 4,
 "nbformat_minor": 0
}