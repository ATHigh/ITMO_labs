{
 "cells": [
  {
   "cell_type": "markdown",
   "metadata": {
    "id": "S2Zv-8wrSmbU"
   },
   "source": [
    "# Application of logistic regression to the classification problem"
   ]
  },
  {
   "cell_type": "markdown",
   "metadata": {
    "id": "Fsaq3T7JS9Ox"
   },
   "source": [
    "# Dataset description"
   ]
  },
  {
   "cell_type": "markdown",
   "metadata": {
    "id": "ekwIM8kmTAx5"
   },
   "source": [
    "The dataset contains information about the passengers of the Titanic, which sank on the night of April 15, 1912. A number of passengers were rescued due to many different factors, including their gender, age, which deck their cabin was on, social status, etc.\n",
    "\n",
    "The dataset consists of various features that describe information about the passengers. Each row of the table is an individual passenger, with all the information about that passenger contained in its row.\n",
    "\n",
    "Dataset description:\n",
    "- **Survived** (target): whether passanger survived or not (0 = No, 1 = Yes);\n",
    "- **Pclass**: ticket class (1 = 1st, 2 = 2nd, 3 = 3rd);\n",
    "- **Sex**: gender (female или male)\t\n",
    "- **Age**: age in years\n",
    "- **SibSp**: no. of siblings/spouses aboard the Titanic\t\n",
    "- **Parch**: no. of parents/children aboard the Titanic\n",
    "- **Ticket**: ticket number\t\n",
    "- **Fare**: passenger fare\n",
    "- **Cabin**: cabin number\t\n",
    "- **Embarked**: port of embarkation: (C = Cherbourg, Q = Queenstown, S = Southampton).\n",
    "\n",
    "We need to solve the classification problem and learn to predict the target feature **Survived** (whether the passenger will survive) from the corresponding non-target features.\n"
   ]
  },
  {
   "cell_type": "markdown",
   "metadata": {
    "id": "SjI-Ub1GYbKX"
   },
   "source": [
    "# Data preparation and exploratory analysis"
   ]
  },
  {
   "cell_type": "code",
   "execution_count": 91,
   "metadata": {
    "id": "a_MzT3cKTuR9"
   },
   "outputs": [],
   "source": [
    "import numpy as np \n",
    "import pandas as pd\n",
    "import matplotlib.pyplot as plt\n",
    "import seaborn as sns\n",
    "from sklearn.linear_model import LogisticRegression\n",
    "from sklearn.metrics import f1_score\n",
    "from sklearn.metrics import classification_report\n",
    "from sklearn.model_selection import train_test_split"
   ]
  },
  {
   "cell_type": "markdown",
   "source": [
    "## Import data"
   ],
   "metadata": {
    "collapsed": false,
    "pycharm": {
     "name": "#%% md\n"
    }
   }
  },
  {
   "cell_type": "code",
   "execution_count": 3,
   "outputs": [
    {
     "data": {
      "text/plain": "   pclass  survived                                             name     sex  \\\n0       3         1                               Smyth, Miss. Julia  female   \n1       3         1                         Glynn, Miss. Mary Agatha  female   \n2       3         1  Whabee, Mrs. George Joseph (Shawneene Abi-Saab)  female   \n3       3         0                                  Vovk, Mr. Janko    male   \n4       3         0                        de Pelsmaeker, Mr. Alfons    male   \n\n    age  sibsp  parch  ticket    fare cabin embarked  \\\n0   NaN      0      0  335432  7.7333   NaN        Q   \n1   NaN      0      0  335677  7.7500   NaN        Q   \n2  38.0      0      0    2688  7.2292   NaN        C   \n3  22.0      0      0  349252  7.8958   NaN        S   \n4  16.0      0      0  345778  9.5000   NaN        S   \n\n                          home.dest  \n0                               NaN  \n1  Co Clare, Ireland Washington, DC  \n2                               NaN  \n3                               NaN  \n4                               NaN  ",
      "text/html": "<div>\n<style scoped>\n    .dataframe tbody tr th:only-of-type {\n        vertical-align: middle;\n    }\n\n    .dataframe tbody tr th {\n        vertical-align: top;\n    }\n\n    .dataframe thead th {\n        text-align: right;\n    }\n</style>\n<table border=\"1\" class=\"dataframe\">\n  <thead>\n    <tr style=\"text-align: right;\">\n      <th></th>\n      <th>pclass</th>\n      <th>survived</th>\n      <th>name</th>\n      <th>sex</th>\n      <th>age</th>\n      <th>sibsp</th>\n      <th>parch</th>\n      <th>ticket</th>\n      <th>fare</th>\n      <th>cabin</th>\n      <th>embarked</th>\n      <th>home.dest</th>\n    </tr>\n  </thead>\n  <tbody>\n    <tr>\n      <th>0</th>\n      <td>3</td>\n      <td>1</td>\n      <td>Smyth, Miss. Julia</td>\n      <td>female</td>\n      <td>NaN</td>\n      <td>0</td>\n      <td>0</td>\n      <td>335432</td>\n      <td>7.7333</td>\n      <td>NaN</td>\n      <td>Q</td>\n      <td>NaN</td>\n    </tr>\n    <tr>\n      <th>1</th>\n      <td>3</td>\n      <td>1</td>\n      <td>Glynn, Miss. Mary Agatha</td>\n      <td>female</td>\n      <td>NaN</td>\n      <td>0</td>\n      <td>0</td>\n      <td>335677</td>\n      <td>7.7500</td>\n      <td>NaN</td>\n      <td>Q</td>\n      <td>Co Clare, Ireland Washington, DC</td>\n    </tr>\n    <tr>\n      <th>2</th>\n      <td>3</td>\n      <td>1</td>\n      <td>Whabee, Mrs. George Joseph (Shawneene Abi-Saab)</td>\n      <td>female</td>\n      <td>38.0</td>\n      <td>0</td>\n      <td>0</td>\n      <td>2688</td>\n      <td>7.2292</td>\n      <td>NaN</td>\n      <td>C</td>\n      <td>NaN</td>\n    </tr>\n    <tr>\n      <th>3</th>\n      <td>3</td>\n      <td>0</td>\n      <td>Vovk, Mr. Janko</td>\n      <td>male</td>\n      <td>22.0</td>\n      <td>0</td>\n      <td>0</td>\n      <td>349252</td>\n      <td>7.8958</td>\n      <td>NaN</td>\n      <td>S</td>\n      <td>NaN</td>\n    </tr>\n    <tr>\n      <th>4</th>\n      <td>3</td>\n      <td>0</td>\n      <td>de Pelsmaeker, Mr. Alfons</td>\n      <td>male</td>\n      <td>16.0</td>\n      <td>0</td>\n      <td>0</td>\n      <td>345778</td>\n      <td>9.5000</td>\n      <td>NaN</td>\n      <td>S</td>\n      <td>NaN</td>\n    </tr>\n  </tbody>\n</table>\n</div>"
     },
     "execution_count": 3,
     "metadata": {},
     "output_type": "execute_result"
    }
   ],
   "source": [
    "data = pd.read_csv('titanic_train.csv')\n",
    "data.head()"
   ],
   "metadata": {
    "collapsed": false,
    "pycharm": {
     "name": "#%%\n"
    }
   }
  },
  {
   "cell_type": "code",
   "execution_count": 10,
   "outputs": [
    {
     "data": {
      "text/plain": "           pclass    survived         age       sibsp       parch        fare\ncount  981.000000  981.000000  782.000000  981.000000  981.000000  981.000000\nmean     2.299694    0.382263   29.963448    0.480122    0.386340   32.517741\nstd      0.836593    0.486188   14.482025    0.989157    0.873987   49.306258\nmin      1.000000    0.000000    0.333300    0.000000    0.000000    0.000000\n25%      2.000000    0.000000   21.000000    0.000000    0.000000    7.895800\n50%      3.000000    0.000000   28.000000    0.000000    0.000000   14.000000\n75%      3.000000    1.000000   39.000000    1.000000    0.000000   31.275000\nmax      3.000000    1.000000   80.000000    8.000000    9.000000  512.329200",
      "text/html": "<div>\n<style scoped>\n    .dataframe tbody tr th:only-of-type {\n        vertical-align: middle;\n    }\n\n    .dataframe tbody tr th {\n        vertical-align: top;\n    }\n\n    .dataframe thead th {\n        text-align: right;\n    }\n</style>\n<table border=\"1\" class=\"dataframe\">\n  <thead>\n    <tr style=\"text-align: right;\">\n      <th></th>\n      <th>pclass</th>\n      <th>survived</th>\n      <th>age</th>\n      <th>sibsp</th>\n      <th>parch</th>\n      <th>fare</th>\n    </tr>\n  </thead>\n  <tbody>\n    <tr>\n      <th>count</th>\n      <td>981.000000</td>\n      <td>981.000000</td>\n      <td>782.000000</td>\n      <td>981.000000</td>\n      <td>981.000000</td>\n      <td>981.000000</td>\n    </tr>\n    <tr>\n      <th>mean</th>\n      <td>2.299694</td>\n      <td>0.382263</td>\n      <td>29.963448</td>\n      <td>0.480122</td>\n      <td>0.386340</td>\n      <td>32.517741</td>\n    </tr>\n    <tr>\n      <th>std</th>\n      <td>0.836593</td>\n      <td>0.486188</td>\n      <td>14.482025</td>\n      <td>0.989157</td>\n      <td>0.873987</td>\n      <td>49.306258</td>\n    </tr>\n    <tr>\n      <th>min</th>\n      <td>1.000000</td>\n      <td>0.000000</td>\n      <td>0.333300</td>\n      <td>0.000000</td>\n      <td>0.000000</td>\n      <td>0.000000</td>\n    </tr>\n    <tr>\n      <th>25%</th>\n      <td>2.000000</td>\n      <td>0.000000</td>\n      <td>21.000000</td>\n      <td>0.000000</td>\n      <td>0.000000</td>\n      <td>7.895800</td>\n    </tr>\n    <tr>\n      <th>50%</th>\n      <td>3.000000</td>\n      <td>0.000000</td>\n      <td>28.000000</td>\n      <td>0.000000</td>\n      <td>0.000000</td>\n      <td>14.000000</td>\n    </tr>\n    <tr>\n      <th>75%</th>\n      <td>3.000000</td>\n      <td>1.000000</td>\n      <td>39.000000</td>\n      <td>1.000000</td>\n      <td>0.000000</td>\n      <td>31.275000</td>\n    </tr>\n    <tr>\n      <th>max</th>\n      <td>3.000000</td>\n      <td>1.000000</td>\n      <td>80.000000</td>\n      <td>8.000000</td>\n      <td>9.000000</td>\n      <td>512.329200</td>\n    </tr>\n  </tbody>\n</table>\n</div>"
     },
     "execution_count": 10,
     "metadata": {},
     "output_type": "execute_result"
    }
   ],
   "source": [
    "data.describe()"
   ],
   "metadata": {
    "collapsed": false,
    "pycharm": {
     "name": "#%%\n"
    }
   }
  },
  {
   "cell_type": "code",
   "execution_count": 4,
   "outputs": [
    {
     "name": "stdout",
     "output_type": "stream",
     "text": [
      "<class 'pandas.core.frame.DataFrame'>\n",
      "RangeIndex: 981 entries, 0 to 980\n",
      "Data columns (total 12 columns):\n",
      " #   Column     Non-Null Count  Dtype  \n",
      "---  ------     --------------  -----  \n",
      " 0   pclass     981 non-null    int64  \n",
      " 1   survived   981 non-null    int64  \n",
      " 2   name       981 non-null    object \n",
      " 3   sex        981 non-null    object \n",
      " 4   age        782 non-null    float64\n",
      " 5   sibsp      981 non-null    int64  \n",
      " 6   parch      981 non-null    int64  \n",
      " 7   ticket     981 non-null    object \n",
      " 8   fare       981 non-null    float64\n",
      " 9   cabin      212 non-null    object \n",
      " 10  embarked   981 non-null    object \n",
      " 11  home.dest  567 non-null    object \n",
      "dtypes: float64(2), int64(4), object(6)\n",
      "memory usage: 92.1+ KB\n"
     ]
    }
   ],
   "source": [
    "data.info()"
   ],
   "metadata": {
    "collapsed": false,
    "pycharm": {
     "name": "#%%\n"
    }
   }
  },
  {
   "cell_type": "markdown",
   "metadata": {
    "id": "KY4ZYwUuUNwx"
   },
   "source": [
    "Find the number of missing values in the <code>age</code> column:"
   ]
  },
  {
   "cell_type": "code",
   "execution_count": 7,
   "metadata": {
    "id": "Ii5ITpGJUShn"
   },
   "outputs": [
    {
     "data": {
      "text/plain": "199"
     },
     "execution_count": 7,
     "metadata": {},
     "output_type": "execute_result"
    }
   ],
   "source": [
    "data['age'].isnull().sum()"
   ]
  },
  {
   "cell_type": "markdown",
   "metadata": {
    "id": "gOqnpfJkU6Ll"
   },
   "source": [
    "Calculate the proportion of survivors."
   ]
  },
  {
   "cell_type": "code",
   "execution_count": 9,
   "metadata": {
    "id": "dHdTN-odVAIb"
   },
   "outputs": [
    {
     "data": {
      "text/plain": "survived\n0    0.618\n1    0.382\nName: proportion, dtype: float64"
     },
     "execution_count": 9,
     "metadata": {},
     "output_type": "execute_result"
    }
   ],
   "source": [
    "round(data.survived.value_counts(normalize = True), 3)"
   ]
  },
  {
   "cell_type": "markdown",
   "metadata": {
    "id": "MJS0wozuVoWt"
   },
   "source": [
    "Determine the proportion of missing values within each feature and get rid of those features where the proportion of missing values is greater than a third. Also delete the column <code>ticket</code> as this information is unlikely to be useful."
   ]
  },
  {
   "cell_type": "code",
   "execution_count": 43,
   "outputs": [
    {
     "data": {
      "text/plain": "['cabin', 'home.dest']"
     },
     "execution_count": 43,
     "metadata": {},
     "output_type": "execute_result"
    }
   ],
   "source": [
    "deleted_features = (data.isnull().sum() > data.count()/3).reset_index()\n",
    "deleted_features = deleted_features['index'].loc[deleted_features[0] == True].to_list()\n",
    "deleted_features"
   ],
   "metadata": {
    "collapsed": false,
    "pycharm": {
     "name": "#%%\n"
    }
   }
  },
  {
   "cell_type": "code",
   "execution_count": 44,
   "metadata": {
    "id": "43ptqUREVz-t"
   },
   "outputs": [],
   "source": [
    "data.drop(columns=deleted_features, inplace=True)\n",
    "data.drop(columns='ticket', inplace=True)"
   ]
  },
  {
   "cell_type": "markdown",
   "metadata": {
    "id": "5Porb6vGmpke"
   },
   "source": [
    "From the dataset description, you can see that the columns <code>sibsp</code> and <code>parch</code> are essentially responsible for family size. Replace these two columns with the <code>fam_size</code> column, whose values will be calculated as the sum of the corresponding values in the columns <code>sibsp</code> and <code>parch</code>."
   ]
  },
  {
   "cell_type": "code",
   "execution_count": 47,
   "metadata": {
    "id": "knvpyHMrm4f-"
   },
   "outputs": [],
   "source": [
    "data['fam_size'] = data.sibsp + data.parch\n",
    "data.drop(columns=['sibsp', 'parch'], inplace=True)"
   ]
  },
  {
   "cell_type": "code",
   "execution_count": 49,
   "outputs": [
    {
     "data": {
      "text/plain": "0.866"
     },
     "execution_count": 49,
     "metadata": {},
     "output_type": "execute_result"
    }
   ],
   "source": [
    "round(data.fam_size.mean(), 3)"
   ],
   "metadata": {
    "collapsed": false,
    "pycharm": {
     "name": "#%%\n"
    }
   }
  },
  {
   "cell_type": "markdown",
   "metadata": {
    "id": "X9Cmdl5fmyoi"
   },
   "source": [
    "The resulting dataset will be called **INITIAL** (the features discarded at this stage do not need to be returned at any of the subsequent stages of the task)."
   ]
  },
  {
   "cell_type": "code",
   "execution_count": 54,
   "metadata": {
    "id": "XdpdKkEBUT52"
   },
   "outputs": [
    {
     "data": {
      "text/plain": "7"
     },
     "execution_count": 54,
     "metadata": {},
     "output_type": "execute_result"
    }
   ],
   "source": [
    "INITIAL = data.copy()\n",
    "INITIAL.shape[1] - 1"
   ]
  },
  {
   "cell_type": "markdown",
   "metadata": {
    "id": "wQOvPyj8Vx00"
   },
   "source": [
    "Based on available statistics, estimate the probability of survival if the passenger is a member of the particular category (this category is pecified in your individual assignment).\n",
    "male and pclass = 3"
   ]
  },
  {
   "cell_type": "code",
   "execution_count": 69,
   "metadata": {
    "id": "hFpZp4LaeS9Q"
   },
   "outputs": [
    {
     "name": "stdout",
     "output_type": "stream",
     "text": [
      "Probability of survival if the passenger is a member of the particular category = 0.164\n"
     ]
    }
   ],
   "source": [
    "print('Probability of survival if the passenger is a member of the particular category =', round(INITIAL.loc[(INITIAL['sex'] == 'male') & (INITIAL['pclass'] == 3) & (INITIAL['survived'] == 1)].shape[0] / INITIAL.loc[(INITIAL['sex'] == 'male') & (INITIAL['pclass'] == 3)].shape[0], 3))"
   ]
  },
  {
   "cell_type": "markdown",
   "metadata": {
    "id": "sXxprQtFhSy4"
   },
   "source": [
    "Construct histograms of survivors and non-survivors by age."
   ]
  },
  {
   "cell_type": "code",
   "execution_count": 89,
   "metadata": {
    "id": "K3wHT2Uzr3nb"
   },
   "outputs": [
    {
     "data": {
      "text/plain": "Text(0.5, 1.0, 'Distribution non-survived')"
     },
     "execution_count": 89,
     "metadata": {},
     "output_type": "execute_result"
    },
    {
     "data": {
      "text/plain": "<Figure size 640x480 with 2 Axes>",
      "image/png": "[encoded data removed]"
     },
     "metadata": {},
     "output_type": "display_data"
    }
   ],
   "source": [
    "fig, (ax1, ax2) = plt.subplots(1, 2)\n",
    "ax1.hist(INITIAL['age'].loc[INITIAL['survived'] == 1], edgecolor = 'black', bins = 15)\n",
    "ax1.set_xlabel('age')\n",
    "ax1.set_title('Distribution survived')\n",
    "\n",
    "ax2.hist(INITIAL['age'].loc[INITIAL['survived'] == 0], edgecolor = 'black', bins = 15)\n",
    "ax2.set_xlabel('age')\n",
    "ax2.set_title('Distribution non-survived')"
   ]
  },
  {
   "cell_type": "markdown",
   "metadata": {
    "id": "u_bO7O9v0ovG"
   },
   "source": [
    "# Model based on numerical features"
   ]
  },
  {
   "cell_type": "markdown",
   "metadata": {
    "id": "VJPhFX8M38SF"
   },
   "source": [
    "## Removing rows with missing values"
   ]
  },
  {
   "cell_type": "markdown",
   "metadata": {
    "id": "kAO1Bd2Q0qZr"
   },
   "source": [
    "As a base model, it makes sense to build a model with minimal effort.\n",
    "\n",
    "From the initial dataset, remove all categorical features as well as rows containing missing values.\n",
    "\n",
    "Use <code>train_test_split()</code> to split the dataset into training and test samples <b>with the parameters specified in your individual assigment</b>. Use stratification by column <code>survived</code>.\n",
    "\n",
    "Train <code>LogisticRegression()</code> model (<b>with the parameters specified in your individual assigment</b>) on training dataset, and evaluate the model on test dataset.\n",
    "\n",
    "Compute <code>f1_score()</code> of the model on the test dataset (we recommend using <a href=\"https://scikit-learn.org/stable/modules/generated/sklearn.metrics.f1_score.html\">the corresponding function</a> with default parameters)."
   ]
  },
  {
   "cell_type": "code",
   "execution_count": 101,
   "outputs": [],
   "source": [
    "X = INITIAL.select_dtypes(exclude='object')\n",
    "X.dropna(inplace=True)\n",
    "y = X['survived']"
   ],
   "metadata": {
    "collapsed": false,
    "pycharm": {
     "name": "#%%\n"
    }
   }
  },
  {
   "cell_type": "code",
   "execution_count": 102,
   "outputs": [],
   "source": [
    "X_train, X_test, y_train, y_test = train_test_split(X.drop(columns='survived'), y, test_size=0.2, random_state=23, stratify=X['survived'])"
   ],
   "metadata": {
    "collapsed": false,
    "pycharm": {
     "name": "#%%\n"
    }
   }
  },
  {
   "cell_type": "code",
   "execution_count": 103,
   "metadata": {
    "id": "8JJ6qQT618Uz"
   },
   "outputs": [
    {
     "data": {
      "text/plain": "LogisticRegression(max_iter=1000, random_state=23)",
      "text/html": "<style>#sk-container-id-1 {color: black;}#sk-container-id-1 pre{padding: 0;}#sk-container-id-1 div.sk-toggleable {background-color: white;}#sk-container-id-1 label.sk-toggleable__label {cursor: pointer;display: block;width: 100%;margin-bottom: 0;padding: 0.3em;box-sizing: border-box;text-align: center;}#sk-container-id-1 label.sk-toggleable__label-arrow:before {content: \"▸\";float: left;margin-right: 0.25em;color: #696969;}#sk-container-id-1 label.sk-toggleable__label-arrow:hover:before {color: black;}#sk-container-id-1 div.sk-estimator:hover label.sk-toggleable__label-arrow:before {color: black;}#sk-container-id-1 div.sk-toggleable__content {max-height: 0;max-width: 0;overflow: hidden;text-align: left;background-color: #f0f8ff;}#sk-container-id-1 div.sk-toggleable__content pre {margin: 0.2em;color: black;border-radius: 0.25em;background-color: #f0f8ff;}#sk-container-id-1 input.sk-toggleable__control:checked~div.sk-toggleable__content {max-height: 200px;max-width: 100%;overflow: auto;}#sk-container-id-1 input.sk-toggleable__control:checked~label.sk-toggleable__label-arrow:before {content: \"▾\";}#sk-container-id-1 div.sk-estimator input.sk-toggleable__control:checked~label.sk-toggleable__label {background-color: #d4ebff;}#sk-container-id-1 div.sk-label input.sk-toggleable__control:checked~label.sk-toggleable__label {background-color: #d4ebff;}#sk-container-id-1 input.sk-hidden--visually {border: 0;clip: rect(1px 1px 1px 1px);clip: rect(1px, 1px, 1px, 1px);height: 1px;margin: -1px;overflow: hidden;padding: 0;position: absolute;width: 1px;}#sk-container-id-1 div.sk-estimator {font-family: monospace;background-color: #f0f8ff;border: 1px dotted black;border-radius: 0.25em;box-sizing: border-box;margin-bottom: 0.5em;}#sk-container-id-1 div.sk-estimator:hover {background-color: #d4ebff;}#sk-container-id-1 div.sk-parallel-item::after {content: \"\";width: 100%;border-bottom: 1px solid gray;flex-grow: 1;}#sk-container-id-1 div.sk-label:hover label.sk-toggleable__label {background-color: #d4ebff;}#sk-container-id-1 div.sk-serial::before {content: \"\";position: absolute;border-left: 1px solid gray;box-sizing: border-box;top: 0;bottom: 0;left: 50%;z-index: 0;}#sk-container-id-1 div.sk-serial {display: flex;flex-direction: column;align-items: center;background-color: white;padding-right: 0.2em;padding-left: 0.2em;position: relative;}#sk-container-id-1 div.sk-item {position: relative;z-index: 1;}#sk-container-id-1 div.sk-parallel {display: flex;align-items: stretch;justify-content: center;background-color: white;position: relative;}#sk-container-id-1 div.sk-item::before, #sk-container-id-1 div.sk-parallel-item::before {content: \"\";position: absolute;border-left: 1px solid gray;box-sizing: border-box;top: 0;bottom: 0;left: 50%;z-index: -1;}#sk-container-id-1 div.sk-parallel-item {display: flex;flex-direction: column;z-index: 1;position: relative;background-color: white;}#sk-container-id-1 div.sk-parallel-item:first-child::after {align-self: flex-end;width: 50%;}#sk-container-id-1 div.sk-parallel-item:last-child::after {align-self: flex-start;width: 50%;}#sk-container-id-1 div.sk-parallel-item:only-child::after {width: 0;}#sk-container-id-1 div.sk-dashed-wrapped {border: 1px dashed gray;margin: 0 0.4em 0.5em 0.4em;box-sizing: border-box;padding-bottom: 0.4em;background-color: white;}#sk-container-id-1 div.sk-label label {font-family: monospace;font-weight: bold;display: inline-block;line-height: 1.2em;}#sk-container-id-1 div.sk-label-container {text-align: center;}#sk-container-id-1 div.sk-container {/* jupyter's `normalize.less` sets `[hidden] { display: none; }` but bootstrap.min.css set `[hidden] { display: none !important; }` so we also need the `!important` here to be able to override the default hidden behavior on the sphinx rendered scikit-learn.org. See: https://github.com/scikit-learn/scikit-learn/issues/21755 */display: inline-block !important;position: relative;}#sk-container-id-1 div.sk-text-repr-fallback {display: none;}</style><div id=\"sk-container-id-1\" class=\"sk-top-container\"><div class=\"sk-text-repr-fallback\"><pre>LogisticRegression(max_iter=1000, random_state=23)</pre><b>In a Jupyter environment, please rerun this cell to show the HTML representation or trust the notebook. <br />On GitHub, the HTML representation is unable to render, please try loading this page with nbviewer.org.</b></div><div class=\"sk-container\" hidden><div class=\"sk-item\"><div class=\"sk-estimator sk-toggleable\"><input class=\"sk-toggleable__control sk-hidden--visually\" id=\"sk-estimator-id-1\" type=\"checkbox\" checked><label for=\"sk-estimator-id-1\" class=\"sk-toggleable__label sk-toggleable__label-arrow\">LogisticRegression</label><div class=\"sk-toggleable__content\"><pre>LogisticRegression(max_iter=1000, random_state=23)</pre></div></div></div></div></div>"
     },
     "execution_count": 103,
     "metadata": {},
     "output_type": "execute_result"
    }
   ],
   "source": [
    "base_model = LogisticRegression(random_state=23, max_iter=1000)\n",
    "base_model.fit(X_train, y_train)"
   ]
  },
  {
   "cell_type": "code",
   "execution_count": 107,
   "outputs": [
    {
     "name": "stdout",
     "output_type": "stream",
     "text": [
      "              precision    recall  f1-score   support\n",
      "\n",
      "           0      0.669     0.871     0.757        93\n",
      "           1      0.667     0.375     0.480        64\n",
      "\n",
      "    accuracy                          0.669       157\n",
      "   macro avg      0.668     0.623     0.619       157\n",
      "weighted avg      0.668     0.669     0.644       157\n",
      "\n"
     ]
    }
   ],
   "source": [
    "print(classification_report(y_test, base_model.predict(X_test), digits=3))"
   ],
   "metadata": {
    "collapsed": false,
    "pycharm": {
     "name": "#%%\n"
    }
   }
  },
  {
   "cell_type": "markdown",
   "metadata": {
    "id": "UL6H4BxE3y-f"
   },
   "source": [
    "## Filling missing values with the mean"
   ]
  },
  {
   "cell_type": "markdown",
   "metadata": {
    "id": "vD6NntW04OJF"
   },
   "source": [
    "The quality of the resulting model leaves much to be desired. It makes sense to try to fill the missing values. Remove categorical features from the initial dataset, and fill missing values with the mean value of the column. The following steps are similar: splitting, training, evaluation.\n",
    "\n",
    "Compute <code>f1_score()</code> of the model on the test dataset."
   ]
  },
  {
   "cell_type": "code",
   "execution_count": 124,
   "outputs": [],
   "source": [
    "def model(data, drop_na = False):\n",
    "    X = data.select_dtypes(exclude='object')\n",
    "    if drop_na == True:\n",
    "        X.dropna(inplace=True)\n",
    "    y = X['survived']\n",
    "\n",
    "    X_train, X_test, y_train, y_test = train_test_split(X.drop(columns='survived'), y, test_size=0.2, random_state=23, stratify=X['survived'])\n",
    "\n",
    "    base_model = LogisticRegression(random_state=23, max_iter=1000)\n",
    "    base_model.fit(X_train, y_train)\n",
    "\n",
    "    f1 = f1_score(y_test, base_model.predict(X_test))\n",
    "    return round(f1, 3)"
   ],
   "metadata": {
    "collapsed": false,
    "pycharm": {
     "name": "#%%\n"
    }
   }
  },
  {
   "cell_type": "code",
   "execution_count": 125,
   "metadata": {
    "id": "zMYFLiWZ4Gw-"
   },
   "outputs": [
    {
     "data": {
      "text/plain": "0.488"
     },
     "execution_count": 125,
     "metadata": {},
     "output_type": "execute_result"
    }
   ],
   "source": [
    "model(INITIAL.fillna(INITIAL.select_dtypes(exclude='object').mean()))"
   ]
  },
  {
   "cell_type": "markdown",
   "metadata": {
    "id": "dxuJDvb1_p_e"
   },
   "source": [
    "## Filling missing values based on honorifics"
   ]
  },
  {
   "cell_type": "markdown",
   "metadata": {
    "id": "9ew5okxzKdLh"
   },
   "source": [
    "Obviously, filling missing values in the <code>age</code> column with mean is not the smartest idea. Perhaps you should perform this procedure somehow more intelligently, for example, with an eye on appealing to the person. \n",
    "\n",
    "You can notice that the initial dataset in the column contains information about the social status of the passenger, namely, there are appeals <code>Mr., Mrs., Dr.</code>, etc. Based on this information, we can try to make an assumption about the passenger's age.\n",
    "\n",
    "Put the column <code>name</code> back into consideration. Create a separate <code>honorific</code> column and put the appeal values there.\n",
    "\n",
    "Calculate the number of unique appeals."
   ]
  },
  {
   "cell_type": "code",
   "execution_count": 134,
   "metadata": {
    "id": "fMbYRoa-DArO"
   },
   "outputs": [
    {
     "data": {
      "text/plain": "honorific  Capt  Col  Countess  Don  Dona  Dr  Major  Master  Miss  Mlle   Mr  \\\nsex                                                                             \nfemale        0    0         1    0     1   0      0       0   194     2    0   \nmale          1    3         0    1     0   6      1      46     0     0  572   \n\nhonorific  Mrs  Ms  Rev  \nsex                      \nfemale     145   2    0  \nmale         0   0    6  ",
      "text/html": "<div>\n<style scoped>\n    .dataframe tbody tr th:only-of-type {\n        vertical-align: middle;\n    }\n\n    .dataframe tbody tr th {\n        vertical-align: top;\n    }\n\n    .dataframe thead th {\n        text-align: right;\n    }\n</style>\n<table border=\"1\" class=\"dataframe\">\n  <thead>\n    <tr style=\"text-align: right;\">\n      <th>honorific</th>\n      <th>Capt</th>\n      <th>Col</th>\n      <th>Countess</th>\n      <th>Don</th>\n      <th>Dona</th>\n      <th>Dr</th>\n      <th>Major</th>\n      <th>Master</th>\n      <th>Miss</th>\n      <th>Mlle</th>\n      <th>Mr</th>\n      <th>Mrs</th>\n      <th>Ms</th>\n      <th>Rev</th>\n    </tr>\n    <tr>\n      <th>sex</th>\n      <th></th>\n      <th></th>\n      <th></th>\n      <th></th>\n      <th></th>\n      <th></th>\n      <th></th>\n      <th></th>\n      <th></th>\n      <th></th>\n      <th></th>\n      <th></th>\n      <th></th>\n      <th></th>\n    </tr>\n  </thead>\n  <tbody>\n    <tr>\n      <th>female</th>\n      <td>0</td>\n      <td>0</td>\n      <td>1</td>\n      <td>0</td>\n      <td>1</td>\n      <td>0</td>\n      <td>0</td>\n      <td>0</td>\n      <td>194</td>\n      <td>2</td>\n      <td>0</td>\n      <td>145</td>\n      <td>2</td>\n      <td>0</td>\n    </tr>\n    <tr>\n      <th>male</th>\n      <td>1</td>\n      <td>3</td>\n      <td>0</td>\n      <td>1</td>\n      <td>0</td>\n      <td>6</td>\n      <td>1</td>\n      <td>46</td>\n      <td>0</td>\n      <td>0</td>\n      <td>572</td>\n      <td>0</td>\n      <td>0</td>\n      <td>6</td>\n    </tr>\n  </tbody>\n</table>\n</div>"
     },
     "execution_count": 134,
     "metadata": {},
     "output_type": "execute_result"
    }
   ],
   "source": [
    "INITIAL_honorific = INITIAL.copy()\n",
    "INITIAL_honorific['honorific'] = INITIAL['name'].str.extract('([A-Za-z]+)\\.')\n",
    "pd.crosstab(INITIAL_honorific['sex'], INITIAL_honorific['honorific'])"
   ]
  },
  {
   "cell_type": "code",
   "execution_count": 147,
   "outputs": [
    {
     "name": "stdout",
     "output_type": "stream",
     "text": [
      "Number of unique appeals - 14,\n",
      "['Miss', 'Mrs', 'Mr', 'Master', 'Mlle', 'Rev', 'Ms', 'Col', 'Dona', 'Dr', 'Countess', 'Major', 'Don', 'Capt']\n"
     ]
    }
   ],
   "source": [
    "print(f'Number of unique appeals - {INITIAL_honorific[\"honorific\"].nunique()},\\n{list(INITIAL_honorific[\"honorific\"].unique())}')"
   ],
   "metadata": {
    "collapsed": false,
    "pycharm": {
     "name": "#%%\n"
    }
   }
  },
  {
   "cell_type": "markdown",
   "metadata": {
    "id": "6HNMeGu9GJWN"
   },
   "source": [
    "Most likely, it makes sense to reduce the number of appeals, adding small groups to the more numerous ones, as there seems to be no fundamental difference between, for example, <code>Don</code> and <code>Mr</code>. Note that <code>Master</code> is a former appeal to a child, we will work with this appeal separately.\n",
    "\n",
    "\n",
    "\n",
    "\n",
    "Make the following substitutions:\n",
    "\n",
    "<code>Mr</code> $\\leftarrow$ <code>['Rev', 'Col', 'Dr', 'Major', 'Don', 'Capt']</code>\n",
    "\n",
    "<code>Mrs</code> $\\leftarrow$ <code> ['Dona', 'Countess']</code>\n",
    "\n",
    "<code>Miss</code> $\\leftarrow$ <code> ['Mlle', 'Ms']</code>"
   ]
  },
  {
   "cell_type": "code",
   "execution_count": 148,
   "metadata": {
    "id": "jiQBH3_8G0SF"
   },
   "outputs": [],
   "source": [
    "INITIAL_honorific['honorific'].replace(['Rev', 'Col', 'Dr', 'Major', 'Don', 'Capt'], 'Mr', inplace=True)\n",
    "INITIAL_honorific['honorific'].replace(['Dona', 'Countess'], 'Mrs', inplace=True)\n",
    "INITIAL_honorific['honorific'].replace(['Mlle', 'Ms'], 'Miss', inplace=True)"
   ]
  },
  {
   "cell_type": "code",
   "execution_count": 149,
   "outputs": [
    {
     "data": {
      "text/plain": "honorific  Master  Miss   Mr  Mrs\nsex                              \nfemale          0   198    0  147\nmale           46     0  590    0",
      "text/html": "<div>\n<style scoped>\n    .dataframe tbody tr th:only-of-type {\n        vertical-align: middle;\n    }\n\n    .dataframe tbody tr th {\n        vertical-align: top;\n    }\n\n    .dataframe thead th {\n        text-align: right;\n    }\n</style>\n<table border=\"1\" class=\"dataframe\">\n  <thead>\n    <tr style=\"text-align: right;\">\n      <th>honorific</th>\n      <th>Master</th>\n      <th>Miss</th>\n      <th>Mr</th>\n      <th>Mrs</th>\n    </tr>\n    <tr>\n      <th>sex</th>\n      <th></th>\n      <th></th>\n      <th></th>\n      <th></th>\n    </tr>\n  </thead>\n  <tbody>\n    <tr>\n      <th>female</th>\n      <td>0</td>\n      <td>198</td>\n      <td>0</td>\n      <td>147</td>\n    </tr>\n    <tr>\n      <th>male</th>\n      <td>46</td>\n      <td>0</td>\n      <td>590</td>\n      <td>0</td>\n    </tr>\n  </tbody>\n</table>\n</div>"
     },
     "execution_count": 149,
     "metadata": {},
     "output_type": "execute_result"
    }
   ],
   "source": [
    "pd.crosstab(INITIAL_honorific['sex'], INITIAL_honorific['honorific'])"
   ],
   "metadata": {
    "collapsed": false,
    "pycharm": {
     "name": "#%%\n"
    }
   }
  },
  {
   "cell_type": "markdown",
   "metadata": {
    "id": "qh-KpfttKxYD"
   },
   "source": [
    "Calculate the proportion of rows with the <code>Master</code> value relative to the number of all males."
   ]
  },
  {
   "cell_type": "code",
   "execution_count": 160,
   "metadata": {
    "id": "2g2fHrAGK_CA"
   },
   "outputs": [
    {
     "data": {
      "text/plain": "0.072"
     },
     "execution_count": 160,
     "metadata": {},
     "output_type": "execute_result"
    }
   ],
   "source": [
    "round(INITIAL_honorific[INITIAL_honorific['honorific'] == 'Master'].shape[0] / INITIAL_honorific[INITIAL_honorific['sex'] == 'male'].shape[0], 3)"
   ]
  },
  {
   "cell_type": "markdown",
   "metadata": {
    "id": "XD7hs0k7L77K"
   },
   "source": [
    "Calculate the average age of the category specified in your individual assigment."
   ]
  },
  {
   "cell_type": "code",
   "execution_count": 154,
   "metadata": {
    "id": "stKBPTCQMGlf"
   },
   "outputs": [
    {
     "data": {
      "text/plain": "32.9"
     },
     "execution_count": 154,
     "metadata": {},
     "output_type": "execute_result"
    }
   ],
   "source": [
    "round(INITIAL_honorific['age'].loc[INITIAL_honorific['honorific'] == 'Mr'].mean(), 3)"
   ]
  },
  {
   "cell_type": "markdown",
   "metadata": {
    "id": "cQ4Z0tKNLk_B"
   },
   "source": [
    "Fill the missing values in the column <code>age</code> with the mean corresponding to the mean of the <code>honorific</code> category.\n",
    "\n",
    "Get rid of non-numeric features. Next steps are similar: splitting, training, evaluation.\n",
    "\n",
    "Compute <code>f1_score()</code> of the model on the test dataset."
   ]
  },
  {
   "cell_type": "code",
   "execution_count": 168,
   "metadata": {
    "id": "B5c_i_6HN3aA"
   },
   "outputs": [
    {
     "data": {
      "text/plain": "honorific\nMaster     5.128205\nMiss      22.005765\nMr        32.900438\nMrs       36.984252\nName: age, dtype: float64"
     },
     "execution_count": 168,
     "metadata": {},
     "output_type": "execute_result"
    }
   ],
   "source": [
    "INITIAL_honorific.groupby('honorific')['age'].mean()"
   ]
  },
  {
   "cell_type": "code",
   "execution_count": 169,
   "outputs": [],
   "source": [
    "INITIAL_honorific.loc[(INITIAL_honorific['age'].isnull()) & (INITIAL_honorific['honorific'] == 'Master'), 'age'] = INITIAL_honorific.groupby('honorific')['age'].mean()['Master']\n",
    "INITIAL_honorific.loc[(INITIAL_honorific['age'].isnull()) & (INITIAL_honorific['honorific'] == 'Miss'), 'age'] = INITIAL_honorific.groupby('honorific')['age'].mean()['Miss']\n",
    "INITIAL_honorific.loc[(INITIAL_honorific['age'].isnull()) & (INITIAL_honorific['honorific'] == 'Mr'), 'age'] = INITIAL_honorific.groupby('honorific')['age'].mean()['Mr']\n",
    "INITIAL_honorific.loc[(INITIAL_honorific['age'].isnull()) & (INITIAL_honorific['honorific'] == 'Mrs'), 'age'] = INITIAL_honorific.groupby('honorific')['age'].mean()['Mrs']"
   ],
   "metadata": {
    "collapsed": false,
    "pycharm": {
     "name": "#%%\n"
    }
   }
  },
  {
   "cell_type": "code",
   "execution_count": 170,
   "outputs": [
    {
     "data": {
      "text/plain": "0.484"
     },
     "execution_count": 170,
     "metadata": {},
     "output_type": "execute_result"
    }
   ],
   "source": [
    "model(INITIAL_honorific)"
   ],
   "metadata": {
    "collapsed": false,
    "pycharm": {
     "name": "#%%\n"
    }
   }
  },
  {
   "cell_type": "markdown",
   "metadata": {
    "id": "YGCBn1fiSbjG"
   },
   "source": [
    "# Model that uses categorical features"
   ]
  },
  {
   "cell_type": "markdown",
   "metadata": {
    "id": "BlILajPNTMgL"
   },
   "source": [
    "In the original dataset, fill the missing values in the column <code>age</code> with values based on the appeals (as in the previous step). \n",
    "\n",
    "After that, drop the features <code>name</code> and <code>honorific</code>. They have fulfilled their function.\n",
    "\n",
    "Perform <code>one-hot</code> encoding of the non-numeric features, for example, with <code>pd.get_dummies(drop_first=True)</code>. Then follow the familiar pattern: split, train, evaluate.\n",
    "\n",
    "Compute <code>f1_score()</code> of the model on the test dataset."
   ]
  },
  {
   "cell_type": "code",
   "execution_count": 174,
   "metadata": {
    "id": "AiRm3GIdUsVt",
    "pycharm": {
     "name": "#%%\n"
    }
   },
   "outputs": [
    {
     "data": {
      "text/plain": "0.681"
     },
     "execution_count": 174,
     "metadata": {},
     "output_type": "execute_result"
    }
   ],
   "source": [
    "INITIAL_categorical = INITIAL_honorific.copy()\n",
    "INITIAL_categorical.drop(columns=['name', 'honorific'], inplace=True)\n",
    "INITIAL_categorical = pd.get_dummies(INITIAL_categorical, drop_first=True)\n",
    "\n",
    "model(INITIAL_categorical)"
   ]
  },
  {
   "cell_type": "code",
   "execution_count": null,
   "outputs": [],
   "source": [],
   "metadata": {
    "collapsed": false,
    "pycharm": {
     "name": "#%%\n"
    }
   }
  }
 ],
 "metadata": {
  "colab": {
   "provenance": []
  },
  "kernelspec": {
   "display_name": "Python 3 (ipykernel)",
   "language": "python",
   "name": "python3"
  },
  "language_info": {
   "codemirror_mode": {
    "name": "ipython",
    "version": 3
   },
   "file_extension": ".py",
   "mimetype": "text/x-python",
   "name": "python",
   "nbconvert_exporter": "python",
   "pygments_lexer": "ipython3",
   "version": "3.8.10"
  }
 },
 "nbformat": 4,
 "nbformat_minor": 1
}