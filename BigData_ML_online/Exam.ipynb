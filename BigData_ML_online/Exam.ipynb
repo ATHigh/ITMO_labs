{
 "cells": [
  {
   "cell_type": "code",
   "execution_count": 1,
   "metadata": {
    "collapsed": true
   },
   "outputs": [],
   "source": [
    "import pandas as pd\n",
    "from sklearn.model_selection import train_test_split\n",
    "from sklearn.linear_model import LogisticRegression\n",
    "from sklearn.neighbors import KNeighborsClassifier\n",
    "from sklearn.preprocessing import MinMaxScaler\n",
    "from sklearn.metrics import f1_score, confusion_matrix"
   ]
  },
  {
   "cell_type": "code",
   "execution_count": 2,
   "outputs": [
    {
     "data": {
      "text/plain": "          MIP      STDIP      EKIP       SIP        MC       STDC        EKC  \\\n0  140.562500  55.683782 -0.234571 -0.699648  3.199833  19.110426   7.975532   \n1  102.507812  58.882430  0.465318 -0.515088  1.677258  14.860146  10.576487   \n2  103.015625  39.341649  0.323328  1.051164  3.121237  21.744669   7.735822   \n3  136.750000  57.178449 -0.068415 -0.636238  3.642977  20.959280   6.896499   \n4   88.726562  40.672225  0.600866  1.123492  1.178930  11.468720  14.269573   \n\n           SC  TG  \n0   74.242225   0  \n1  127.393580   0  \n2   63.171909   0  \n3   53.593661   0  \n4  252.567306   0  ",
      "text/html": "<div>\n<style scoped>\n    .dataframe tbody tr th:only-of-type {\n        vertical-align: middle;\n    }\n\n    .dataframe tbody tr th {\n        vertical-align: top;\n    }\n\n    .dataframe thead th {\n        text-align: right;\n    }\n</style>\n<table border=\"1\" class=\"dataframe\">\n  <thead>\n    <tr style=\"text-align: right;\">\n      <th></th>\n      <th>MIP</th>\n      <th>STDIP</th>\n      <th>EKIP</th>\n      <th>SIP</th>\n      <th>MC</th>\n      <th>STDC</th>\n      <th>EKC</th>\n      <th>SC</th>\n      <th>TG</th>\n    </tr>\n  </thead>\n  <tbody>\n    <tr>\n      <th>0</th>\n      <td>140.562500</td>\n      <td>55.683782</td>\n      <td>-0.234571</td>\n      <td>-0.699648</td>\n      <td>3.199833</td>\n      <td>19.110426</td>\n      <td>7.975532</td>\n      <td>74.242225</td>\n      <td>0</td>\n    </tr>\n    <tr>\n      <th>1</th>\n      <td>102.507812</td>\n      <td>58.882430</td>\n      <td>0.465318</td>\n      <td>-0.515088</td>\n      <td>1.677258</td>\n      <td>14.860146</td>\n      <td>10.576487</td>\n      <td>127.393580</td>\n      <td>0</td>\n    </tr>\n    <tr>\n      <th>2</th>\n      <td>103.015625</td>\n      <td>39.341649</td>\n      <td>0.323328</td>\n      <td>1.051164</td>\n      <td>3.121237</td>\n      <td>21.744669</td>\n      <td>7.735822</td>\n      <td>63.171909</td>\n      <td>0</td>\n    </tr>\n    <tr>\n      <th>3</th>\n      <td>136.750000</td>\n      <td>57.178449</td>\n      <td>-0.068415</td>\n      <td>-0.636238</td>\n      <td>3.642977</td>\n      <td>20.959280</td>\n      <td>6.896499</td>\n      <td>53.593661</td>\n      <td>0</td>\n    </tr>\n    <tr>\n      <th>4</th>\n      <td>88.726562</td>\n      <td>40.672225</td>\n      <td>0.600866</td>\n      <td>1.123492</td>\n      <td>1.178930</td>\n      <td>11.468720</td>\n      <td>14.269573</td>\n      <td>252.567306</td>\n      <td>0</td>\n    </tr>\n  </tbody>\n</table>\n</div>"
     },
     "execution_count": 2,
     "metadata": {},
     "output_type": "execute_result"
    }
   ],
   "source": [
    "data = pd.read_csv('asset-v1-ITMOUniversity+INTROMLADVML+fall_2023_ITMO_mag+type@asset+block@pulsar_stars_new.csv')\n",
    "data.head()"
   ],
   "metadata": {
    "collapsed": false,
    "pycharm": {
     "name": "#%%\n"
    }
   }
  },
  {
   "cell_type": "code",
   "execution_count": 5,
   "outputs": [
    {
     "name": "stdout",
     "output_type": "stream",
     "text": [
      "<class 'pandas.core.frame.DataFrame'>\n",
      "RangeIndex: 17898 entries, 0 to 17897\n",
      "Data columns (total 9 columns):\n",
      " #   Column  Non-Null Count  Dtype  \n",
      "---  ------  --------------  -----  \n",
      " 0   MIP     17898 non-null  float64\n",
      " 1   STDIP   17898 non-null  float64\n",
      " 2   EKIP    17898 non-null  float64\n",
      " 3   SIP     17898 non-null  float64\n",
      " 4   MC      17898 non-null  float64\n",
      " 5   STDC    17898 non-null  float64\n",
      " 6   EKC     17898 non-null  float64\n",
      " 7   SC      17898 non-null  float64\n",
      " 8   TG      17898 non-null  int64  \n",
      "dtypes: float64(8), int64(1)\n",
      "memory usage: 1.2 MB\n"
     ]
    }
   ],
   "source": [
    "data.info()"
   ],
   "metadata": {
    "collapsed": false,
    "pycharm": {
     "name": "#%%\n"
    }
   }
  },
  {
   "cell_type": "code",
   "execution_count": 14,
   "outputs": [
    {
     "data": {
      "text/plain": "          MIP      STDIP      EKIP       SIP        MC       STDC        EKC  \\\n0  140.562500  55.683782 -0.234571 -0.699648  3.199833  19.110426   7.975532   \n1  102.507812  58.882430  0.465318 -0.515088  1.677258  14.860146  10.576487   \n2  103.015625  39.341649  0.323328  1.051164  3.121237  21.744669   7.735822   \n3  136.750000  57.178449 -0.068415 -0.636238  3.642977  20.959280   6.896499   \n4   88.726562  40.672225  0.600866  1.123492  1.178930  11.468720  14.269573   \n\n           SC  TG  \n0   74.242225   0  \n1  127.393580   0  \n2   63.171909   0  \n3   53.593661   0  \n4  252.567306   0  ",
      "text/html": "<div>\n<style scoped>\n    .dataframe tbody tr th:only-of-type {\n        vertical-align: middle;\n    }\n\n    .dataframe tbody tr th {\n        vertical-align: top;\n    }\n\n    .dataframe thead th {\n        text-align: right;\n    }\n</style>\n<table border=\"1\" class=\"dataframe\">\n  <thead>\n    <tr style=\"text-align: right;\">\n      <th></th>\n      <th>MIP</th>\n      <th>STDIP</th>\n      <th>EKIP</th>\n      <th>SIP</th>\n      <th>MC</th>\n      <th>STDC</th>\n      <th>EKC</th>\n      <th>SC</th>\n      <th>TG</th>\n    </tr>\n  </thead>\n  <tbody>\n    <tr>\n      <th>0</th>\n      <td>140.562500</td>\n      <td>55.683782</td>\n      <td>-0.234571</td>\n      <td>-0.699648</td>\n      <td>3.199833</td>\n      <td>19.110426</td>\n      <td>7.975532</td>\n      <td>74.242225</td>\n      <td>0</td>\n    </tr>\n    <tr>\n      <th>1</th>\n      <td>102.507812</td>\n      <td>58.882430</td>\n      <td>0.465318</td>\n      <td>-0.515088</td>\n      <td>1.677258</td>\n      <td>14.860146</td>\n      <td>10.576487</td>\n      <td>127.393580</td>\n      <td>0</td>\n    </tr>\n    <tr>\n      <th>2</th>\n      <td>103.015625</td>\n      <td>39.341649</td>\n      <td>0.323328</td>\n      <td>1.051164</td>\n      <td>3.121237</td>\n      <td>21.744669</td>\n      <td>7.735822</td>\n      <td>63.171909</td>\n      <td>0</td>\n    </tr>\n    <tr>\n      <th>3</th>\n      <td>136.750000</td>\n      <td>57.178449</td>\n      <td>-0.068415</td>\n      <td>-0.636238</td>\n      <td>3.642977</td>\n      <td>20.959280</td>\n      <td>6.896499</td>\n      <td>53.593661</td>\n      <td>0</td>\n    </tr>\n    <tr>\n      <th>4</th>\n      <td>88.726562</td>\n      <td>40.672225</td>\n      <td>0.600866</td>\n      <td>1.123492</td>\n      <td>1.178930</td>\n      <td>11.468720</td>\n      <td>14.269573</td>\n      <td>252.567306</td>\n      <td>0</td>\n    </tr>\n  </tbody>\n</table>\n</div>"
     },
     "execution_count": 14,
     "metadata": {},
     "output_type": "execute_result"
    }
   ],
   "source": [
    "sample_1 = data.loc[(data['TG'] == 0) & (data['MIP'] >= 59.203125) & (data['MIP'] <= 173.7421875)]\n",
    "sample_2 = data.loc[(data['TG'] == 1) & (data['MIP'] >= 7.828125) & (data['MIP'] <= 115.2421875)]\n",
    "\n",
    "data_new = pd.concat([sample_1, sample_2])\n",
    "data_new.head()"
   ],
   "metadata": {
    "collapsed": false,
    "pycharm": {
     "name": "#%%\n"
    }
   }
  },
  {
   "cell_type": "code",
   "execution_count": 30,
   "outputs": [
    {
     "name": "stdout",
     "output_type": "stream",
     "text": [
      "<class 'pandas.core.frame.DataFrame'>\n",
      "Index: 17793 entries, 0 to 17876\n",
      "Data columns (total 9 columns):\n",
      " #   Column  Non-Null Count  Dtype  \n",
      "---  ------  --------------  -----  \n",
      " 0   MIP     17793 non-null  float64\n",
      " 1   STDIP   17793 non-null  float64\n",
      " 2   EKIP    17793 non-null  float64\n",
      " 3   SIP     17793 non-null  float64\n",
      " 4   MC      17793 non-null  float64\n",
      " 5   STDC    17793 non-null  float64\n",
      " 6   EKC     17793 non-null  float64\n",
      " 7   SC      17793 non-null  float64\n",
      " 8   TG      17793 non-null  int64  \n",
      "dtypes: float64(8), int64(1)\n",
      "memory usage: 1.4 MB\n"
     ]
    }
   ],
   "source": [
    "data_new.info()"
   ],
   "metadata": {
    "collapsed": false,
    "pycharm": {
     "name": "#%%\n"
    }
   }
  },
  {
   "cell_type": "code",
   "execution_count": 15,
   "outputs": [
    {
     "data": {
      "text/plain": "1.65"
     },
     "execution_count": 15,
     "metadata": {},
     "output_type": "execute_result"
    }
   ],
   "source": [
    "round(data_new.SIP.mean(), 3)"
   ],
   "metadata": {
    "collapsed": false,
    "pycharm": {
     "name": "#%%\n"
    }
   }
  },
  {
   "cell_type": "code",
   "execution_count": 16,
   "outputs": [
    {
     "data": {
      "text/plain": "              MIP      STDIP      EKIP       SIP          MC       STDC  \\\n2137   135.859375  81.503042  0.023921 -1.791886    3.655518  19.638924   \n5291   101.242188  91.808628  0.290115 -1.781888  195.795987  63.624015   \n3509   113.265625  98.778911  0.179404 -1.764717  145.361204  64.773789   \n10625  141.757812  91.206475 -0.056413 -1.755332   55.243311  75.793948   \n370    107.539062  86.951396 -0.008928 -1.676724  211.948997  54.010310   \n\n            EKC         SC  TG  \n2137   7.228962  63.401192   0  \n5291  -1.852570   2.544999   0  \n3509  -0.154935  -1.374633   0  \n10625  1.047847  -0.255939   0  \n370   -2.556795   5.768458   0  ",
      "text/html": "<div>\n<style scoped>\n    .dataframe tbody tr th:only-of-type {\n        vertical-align: middle;\n    }\n\n    .dataframe tbody tr th {\n        vertical-align: top;\n    }\n\n    .dataframe thead th {\n        text-align: right;\n    }\n</style>\n<table border=\"1\" class=\"dataframe\">\n  <thead>\n    <tr style=\"text-align: right;\">\n      <th></th>\n      <th>MIP</th>\n      <th>STDIP</th>\n      <th>EKIP</th>\n      <th>SIP</th>\n      <th>MC</th>\n      <th>STDC</th>\n      <th>EKC</th>\n      <th>SC</th>\n      <th>TG</th>\n    </tr>\n  </thead>\n  <tbody>\n    <tr>\n      <th>2137</th>\n      <td>135.859375</td>\n      <td>81.503042</td>\n      <td>0.023921</td>\n      <td>-1.791886</td>\n      <td>3.655518</td>\n      <td>19.638924</td>\n      <td>7.228962</td>\n      <td>63.401192</td>\n      <td>0</td>\n    </tr>\n    <tr>\n      <th>5291</th>\n      <td>101.242188</td>\n      <td>91.808628</td>\n      <td>0.290115</td>\n      <td>-1.781888</td>\n      <td>195.795987</td>\n      <td>63.624015</td>\n      <td>-1.852570</td>\n      <td>2.544999</td>\n      <td>0</td>\n    </tr>\n    <tr>\n      <th>3509</th>\n      <td>113.265625</td>\n      <td>98.778911</td>\n      <td>0.179404</td>\n      <td>-1.764717</td>\n      <td>145.361204</td>\n      <td>64.773789</td>\n      <td>-0.154935</td>\n      <td>-1.374633</td>\n      <td>0</td>\n    </tr>\n    <tr>\n      <th>10625</th>\n      <td>141.757812</td>\n      <td>91.206475</td>\n      <td>-0.056413</td>\n      <td>-1.755332</td>\n      <td>55.243311</td>\n      <td>75.793948</td>\n      <td>1.047847</td>\n      <td>-0.255939</td>\n      <td>0</td>\n    </tr>\n    <tr>\n      <th>370</th>\n      <td>107.539062</td>\n      <td>86.951396</td>\n      <td>-0.008928</td>\n      <td>-1.676724</td>\n      <td>211.948997</td>\n      <td>54.010310</td>\n      <td>-2.556795</td>\n      <td>5.768458</td>\n      <td>0</td>\n    </tr>\n  </tbody>\n</table>\n</div>"
     },
     "execution_count": 16,
     "metadata": {},
     "output_type": "execute_result"
    }
   ],
   "source": [
    "data_new_sort = data_new.sort_values(by=['SIP'], ascending=True)\n",
    "data_new_sort.head()"
   ],
   "metadata": {
    "collapsed": false,
    "pycharm": {
     "name": "#%%\n"
    }
   }
  },
  {
   "cell_type": "code",
   "execution_count": 17,
   "outputs": [],
   "source": [
    "X = data_new_sort.drop(columns='TG')\n",
    "y = data_new_sort['TG']"
   ],
   "metadata": {
    "collapsed": false,
    "pycharm": {
     "name": "#%%\n"
    }
   }
  },
  {
   "cell_type": "code",
   "execution_count": 18,
   "outputs": [],
   "source": [
    "X_train, X_test, y_train, y_test = train_test_split(X, y, test_size=0.2, random_state=41, stratify=y)"
   ],
   "metadata": {
    "collapsed": false,
    "pycharm": {
     "name": "#%%\n"
    }
   }
  },
  {
   "cell_type": "code",
   "execution_count": 19,
   "outputs": [
    {
     "data": {
      "text/plain": "8.362"
     },
     "execution_count": 19,
     "metadata": {},
     "output_type": "execute_result"
    }
   ],
   "source": [
    "round(X_train.EKC.mean(), 3)"
   ],
   "metadata": {
    "collapsed": false,
    "pycharm": {
     "name": "#%%\n"
    }
   }
  },
  {
   "cell_type": "code",
   "execution_count": 20,
   "outputs": [],
   "source": [
    "scaler = MinMaxScaler()\n",
    "features = X_train.columns\n",
    "X_train_scaled = scaler.fit_transform(X_train)\n",
    "X_test_scaled = scaler.transform(X_test)\n",
    "\n",
    "X_train_scaled = pd.DataFrame(X_train_scaled, columns=features)\n",
    "X_test_scaled = pd.DataFrame(X_test_scaled, columns=features)"
   ],
   "metadata": {
    "collapsed": false,
    "pycharm": {
     "name": "#%%\n"
    }
   }
  },
  {
   "cell_type": "code",
   "execution_count": 21,
   "outputs": [
    {
     "data": {
      "text/plain": "0.053"
     },
     "execution_count": 21,
     "metadata": {},
     "output_type": "execute_result"
    }
   ],
   "source": [
    "round(X_train_scaled.MC.mean(), 3)"
   ],
   "metadata": {
    "collapsed": false,
    "pycharm": {
     "name": "#%%\n"
    }
   }
  },
  {
   "cell_type": "code",
   "execution_count": 22,
   "outputs": [
    {
     "data": {
      "text/plain": "(3238, 6, 73, 241)"
     },
     "execution_count": 22,
     "metadata": {},
     "output_type": "execute_result"
    }
   ],
   "source": [
    "baseline = LogisticRegression(random_state=41)\n",
    "baseline.fit(X_train_scaled, y_train)\n",
    "\n",
    "tn, fp, fn, tp = confusion_matrix(y_test, baseline.predict(X_test_scaled)).ravel()\n",
    "(tn, fp, fn, tp)"
   ],
   "metadata": {
    "collapsed": false,
    "pycharm": {
     "name": "#%%\n"
    }
   }
  },
  {
   "cell_type": "code",
   "execution_count": 23,
   "outputs": [
    {
     "name": "stdout",
     "output_type": "stream",
     "text": [
      "f1 score for the test dataset: 0.859\n"
     ]
    }
   ],
   "source": [
    "print(f'f1 score for the test dataset: {round(f1_score(y_test, baseline.predict(X_test_scaled)), 3)}')"
   ],
   "metadata": {
    "collapsed": false,
    "pycharm": {
     "name": "#%%\n"
    }
   }
  },
  {
   "cell_type": "code",
   "execution_count": 24,
   "outputs": [
    {
     "data": {
      "text/plain": "(3225, 19, 60, 254)"
     },
     "execution_count": 24,
     "metadata": {},
     "output_type": "execute_result"
    }
   ],
   "source": [
    "knn = KNeighborsClassifier(n_neighbors=3)\n",
    "knn.fit(X_train_scaled, y_train)\n",
    "\n",
    "tn, fp, fn, tp = confusion_matrix(y_test, knn.predict(X_test_scaled)).ravel()\n",
    "(tn, fp, fn, tp)"
   ],
   "metadata": {
    "collapsed": false,
    "pycharm": {
     "name": "#%%\n"
    }
   }
  },
  {
   "cell_type": "code",
   "execution_count": 25,
   "outputs": [
    {
     "name": "stdout",
     "output_type": "stream",
     "text": [
      "f1 score for the test dataset: 0.865\n"
     ]
    }
   ],
   "source": [
    "print(f'f1 score for the test dataset: {round(f1_score(y_test, knn.predict(X_test_scaled)), 3)}')"
   ],
   "metadata": {
    "collapsed": false,
    "pycharm": {
     "name": "#%%\n"
    }
   }
  },
  {
   "cell_type": "code",
   "execution_count": null,
   "outputs": [],
   "source": [],
   "metadata": {
    "collapsed": false,
    "pycharm": {
     "name": "#%%\n"
    }
   }
  }
 ],
 "metadata": {
  "kernelspec": {
   "display_name": "Python 3",
   "language": "python",
   "name": "python3"
  },
  "language_info": {
   "codemirror_mode": {
    "name": "ipython",
    "version": 2
   },
   "file_extension": ".py",
   "mimetype": "text/x-python",
   "name": "python",
   "nbconvert_exporter": "python",
   "pygments_lexer": "ipython2",
   "version": "2.7.6"
  }
 },
 "nbformat": 4,
 "nbformat_minor": 0
}