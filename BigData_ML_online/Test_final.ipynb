{
 "cells": [
  {
   "cell_type": "code",
   "execution_count": 33,
   "metadata": {
    "collapsed": true
   },
   "outputs": [],
   "source": [
    "import pandas as pd\n",
    "import numpy as np\n",
    "from sklearn.linear_model import LogisticRegression\n",
    "from sklearn.neighbors import KNeighborsClassifier\n",
    "from sklearn.model_selection import train_test_split\n",
    "from sklearn.metrics import confusion_matrix\n",
    "from sklearn.metrics import f1_score\n",
    "from sklearn.preprocessing import MinMaxScaler"
   ]
  },
  {
   "cell_type": "code",
   "execution_count": 2,
   "outputs": [
    {
     "data": {
      "text/plain": "          MIP      STDIP      EKIP       SIP        MC       STDC        EKC  \\\n0  140.562500  55.683782 -0.234571 -0.699648  3.199833  19.110426   7.975532   \n1  102.507812  58.882430  0.465318 -0.515088  1.677258  14.860146  10.576487   \n2  103.015625  39.341649  0.323328  1.051164  3.121237  21.744669   7.735822   \n3  136.750000  57.178449 -0.068415 -0.636238  3.642977  20.959280   6.896499   \n4   88.726562  40.672225  0.600866  1.123492  1.178930  11.468720  14.269573   \n\n           SC  TG  \n0   74.242225   0  \n1  127.393580   0  \n2   63.171909   0  \n3   53.593661   0  \n4  252.567306   0  ",
      "text/html": "<div>\n<style scoped>\n    .dataframe tbody tr th:only-of-type {\n        vertical-align: middle;\n    }\n\n    .dataframe tbody tr th {\n        vertical-align: top;\n    }\n\n    .dataframe thead th {\n        text-align: right;\n    }\n</style>\n<table border=\"1\" class=\"dataframe\">\n  <thead>\n    <tr style=\"text-align: right;\">\n      <th></th>\n      <th>MIP</th>\n      <th>STDIP</th>\n      <th>EKIP</th>\n      <th>SIP</th>\n      <th>MC</th>\n      <th>STDC</th>\n      <th>EKC</th>\n      <th>SC</th>\n      <th>TG</th>\n    </tr>\n  </thead>\n  <tbody>\n    <tr>\n      <th>0</th>\n      <td>140.562500</td>\n      <td>55.683782</td>\n      <td>-0.234571</td>\n      <td>-0.699648</td>\n      <td>3.199833</td>\n      <td>19.110426</td>\n      <td>7.975532</td>\n      <td>74.242225</td>\n      <td>0</td>\n    </tr>\n    <tr>\n      <th>1</th>\n      <td>102.507812</td>\n      <td>58.882430</td>\n      <td>0.465318</td>\n      <td>-0.515088</td>\n      <td>1.677258</td>\n      <td>14.860146</td>\n      <td>10.576487</td>\n      <td>127.393580</td>\n      <td>0</td>\n    </tr>\n    <tr>\n      <th>2</th>\n      <td>103.015625</td>\n      <td>39.341649</td>\n      <td>0.323328</td>\n      <td>1.051164</td>\n      <td>3.121237</td>\n      <td>21.744669</td>\n      <td>7.735822</td>\n      <td>63.171909</td>\n      <td>0</td>\n    </tr>\n    <tr>\n      <th>3</th>\n      <td>136.750000</td>\n      <td>57.178449</td>\n      <td>-0.068415</td>\n      <td>-0.636238</td>\n      <td>3.642977</td>\n      <td>20.959280</td>\n      <td>6.896499</td>\n      <td>53.593661</td>\n      <td>0</td>\n    </tr>\n    <tr>\n      <th>4</th>\n      <td>88.726562</td>\n      <td>40.672225</td>\n      <td>0.600866</td>\n      <td>1.123492</td>\n      <td>1.178930</td>\n      <td>11.468720</td>\n      <td>14.269573</td>\n      <td>252.567306</td>\n      <td>0</td>\n    </tr>\n  </tbody>\n</table>\n</div>"
     },
     "execution_count": 2,
     "metadata": {},
     "output_type": "execute_result"
    }
   ],
   "source": [
    "data = pd.read_csv(\"asset-v1-ITMOUniversity+INTROMLADVML+fall_2023_ITMO_mag+type@asset+block@pulsar_stars_new.csv\")\n",
    "data.head()"
   ],
   "metadata": {
    "collapsed": false,
    "pycharm": {
     "name": "#%%\n"
    }
   }
  },
  {
   "cell_type": "code",
   "execution_count": 3,
   "outputs": [
    {
     "name": "stdout",
     "output_type": "stream",
     "text": [
      "<class 'pandas.core.frame.DataFrame'>\n",
      "RangeIndex: 17898 entries, 0 to 17897\n",
      "Data columns (total 9 columns):\n",
      " #   Column  Non-Null Count  Dtype  \n",
      "---  ------  --------------  -----  \n",
      " 0   MIP     17898 non-null  float64\n",
      " 1   STDIP   17898 non-null  float64\n",
      " 2   EKIP    17898 non-null  float64\n",
      " 3   SIP     17898 non-null  float64\n",
      " 4   MC      17898 non-null  float64\n",
      " 5   STDC    17898 non-null  float64\n",
      " 6   EKC     17898 non-null  float64\n",
      " 7   SC      17898 non-null  float64\n",
      " 8   TG      17898 non-null  int64  \n",
      "dtypes: float64(8), int64(1)\n",
      "memory usage: 1.2 MB\n"
     ]
    }
   ],
   "source": [
    "data.info()"
   ],
   "metadata": {
    "collapsed": false,
    "pycharm": {
     "name": "#%%\n"
    }
   }
  },
  {
   "cell_type": "code",
   "execution_count": 4,
   "outputs": [
    {
     "data": {
      "text/plain": "                MIP         STDIP          EKIP           SIP            MC  \\\ncount  17898.000000  17898.000000  17898.000000  17898.000000  17898.000000   \nmean     111.079968     46.549532      0.477857      1.770279     12.614400   \nstd       25.652935      6.843189      1.064040      6.167913     29.472897   \nmin        5.812500     24.772042     -1.876011     -1.791886      0.213211   \n25%      100.929688     42.376018      0.027098     -0.188572      1.923077   \n50%      115.078125     46.947479      0.223240      0.198710      2.801839   \n75%      127.085938     51.023202      0.473325      0.927783      5.464256   \nmax      192.617188     98.778911      8.069522     68.101622    223.392141   \n\n               STDC           EKC            SC            TG  \ncount  17898.000000  17898.000000  17898.000000  17898.000000  \nmean      26.326515      8.303556    104.857709      0.091574  \nstd       19.470572      4.506092    106.514540      0.288432  \nmin        7.370432     -3.139270     -1.976976      0.000000  \n25%       14.437332      5.781506     34.960504      0.000000  \n50%       18.461316      8.433515     83.064556      0.000000  \n75%       28.428104     10.702959    139.309330      0.000000  \nmax      110.642211     34.539844   1191.000837      1.000000  ",
      "text/html": "<div>\n<style scoped>\n    .dataframe tbody tr th:only-of-type {\n        vertical-align: middle;\n    }\n\n    .dataframe tbody tr th {\n        vertical-align: top;\n    }\n\n    .dataframe thead th {\n        text-align: right;\n    }\n</style>\n<table border=\"1\" class=\"dataframe\">\n  <thead>\n    <tr style=\"text-align: right;\">\n      <th></th>\n      <th>MIP</th>\n      <th>STDIP</th>\n      <th>EKIP</th>\n      <th>SIP</th>\n      <th>MC</th>\n      <th>STDC</th>\n      <th>EKC</th>\n      <th>SC</th>\n      <th>TG</th>\n    </tr>\n  </thead>\n  <tbody>\n    <tr>\n      <th>count</th>\n      <td>17898.000000</td>\n      <td>17898.000000</td>\n      <td>17898.000000</td>\n      <td>17898.000000</td>\n      <td>17898.000000</td>\n      <td>17898.000000</td>\n      <td>17898.000000</td>\n      <td>17898.000000</td>\n      <td>17898.000000</td>\n    </tr>\n    <tr>\n      <th>mean</th>\n      <td>111.079968</td>\n      <td>46.549532</td>\n      <td>0.477857</td>\n      <td>1.770279</td>\n      <td>12.614400</td>\n      <td>26.326515</td>\n      <td>8.303556</td>\n      <td>104.857709</td>\n      <td>0.091574</td>\n    </tr>\n    <tr>\n      <th>std</th>\n      <td>25.652935</td>\n      <td>6.843189</td>\n      <td>1.064040</td>\n      <td>6.167913</td>\n      <td>29.472897</td>\n      <td>19.470572</td>\n      <td>4.506092</td>\n      <td>106.514540</td>\n      <td>0.288432</td>\n    </tr>\n    <tr>\n      <th>min</th>\n      <td>5.812500</td>\n      <td>24.772042</td>\n      <td>-1.876011</td>\n      <td>-1.791886</td>\n      <td>0.213211</td>\n      <td>7.370432</td>\n      <td>-3.139270</td>\n      <td>-1.976976</td>\n      <td>0.000000</td>\n    </tr>\n    <tr>\n      <th>25%</th>\n      <td>100.929688</td>\n      <td>42.376018</td>\n      <td>0.027098</td>\n      <td>-0.188572</td>\n      <td>1.923077</td>\n      <td>14.437332</td>\n      <td>5.781506</td>\n      <td>34.960504</td>\n      <td>0.000000</td>\n    </tr>\n    <tr>\n      <th>50%</th>\n      <td>115.078125</td>\n      <td>46.947479</td>\n      <td>0.223240</td>\n      <td>0.198710</td>\n      <td>2.801839</td>\n      <td>18.461316</td>\n      <td>8.433515</td>\n      <td>83.064556</td>\n      <td>0.000000</td>\n    </tr>\n    <tr>\n      <th>75%</th>\n      <td>127.085938</td>\n      <td>51.023202</td>\n      <td>0.473325</td>\n      <td>0.927783</td>\n      <td>5.464256</td>\n      <td>28.428104</td>\n      <td>10.702959</td>\n      <td>139.309330</td>\n      <td>0.000000</td>\n    </tr>\n    <tr>\n      <th>max</th>\n      <td>192.617188</td>\n      <td>98.778911</td>\n      <td>8.069522</td>\n      <td>68.101622</td>\n      <td>223.392141</td>\n      <td>110.642211</td>\n      <td>34.539844</td>\n      <td>1191.000837</td>\n      <td>1.000000</td>\n    </tr>\n  </tbody>\n</table>\n</div>"
     },
     "execution_count": 4,
     "metadata": {},
     "output_type": "execute_result"
    }
   ],
   "source": [
    "data.describe()"
   ],
   "metadata": {
    "collapsed": false,
    "pycharm": {
     "name": "#%%\n"
    }
   }
  },
  {
   "cell_type": "code",
   "execution_count": 5,
   "outputs": [
    {
     "data": {
      "text/plain": "4218"
     },
     "execution_count": 5,
     "metadata": {},
     "output_type": "execute_result"
    }
   ],
   "source": [
    "data = data.loc[(data['MIP'] >= 10) & (data['MIP'] <= 100)]\n",
    "data.shape[0]"
   ],
   "metadata": {
    "collapsed": false,
    "pycharm": {
     "name": "#%%\n"
    }
   }
  },
  {
   "cell_type": "code",
   "execution_count": 7,
   "outputs": [
    {
     "name": "stdout",
     "output_type": "stream",
     "text": [
      "sample mean for the column MIP: 77.053\n",
      "minimum value from the column MIP: 10.008\n"
     ]
    }
   ],
   "source": [
    "print(f'sample mean for the column MIP: {round(data.MIP.mean(), 3)}\\nminimum value from the column MIP: {round(data.MIP.min(), 3)}')"
   ],
   "metadata": {
    "collapsed": false,
    "pycharm": {
     "name": "#%%\n"
    }
   }
  },
  {
   "cell_type": "code",
   "execution_count": 8,
   "outputs": [],
   "source": [
    "data = data.sort_values(by=['SIP'], ascending=True)"
   ],
   "metadata": {
    "collapsed": false,
    "pycharm": {
     "name": "#%%\n"
    }
   }
  },
  {
   "cell_type": "code",
   "execution_count": 18,
   "outputs": [],
   "source": [
    "X = data.copy()\n",
    "y = data.TG\n",
    "\n",
    "X_train, X_test, y_train, y_test = train_test_split(X.drop(columns='TG'), y, test_size=0.20, random_state=33, stratify=X['TG'])"
   ],
   "metadata": {
    "collapsed": false,
    "pycharm": {
     "name": "#%%\n"
    }
   }
  },
  {
   "cell_type": "code",
   "execution_count": 11,
   "outputs": [
    {
     "name": "stdout",
     "output_type": "stream",
     "text": [
      "maximal value of the column STDC from the training sample: 109.655\n"
     ]
    }
   ],
   "source": [
    "print(f'maximal value of the column STDC from the training sample: {round(X_train.STDC.max(), 3)}')"
   ],
   "metadata": {
    "collapsed": false,
    "pycharm": {
     "name": "#%%\n"
    }
   }
  },
  {
   "cell_type": "code",
   "execution_count": 20,
   "outputs": [],
   "source": [
    "scaler = MinMaxScaler()\n",
    "columns = X_train.columns\n",
    "X_train = scaler.fit_transform(X_train)"
   ],
   "metadata": {
    "collapsed": false,
    "pycharm": {
     "name": "#%%\n"
    }
   }
  },
  {
   "cell_type": "code",
   "execution_count": 21,
   "outputs": [
    {
     "data": {
      "text/plain": "        MIP     STDIP      EKIP       SIP        MC      STDC       EKC  \\\n0  0.539630  0.262537  0.321231  0.150966  0.090880  0.424381  0.149904   \n1  0.996441  0.327414  0.031842  0.017488  0.007554  0.053820  0.391557   \n2  0.662210  0.230554  0.119420  0.056781  0.009783  0.072543  0.348471   \n3  0.990711  0.206057  0.001224  0.043113  0.010634  0.120162  0.309159   \n4  0.839396  0.202019  0.081787  0.050389  0.004276  0.032344  0.489895   \n\n         SC  \n0  0.008344  \n1  0.150499  \n2  0.112724  \n3  0.070770  \n4  0.258204  ",
      "text/html": "<div>\n<style scoped>\n    .dataframe tbody tr th:only-of-type {\n        vertical-align: middle;\n    }\n\n    .dataframe tbody tr th {\n        vertical-align: top;\n    }\n\n    .dataframe thead th {\n        text-align: right;\n    }\n</style>\n<table border=\"1\" class=\"dataframe\">\n  <thead>\n    <tr style=\"text-align: right;\">\n      <th></th>\n      <th>MIP</th>\n      <th>STDIP</th>\n      <th>EKIP</th>\n      <th>SIP</th>\n      <th>MC</th>\n      <th>STDC</th>\n      <th>EKC</th>\n      <th>SC</th>\n    </tr>\n  </thead>\n  <tbody>\n    <tr>\n      <th>0</th>\n      <td>0.539630</td>\n      <td>0.262537</td>\n      <td>0.321231</td>\n      <td>0.150966</td>\n      <td>0.090880</td>\n      <td>0.424381</td>\n      <td>0.149904</td>\n      <td>0.008344</td>\n    </tr>\n    <tr>\n      <th>1</th>\n      <td>0.996441</td>\n      <td>0.327414</td>\n      <td>0.031842</td>\n      <td>0.017488</td>\n      <td>0.007554</td>\n      <td>0.053820</td>\n      <td>0.391557</td>\n      <td>0.150499</td>\n    </tr>\n    <tr>\n      <th>2</th>\n      <td>0.662210</td>\n      <td>0.230554</td>\n      <td>0.119420</td>\n      <td>0.056781</td>\n      <td>0.009783</td>\n      <td>0.072543</td>\n      <td>0.348471</td>\n      <td>0.112724</td>\n    </tr>\n    <tr>\n      <th>3</th>\n      <td>0.990711</td>\n      <td>0.206057</td>\n      <td>0.001224</td>\n      <td>0.043113</td>\n      <td>0.010634</td>\n      <td>0.120162</td>\n      <td>0.309159</td>\n      <td>0.070770</td>\n    </tr>\n    <tr>\n      <th>4</th>\n      <td>0.839396</td>\n      <td>0.202019</td>\n      <td>0.081787</td>\n      <td>0.050389</td>\n      <td>0.004276</td>\n      <td>0.032344</td>\n      <td>0.489895</td>\n      <td>0.258204</td>\n    </tr>\n  </tbody>\n</table>\n</div>"
     },
     "execution_count": 21,
     "metadata": {},
     "output_type": "execute_result"
    }
   ],
   "source": [
    "X_train = pd.DataFrame(X_train, columns=columns)\n",
    "X_train.head()"
   ],
   "metadata": {
    "collapsed": false,
    "pycharm": {
     "name": "#%%\n"
    }
   }
  },
  {
   "cell_type": "code",
   "execution_count": 22,
   "outputs": [
    {
     "data": {
      "text/plain": "        MIP     STDIP      EKIP       SIP        MC      STDC       EKC  \\\n0  0.597969  0.249879  0.130854  0.057166  0.005402  0.051303  0.418484   \n1  0.767428  0.214288  0.105393  0.053862  0.004073  0.054431  0.445064   \n2  0.955465  0.207856  0.048451  0.046221  0.003611  0.046095  0.491063   \n3  0.057470  0.154206  0.687380  0.486569  0.442514  0.532695  0.085714   \n4  0.139422  0.092024  0.760695  0.615680  0.179061  0.502447  0.125370   \n\n         SC  \n0  0.170221  \n1  0.180652  \n2  0.231576  \n3  0.001599  \n4  0.004640  ",
      "text/html": "<div>\n<style scoped>\n    .dataframe tbody tr th:only-of-type {\n        vertical-align: middle;\n    }\n\n    .dataframe tbody tr th {\n        vertical-align: top;\n    }\n\n    .dataframe thead th {\n        text-align: right;\n    }\n</style>\n<table border=\"1\" class=\"dataframe\">\n  <thead>\n    <tr style=\"text-align: right;\">\n      <th></th>\n      <th>MIP</th>\n      <th>STDIP</th>\n      <th>EKIP</th>\n      <th>SIP</th>\n      <th>MC</th>\n      <th>STDC</th>\n      <th>EKC</th>\n      <th>SC</th>\n    </tr>\n  </thead>\n  <tbody>\n    <tr>\n      <th>0</th>\n      <td>0.597969</td>\n      <td>0.249879</td>\n      <td>0.130854</td>\n      <td>0.057166</td>\n      <td>0.005402</td>\n      <td>0.051303</td>\n      <td>0.418484</td>\n      <td>0.170221</td>\n    </tr>\n    <tr>\n      <th>1</th>\n      <td>0.767428</td>\n      <td>0.214288</td>\n      <td>0.105393</td>\n      <td>0.053862</td>\n      <td>0.004073</td>\n      <td>0.054431</td>\n      <td>0.445064</td>\n      <td>0.180652</td>\n    </tr>\n    <tr>\n      <th>2</th>\n      <td>0.955465</td>\n      <td>0.207856</td>\n      <td>0.048451</td>\n      <td>0.046221</td>\n      <td>0.003611</td>\n      <td>0.046095</td>\n      <td>0.491063</td>\n      <td>0.231576</td>\n    </tr>\n    <tr>\n      <th>3</th>\n      <td>0.057470</td>\n      <td>0.154206</td>\n      <td>0.687380</td>\n      <td>0.486569</td>\n      <td>0.442514</td>\n      <td>0.532695</td>\n      <td>0.085714</td>\n      <td>0.001599</td>\n    </tr>\n    <tr>\n      <th>4</th>\n      <td>0.139422</td>\n      <td>0.092024</td>\n      <td>0.760695</td>\n      <td>0.615680</td>\n      <td>0.179061</td>\n      <td>0.502447</td>\n      <td>0.125370</td>\n      <td>0.004640</td>\n    </tr>\n  </tbody>\n</table>\n</div>"
     },
     "execution_count": 22,
     "metadata": {},
     "output_type": "execute_result"
    }
   ],
   "source": [
    "X_test = scaler.transform(X_test)\n",
    "X_test = pd.DataFrame(X_test, columns=columns)\n",
    "X_test.head()"
   ],
   "metadata": {
    "collapsed": false,
    "pycharm": {
     "name": "#%%\n"
    }
   }
  },
  {
   "cell_type": "code",
   "execution_count": 23,
   "outputs": [
    {
     "name": "stdout",
     "output_type": "stream",
     "text": [
      "sample mean for column  from the training sample (after normalization): 0.256\n"
     ]
    }
   ],
   "source": [
    "print(f'sample mean for column  from the training sample (after normalization): {round(X_train.STDIP.mean(), 3)}')"
   ],
   "metadata": {
    "collapsed": false,
    "pycharm": {
     "name": "#%%\n"
    }
   }
  },
  {
   "cell_type": "code",
   "execution_count": 25,
   "outputs": [
    {
     "data": {
      "text/plain": "LogisticRegression()",
      "text/html": "<style>#sk-container-id-1 {color: black;}#sk-container-id-1 pre{padding: 0;}#sk-container-id-1 div.sk-toggleable {background-color: white;}#sk-container-id-1 label.sk-toggleable__label {cursor: pointer;display: block;width: 100%;margin-bottom: 0;padding: 0.3em;box-sizing: border-box;text-align: center;}#sk-container-id-1 label.sk-toggleable__label-arrow:before {content: \"▸\";float: left;margin-right: 0.25em;color: #696969;}#sk-container-id-1 label.sk-toggleable__label-arrow:hover:before {color: black;}#sk-container-id-1 div.sk-estimator:hover label.sk-toggleable__label-arrow:before {color: black;}#sk-container-id-1 div.sk-toggleable__content {max-height: 0;max-width: 0;overflow: hidden;text-align: left;background-color: #f0f8ff;}#sk-container-id-1 div.sk-toggleable__content pre {margin: 0.2em;color: black;border-radius: 0.25em;background-color: #f0f8ff;}#sk-container-id-1 input.sk-toggleable__control:checked~div.sk-toggleable__content {max-height: 200px;max-width: 100%;overflow: auto;}#sk-container-id-1 input.sk-toggleable__control:checked~label.sk-toggleable__label-arrow:before {content: \"▾\";}#sk-container-id-1 div.sk-estimator input.sk-toggleable__control:checked~label.sk-toggleable__label {background-color: #d4ebff;}#sk-container-id-1 div.sk-label input.sk-toggleable__control:checked~label.sk-toggleable__label {background-color: #d4ebff;}#sk-container-id-1 input.sk-hidden--visually {border: 0;clip: rect(1px 1px 1px 1px);clip: rect(1px, 1px, 1px, 1px);height: 1px;margin: -1px;overflow: hidden;padding: 0;position: absolute;width: 1px;}#sk-container-id-1 div.sk-estimator {font-family: monospace;background-color: #f0f8ff;border: 1px dotted black;border-radius: 0.25em;box-sizing: border-box;margin-bottom: 0.5em;}#sk-container-id-1 div.sk-estimator:hover {background-color: #d4ebff;}#sk-container-id-1 div.sk-parallel-item::after {content: \"\";width: 100%;border-bottom: 1px solid gray;flex-grow: 1;}#sk-container-id-1 div.sk-label:hover label.sk-toggleable__label {background-color: #d4ebff;}#sk-container-id-1 div.sk-serial::before {content: \"\";position: absolute;border-left: 1px solid gray;box-sizing: border-box;top: 0;bottom: 0;left: 50%;z-index: 0;}#sk-container-id-1 div.sk-serial {display: flex;flex-direction: column;align-items: center;background-color: white;padding-right: 0.2em;padding-left: 0.2em;position: relative;}#sk-container-id-1 div.sk-item {position: relative;z-index: 1;}#sk-container-id-1 div.sk-parallel {display: flex;align-items: stretch;justify-content: center;background-color: white;position: relative;}#sk-container-id-1 div.sk-item::before, #sk-container-id-1 div.sk-parallel-item::before {content: \"\";position: absolute;border-left: 1px solid gray;box-sizing: border-box;top: 0;bottom: 0;left: 50%;z-index: -1;}#sk-container-id-1 div.sk-parallel-item {display: flex;flex-direction: column;z-index: 1;position: relative;background-color: white;}#sk-container-id-1 div.sk-parallel-item:first-child::after {align-self: flex-end;width: 50%;}#sk-container-id-1 div.sk-parallel-item:last-child::after {align-self: flex-start;width: 50%;}#sk-container-id-1 div.sk-parallel-item:only-child::after {width: 0;}#sk-container-id-1 div.sk-dashed-wrapped {border: 1px dashed gray;margin: 0 0.4em 0.5em 0.4em;box-sizing: border-box;padding-bottom: 0.4em;background-color: white;}#sk-container-id-1 div.sk-label label {font-family: monospace;font-weight: bold;display: inline-block;line-height: 1.2em;}#sk-container-id-1 div.sk-label-container {text-align: center;}#sk-container-id-1 div.sk-container {/* jupyter's `normalize.less` sets `[hidden] { display: none; }` but bootstrap.min.css set `[hidden] { display: none !important; }` so we also need the `!important` here to be able to override the default hidden behavior on the sphinx rendered scikit-learn.org. See: https://github.com/scikit-learn/scikit-learn/issues/21755 */display: inline-block !important;position: relative;}#sk-container-id-1 div.sk-text-repr-fallback {display: none;}</style><div id=\"sk-container-id-1\" class=\"sk-top-container\"><div class=\"sk-text-repr-fallback\"><pre>LogisticRegression()</pre><b>In a Jupyter environment, please rerun this cell to show the HTML representation or trust the notebook. <br />On GitHub, the HTML representation is unable to render, please try loading this page with nbviewer.org.</b></div><div class=\"sk-container\" hidden><div class=\"sk-item\"><div class=\"sk-estimator sk-toggleable\"><input class=\"sk-toggleable__control sk-hidden--visually\" id=\"sk-estimator-id-1\" type=\"checkbox\" checked><label for=\"sk-estimator-id-1\" class=\"sk-toggleable__label sk-toggleable__label-arrow\">LogisticRegression</label><div class=\"sk-toggleable__content\"><pre>LogisticRegression()</pre></div></div></div></div></div>"
     },
     "execution_count": 25,
     "metadata": {},
     "output_type": "execute_result"
    }
   ],
   "source": [
    "model_LGR = LogisticRegression()\n",
    "model_LGR.fit(X_train, y_train)"
   ],
   "metadata": {
    "collapsed": false,
    "pycharm": {
     "name": "#%%\n"
    }
   }
  },
  {
   "cell_type": "code",
   "execution_count": 28,
   "outputs": [
    {
     "data": {
      "text/plain": "array([[539,  18],\n       [ 41, 246]])"
     },
     "execution_count": 28,
     "metadata": {},
     "output_type": "execute_result"
    }
   ],
   "source": [
    "pred = model_LGR.predict(X_test)\n",
    "confusion_matrix(y_test, pred)"
   ],
   "metadata": {
    "collapsed": false,
    "pycharm": {
     "name": "#%%\n"
    }
   }
  },
  {
   "cell_type": "code",
   "execution_count": 29,
   "outputs": [
    {
     "name": "stdout",
     "output_type": "stream",
     "text": [
      "f1-score: 0.893\n"
     ]
    }
   ],
   "source": [
    "print(f'f1-score: {round(f1_score(y_test, pred), 3)}')"
   ],
   "metadata": {
    "collapsed": false,
    "pycharm": {
     "name": "#%%\n"
    }
   }
  },
  {
   "cell_type": "code",
   "execution_count": 35,
   "outputs": [
    {
     "data": {
      "text/plain": "KNeighborsClassifier(n_neighbors=3)",
      "text/html": "<style>#sk-container-id-2 {color: black;}#sk-container-id-2 pre{padding: 0;}#sk-container-id-2 div.sk-toggleable {background-color: white;}#sk-container-id-2 label.sk-toggleable__label {cursor: pointer;display: block;width: 100%;margin-bottom: 0;padding: 0.3em;box-sizing: border-box;text-align: center;}#sk-container-id-2 label.sk-toggleable__label-arrow:before {content: \"▸\";float: left;margin-right: 0.25em;color: #696969;}#sk-container-id-2 label.sk-toggleable__label-arrow:hover:before {color: black;}#sk-container-id-2 div.sk-estimator:hover label.sk-toggleable__label-arrow:before {color: black;}#sk-container-id-2 div.sk-toggleable__content {max-height: 0;max-width: 0;overflow: hidden;text-align: left;background-color: #f0f8ff;}#sk-container-id-2 div.sk-toggleable__content pre {margin: 0.2em;color: black;border-radius: 0.25em;background-color: #f0f8ff;}#sk-container-id-2 input.sk-toggleable__control:checked~div.sk-toggleable__content {max-height: 200px;max-width: 100%;overflow: auto;}#sk-container-id-2 input.sk-toggleable__control:checked~label.sk-toggleable__label-arrow:before {content: \"▾\";}#sk-container-id-2 div.sk-estimator input.sk-toggleable__control:checked~label.sk-toggleable__label {background-color: #d4ebff;}#sk-container-id-2 div.sk-label input.sk-toggleable__control:checked~label.sk-toggleable__label {background-color: #d4ebff;}#sk-container-id-2 input.sk-hidden--visually {border: 0;clip: rect(1px 1px 1px 1px);clip: rect(1px, 1px, 1px, 1px);height: 1px;margin: -1px;overflow: hidden;padding: 0;position: absolute;width: 1px;}#sk-container-id-2 div.sk-estimator {font-family: monospace;background-color: #f0f8ff;border: 1px dotted black;border-radius: 0.25em;box-sizing: border-box;margin-bottom: 0.5em;}#sk-container-id-2 div.sk-estimator:hover {background-color: #d4ebff;}#sk-container-id-2 div.sk-parallel-item::after {content: \"\";width: 100%;border-bottom: 1px solid gray;flex-grow: 1;}#sk-container-id-2 div.sk-label:hover label.sk-toggleable__label {background-color: #d4ebff;}#sk-container-id-2 div.sk-serial::before {content: \"\";position: absolute;border-left: 1px solid gray;box-sizing: border-box;top: 0;bottom: 0;left: 50%;z-index: 0;}#sk-container-id-2 div.sk-serial {display: flex;flex-direction: column;align-items: center;background-color: white;padding-right: 0.2em;padding-left: 0.2em;position: relative;}#sk-container-id-2 div.sk-item {position: relative;z-index: 1;}#sk-container-id-2 div.sk-parallel {display: flex;align-items: stretch;justify-content: center;background-color: white;position: relative;}#sk-container-id-2 div.sk-item::before, #sk-container-id-2 div.sk-parallel-item::before {content: \"\";position: absolute;border-left: 1px solid gray;box-sizing: border-box;top: 0;bottom: 0;left: 50%;z-index: -1;}#sk-container-id-2 div.sk-parallel-item {display: flex;flex-direction: column;z-index: 1;position: relative;background-color: white;}#sk-container-id-2 div.sk-parallel-item:first-child::after {align-self: flex-end;width: 50%;}#sk-container-id-2 div.sk-parallel-item:last-child::after {align-self: flex-start;width: 50%;}#sk-container-id-2 div.sk-parallel-item:only-child::after {width: 0;}#sk-container-id-2 div.sk-dashed-wrapped {border: 1px dashed gray;margin: 0 0.4em 0.5em 0.4em;box-sizing: border-box;padding-bottom: 0.4em;background-color: white;}#sk-container-id-2 div.sk-label label {font-family: monospace;font-weight: bold;display: inline-block;line-height: 1.2em;}#sk-container-id-2 div.sk-label-container {text-align: center;}#sk-container-id-2 div.sk-container {/* jupyter's `normalize.less` sets `[hidden] { display: none; }` but bootstrap.min.css set `[hidden] { display: none !important; }` so we also need the `!important` here to be able to override the default hidden behavior on the sphinx rendered scikit-learn.org. See: https://github.com/scikit-learn/scikit-learn/issues/21755 */display: inline-block !important;position: relative;}#sk-container-id-2 div.sk-text-repr-fallback {display: none;}</style><div id=\"sk-container-id-2\" class=\"sk-top-container\"><div class=\"sk-text-repr-fallback\"><pre>KNeighborsClassifier(n_neighbors=3)</pre><b>In a Jupyter environment, please rerun this cell to show the HTML representation or trust the notebook. <br />On GitHub, the HTML representation is unable to render, please try loading this page with nbviewer.org.</b></div><div class=\"sk-container\" hidden><div class=\"sk-item\"><div class=\"sk-estimator sk-toggleable\"><input class=\"sk-toggleable__control sk-hidden--visually\" id=\"sk-estimator-id-2\" type=\"checkbox\" checked><label for=\"sk-estimator-id-2\" class=\"sk-toggleable__label sk-toggleable__label-arrow\">KNeighborsClassifier</label><div class=\"sk-toggleable__content\"><pre>KNeighborsClassifier(n_neighbors=3)</pre></div></div></div></div></div>"
     },
     "execution_count": 35,
     "metadata": {},
     "output_type": "execute_result"
    }
   ],
   "source": [
    "knn = KNeighborsClassifier(n_neighbors=3)\n",
    "knn.fit(X_train, y_train)"
   ],
   "metadata": {
    "collapsed": false,
    "pycharm": {
     "name": "#%%\n"
    }
   }
  },
  {
   "cell_type": "code",
   "execution_count": 36,
   "outputs": [
    {
     "data": {
      "text/plain": "array([[540,  17],\n       [ 29, 258]])"
     },
     "execution_count": 36,
     "metadata": {},
     "output_type": "execute_result"
    }
   ],
   "source": [
    "pred = knn.predict(X_test)\n",
    "confusion_matrix(y_test, pred)"
   ],
   "metadata": {
    "collapsed": false,
    "pycharm": {
     "name": "#%%\n"
    }
   }
  },
  {
   "cell_type": "code",
   "execution_count": 37,
   "outputs": [
    {
     "name": "stdout",
     "output_type": "stream",
     "text": [
      "f1-score: 0.918\n"
     ]
    }
   ],
   "source": [
    "print(f'f1-score: {round(f1_score(y_test, pred), 3)}')"
   ],
   "metadata": {
    "collapsed": false,
    "pycharm": {
     "name": "#%%\n"
    }
   }
  },
  {
   "cell_type": "code",
   "execution_count": null,
   "outputs": [],
   "source": [],
   "metadata": {
    "collapsed": false,
    "pycharm": {
     "name": "#%%\n"
    }
   }
  }
 ],
 "metadata": {
  "kernelspec": {
   "display_name": "Python 3",
   "language": "python",
   "name": "python3"
  },
  "language_info": {
   "codemirror_mode": {
    "name": "ipython",
    "version": 2
   },
   "file_extension": ".py",
   "mimetype": "text/x-python",
   "name": "python",
   "nbconvert_exporter": "python",
   "pygments_lexer": "ipython2",
   "version": "2.7.6"
  }
 },
 "nbformat": 4,
 "nbformat_minor": 0
}