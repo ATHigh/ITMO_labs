{
 "cells": [
  {
   "cell_type": "markdown",
   "metadata": {
    "id": "WBsRp9afwB_k"
   },
   "source": [
    "# Classification using decision trees"
   ]
  },
  {
   "cell_type": "markdown",
   "metadata": {
    "id": "tAHDw8MfwMCs"
   },
   "source": [
    "# Dataset description"
   ]
  },
  {
   "cell_type": "markdown",
   "metadata": {
    "id": "xIaqzMrkMZq6"
   },
   "source": [
    "In this assignment, we will look at decision trees for the classification problem, and talk about how to deal with unbalanced datasets."
   ]
  },
  {
   "cell_type": "markdown",
   "metadata": {
    "id": "C_ayFAKDMjPs"
   },
   "source": [
    "The provided dataset contains information about accepted offers on loans in **Thera-Bank**. The main customers of the bank use the bank to deposit their money in it, i.e. they are depositors. At the same time, the big profit to the bank are the creditors - people who take a loan from the bank. Therefore, the bank wants to form favorable loan offers for its depositors. The bank's campaign for depositors last year showed that the conversion rate was more than 9,6%.\n",
    "\n",
    "This prompted the marketing department to develop campaigns with improved target marketing to increase the probability of success with, of course, a minimal budget. The department would like to develop a classifier to help them identify potential customers who are more likely to purchase a loan. This would increase the probability of success while reducing the cost of the campaign."
   ]
  },
  {
   "cell_type": "markdown",
   "metadata": {
    "id": "o7DY-rDVOGoE"
   },
   "source": [
    "The dataset contains both customer information and information about their response to the previous year's campaign:\n",
    "\n",
    "*   **ID**: client ID\n",
    "\n",
    "*   **Age**: Age\n",
    "\n",
    "*   **Experience**: Work experience\n",
    "\n",
    "*   **Income**: Annual income (in thousands)\n",
    "\n",
    "*   **ZIP Code**: Residence index\n",
    "\n",
    "*   **Family**: Family size\n",
    "\n",
    "*   **CCAvg**: Average credit card spending per month (in thousands)\n",
    "\n",
    "*   **Education**: Level of education (1: Bachelor's degree, 2: Master's degree, 3: something more)\n",
    "\n",
    "*   **Mortgage**: Value of mortgage, if any (in thousands)\n",
    "\n",
    "*   **Securities Account**: Existence of a securities account\n",
    "\n",
    "*   **CD Account**: Existence of a certificate of deposit\n",
    "\n",
    "*   **Online**: Whether the client uses internet banking\n",
    "\n",
    "*   **CreditCard**: Whether the client uses a credit card issued by this bank\n",
    "\n",
    "*   **Personal Loan**: Whether the client has accepted a personalized loan offer (target feature)"
   ]
  },
  {
   "cell_type": "markdown",
   "metadata": {
    "id": "npoTXkLETgmH"
   },
   "source": [
    "# Exploratory data analysis"
   ]
  },
  {
   "cell_type": "markdown",
   "metadata": {
    "id": "8JD_Js7sBDX9"
   },
   "source": [
    "Read the dataset into a dataframe"
   ]
  },
  {
   "cell_type": "code",
   "execution_count": 18,
   "metadata": {
    "id": "N-EaF0UkMM--"
   },
   "outputs": [
    {
     "data": {
      "text/plain": "     ID  Age  Experience  Income  ZIP Code  Family  CCAvg  Education  \\\n0   409   60          36      89     91745       2    2.8          1   \n1  3738   44          19      30     91423       1    0.5          3   \n2  3890   26           0      19     93014       1    0.1          2   \n3   569   34           9      41     92101       2    0.1          1   \n4  1042   56          32      51     92780       4    1.5          1   \n\n   Mortgage  Personal Loan  Securities Account  CD Account  Online  CreditCard  \n0         0              0                   0           0       1           0  \n1         0              0                   0           0       1           0  \n2       121              0                   0           0       1           0  \n3       161              0                   0           0       1           1  \n4         0              0                   0           0       0           0  ",
      "text/html": "<div>\n<style scoped>\n    .dataframe tbody tr th:only-of-type {\n        vertical-align: middle;\n    }\n\n    .dataframe tbody tr th {\n        vertical-align: top;\n    }\n\n    .dataframe thead th {\n        text-align: right;\n    }\n</style>\n<table border=\"1\" class=\"dataframe\">\n  <thead>\n    <tr style=\"text-align: right;\">\n      <th></th>\n      <th>ID</th>\n      <th>Age</th>\n      <th>Experience</th>\n      <th>Income</th>\n      <th>ZIP Code</th>\n      <th>Family</th>\n      <th>CCAvg</th>\n      <th>Education</th>\n      <th>Mortgage</th>\n      <th>Personal Loan</th>\n      <th>Securities Account</th>\n      <th>CD Account</th>\n      <th>Online</th>\n      <th>CreditCard</th>\n    </tr>\n  </thead>\n  <tbody>\n    <tr>\n      <th>0</th>\n      <td>409</td>\n      <td>60</td>\n      <td>36</td>\n      <td>89</td>\n      <td>91745</td>\n      <td>2</td>\n      <td>2.8</td>\n      <td>1</td>\n      <td>0</td>\n      <td>0</td>\n      <td>0</td>\n      <td>0</td>\n      <td>1</td>\n      <td>0</td>\n    </tr>\n    <tr>\n      <th>1</th>\n      <td>3738</td>\n      <td>44</td>\n      <td>19</td>\n      <td>30</td>\n      <td>91423</td>\n      <td>1</td>\n      <td>0.5</td>\n      <td>3</td>\n      <td>0</td>\n      <td>0</td>\n      <td>0</td>\n      <td>0</td>\n      <td>1</td>\n      <td>0</td>\n    </tr>\n    <tr>\n      <th>2</th>\n      <td>3890</td>\n      <td>26</td>\n      <td>0</td>\n      <td>19</td>\n      <td>93014</td>\n      <td>1</td>\n      <td>0.1</td>\n      <td>2</td>\n      <td>121</td>\n      <td>0</td>\n      <td>0</td>\n      <td>0</td>\n      <td>1</td>\n      <td>0</td>\n    </tr>\n    <tr>\n      <th>3</th>\n      <td>569</td>\n      <td>34</td>\n      <td>9</td>\n      <td>41</td>\n      <td>92101</td>\n      <td>2</td>\n      <td>0.1</td>\n      <td>1</td>\n      <td>161</td>\n      <td>0</td>\n      <td>0</td>\n      <td>0</td>\n      <td>1</td>\n      <td>1</td>\n    </tr>\n    <tr>\n      <th>4</th>\n      <td>1042</td>\n      <td>56</td>\n      <td>32</td>\n      <td>51</td>\n      <td>92780</td>\n      <td>4</td>\n      <td>1.5</td>\n      <td>1</td>\n      <td>0</td>\n      <td>0</td>\n      <td>0</td>\n      <td>0</td>\n      <td>0</td>\n      <td>0</td>\n    </tr>\n  </tbody>\n</table>\n</div>"
     },
     "execution_count": 18,
     "metadata": {},
     "output_type": "execute_result"
    }
   ],
   "source": [
    "# < ENTER YOUR CODE HERE >\n",
    "import pandas as pd\n",
    "\n",
    "data = pd.read_csv('Bank_Personal_Loan_Modelling_train.csv')\n",
    "data.head()"
   ]
  },
  {
   "cell_type": "markdown",
   "metadata": {
    "id": "czPRb3i9OD3E"
   },
   "source": [
    "Use the <code>.describe()</code> method to explore the dataset \"from a bird's eye view\"."
   ]
  },
  {
   "cell_type": "code",
   "execution_count": 2,
   "metadata": {
    "id": "obERUrx2MS-_"
   },
   "outputs": [
    {
     "data": {
      "text/plain": "                ID          Age   Experience       Income      ZIP Code  \\\ncount  4000.000000  4000.000000  4000.000000  4000.000000   4000.000000   \nmean   2497.682500    45.429500    20.196250    73.479750  93156.583750   \nstd    1449.723807    11.489235    11.500143    46.321345   2197.762636   \nmin       1.000000    23.000000    -3.000000     8.000000   9307.000000   \n25%    1245.750000    35.000000    10.000000    38.000000  91941.750000   \n50%    2492.500000    45.000000    20.000000    63.000000  93407.000000   \n75%    3767.250000    55.000000    30.000000    98.000000  94608.000000   \nmax    5000.000000    67.000000    43.000000   224.000000  96651.000000   \n\n            Family        CCAvg    Education     Mortgage  Personal Loan  \\\ncount  4000.000000  4000.000000  4000.000000  4000.000000    4000.000000   \nmean      2.381750     1.921805     1.881500    55.968250       0.096000   \nstd       1.149716     1.738974     0.842102   101.054887       0.294628   \nmin       1.000000     0.000000     1.000000     0.000000       0.000000   \n25%       1.000000     0.700000     1.000000     0.000000       0.000000   \n50%       2.000000     1.500000     2.000000     0.000000       0.000000   \n75%       3.000000     2.500000     3.000000   100.000000       0.000000   \nmax       4.000000    10.000000     3.000000   635.000000       1.000000   \n\n       Securities Account   CD Account       Online  CreditCard  \ncount         4000.000000  4000.000000  4000.000000  4000.00000  \nmean             0.104000     0.061500     0.599000     0.29050  \nstd              0.305299     0.240275     0.490162     0.45405  \nmin              0.000000     0.000000     0.000000     0.00000  \n25%              0.000000     0.000000     0.000000     0.00000  \n50%              0.000000     0.000000     1.000000     0.00000  \n75%              0.000000     0.000000     1.000000     1.00000  \nmax              1.000000     1.000000     1.000000     1.00000  ",
      "text/html": "<div>\n<style scoped>\n    .dataframe tbody tr th:only-of-type {\n        vertical-align: middle;\n    }\n\n    .dataframe tbody tr th {\n        vertical-align: top;\n    }\n\n    .dataframe thead th {\n        text-align: right;\n    }\n</style>\n<table border=\"1\" class=\"dataframe\">\n  <thead>\n    <tr style=\"text-align: right;\">\n      <th></th>\n      <th>ID</th>\n      <th>Age</th>\n      <th>Experience</th>\n      <th>Income</th>\n      <th>ZIP Code</th>\n      <th>Family</th>\n      <th>CCAvg</th>\n      <th>Education</th>\n      <th>Mortgage</th>\n      <th>Personal Loan</th>\n      <th>Securities Account</th>\n      <th>CD Account</th>\n      <th>Online</th>\n      <th>CreditCard</th>\n    </tr>\n  </thead>\n  <tbody>\n    <tr>\n      <th>count</th>\n      <td>4000.000000</td>\n      <td>4000.000000</td>\n      <td>4000.000000</td>\n      <td>4000.000000</td>\n      <td>4000.000000</td>\n      <td>4000.000000</td>\n      <td>4000.000000</td>\n      <td>4000.000000</td>\n      <td>4000.000000</td>\n      <td>4000.000000</td>\n      <td>4000.000000</td>\n      <td>4000.000000</td>\n      <td>4000.000000</td>\n      <td>4000.00000</td>\n    </tr>\n    <tr>\n      <th>mean</th>\n      <td>2497.682500</td>\n      <td>45.429500</td>\n      <td>20.196250</td>\n      <td>73.479750</td>\n      <td>93156.583750</td>\n      <td>2.381750</td>\n      <td>1.921805</td>\n      <td>1.881500</td>\n      <td>55.968250</td>\n      <td>0.096000</td>\n      <td>0.104000</td>\n      <td>0.061500</td>\n      <td>0.599000</td>\n      <td>0.29050</td>\n    </tr>\n    <tr>\n      <th>std</th>\n      <td>1449.723807</td>\n      <td>11.489235</td>\n      <td>11.500143</td>\n      <td>46.321345</td>\n      <td>2197.762636</td>\n      <td>1.149716</td>\n      <td>1.738974</td>\n      <td>0.842102</td>\n      <td>101.054887</td>\n      <td>0.294628</td>\n      <td>0.305299</td>\n      <td>0.240275</td>\n      <td>0.490162</td>\n      <td>0.45405</td>\n    </tr>\n    <tr>\n      <th>min</th>\n      <td>1.000000</td>\n      <td>23.000000</td>\n      <td>-3.000000</td>\n      <td>8.000000</td>\n      <td>9307.000000</td>\n      <td>1.000000</td>\n      <td>0.000000</td>\n      <td>1.000000</td>\n      <td>0.000000</td>\n      <td>0.000000</td>\n      <td>0.000000</td>\n      <td>0.000000</td>\n      <td>0.000000</td>\n      <td>0.00000</td>\n    </tr>\n    <tr>\n      <th>25%</th>\n      <td>1245.750000</td>\n      <td>35.000000</td>\n      <td>10.000000</td>\n      <td>38.000000</td>\n      <td>91941.750000</td>\n      <td>1.000000</td>\n      <td>0.700000</td>\n      <td>1.000000</td>\n      <td>0.000000</td>\n      <td>0.000000</td>\n      <td>0.000000</td>\n      <td>0.000000</td>\n      <td>0.000000</td>\n      <td>0.00000</td>\n    </tr>\n    <tr>\n      <th>50%</th>\n      <td>2492.500000</td>\n      <td>45.000000</td>\n      <td>20.000000</td>\n      <td>63.000000</td>\n      <td>93407.000000</td>\n      <td>2.000000</td>\n      <td>1.500000</td>\n      <td>2.000000</td>\n      <td>0.000000</td>\n      <td>0.000000</td>\n      <td>0.000000</td>\n      <td>0.000000</td>\n      <td>1.000000</td>\n      <td>0.00000</td>\n    </tr>\n    <tr>\n      <th>75%</th>\n      <td>3767.250000</td>\n      <td>55.000000</td>\n      <td>30.000000</td>\n      <td>98.000000</td>\n      <td>94608.000000</td>\n      <td>3.000000</td>\n      <td>2.500000</td>\n      <td>3.000000</td>\n      <td>100.000000</td>\n      <td>0.000000</td>\n      <td>0.000000</td>\n      <td>0.000000</td>\n      <td>1.000000</td>\n      <td>1.00000</td>\n    </tr>\n    <tr>\n      <th>max</th>\n      <td>5000.000000</td>\n      <td>67.000000</td>\n      <td>43.000000</td>\n      <td>224.000000</td>\n      <td>96651.000000</td>\n      <td>4.000000</td>\n      <td>10.000000</td>\n      <td>3.000000</td>\n      <td>635.000000</td>\n      <td>1.000000</td>\n      <td>1.000000</td>\n      <td>1.000000</td>\n      <td>1.000000</td>\n      <td>1.00000</td>\n    </tr>\n  </tbody>\n</table>\n</div>"
     },
     "execution_count": 2,
     "metadata": {},
     "output_type": "execute_result"
    }
   ],
   "source": [
    "# < ENTER YOUR CODE HERE >\n",
    "\n",
    "data.describe()"
   ]
  },
  {
   "cell_type": "markdown",
   "metadata": {
    "id": "57sZel7LPRzB"
   },
   "source": [
    "The dataset contains 14 features, 1 of which is the target feature.\n",
    "\n",
    "1 nominal feature: **ID**\n",
    "\n",
    "5 numeric features: **Age**, **Experience**, **Income**, **CCAvg**, **Mortgage**\n",
    "\n",
    "3 categorical features: **Family**, **Education**, **ZIP Code**\n",
    "\n",
    "5 boolean features: **Personal Loan**, **Securities Account**, **CD Account**, **Online**, **CreditCard**\n",
    "\n",
    "There are no missing values.\n",
    "\n",
    "Experience contains some negative values."
   ]
  },
  {
   "cell_type": "markdown",
   "metadata": {
    "id": "4Wl4T4lDyKAK"
   },
   "source": [
    "Remove the ID column, we won't need it."
   ]
  },
  {
   "cell_type": "code",
   "execution_count": 19,
   "metadata": {
    "id": "B3Wj00WZQiID"
   },
   "outputs": [],
   "source": [
    "# < ENTER YOUR CODE HERE >\n",
    "data.drop(columns='ID', inplace=True)"
   ]
  },
  {
   "cell_type": "code",
   "execution_count": 4,
   "outputs": [
    {
     "name": "stdout",
     "output_type": "stream",
     "text": [
      "<class 'pandas.core.frame.DataFrame'>\n",
      "RangeIndex: 4000 entries, 0 to 3999\n",
      "Data columns (total 13 columns):\n",
      " #   Column              Non-Null Count  Dtype  \n",
      "---  ------              --------------  -----  \n",
      " 0   Age                 4000 non-null   int64  \n",
      " 1   Experience          4000 non-null   int64  \n",
      " 2   Income              4000 non-null   int64  \n",
      " 3   ZIP Code            4000 non-null   int64  \n",
      " 4   Family              4000 non-null   int64  \n",
      " 5   CCAvg               4000 non-null   float64\n",
      " 6   Education           4000 non-null   int64  \n",
      " 7   Mortgage            4000 non-null   int64  \n",
      " 8   Personal Loan       4000 non-null   int64  \n",
      " 9   Securities Account  4000 non-null   int64  \n",
      " 10  CD Account          4000 non-null   int64  \n",
      " 11  Online              4000 non-null   int64  \n",
      " 12  CreditCard          4000 non-null   int64  \n",
      "dtypes: float64(1), int64(12)\n",
      "memory usage: 406.4 KB\n"
     ]
    }
   ],
   "source": [
    "data.info()"
   ],
   "metadata": {
    "collapsed": false,
    "pycharm": {
     "name": "#%%\n"
    }
   }
  },
  {
   "cell_type": "markdown",
   "metadata": {
    "id": "8_S0yiCEQvbC"
   },
   "source": [
    "It makes sense to try to catch any correlations or lack thereof.\n",
    "\n",
    "Build a correlation matrix."
   ]
  },
  {
   "cell_type": "code",
   "execution_count": 20,
   "metadata": {
    "id": "JGrHybCnQ0q1"
   },
   "outputs": [
    {
     "data": {
      "text/plain": "<Axes: >"
     },
     "execution_count": 20,
     "metadata": {},
     "output_type": "execute_result"
    },
    {
     "data": {
      "text/plain": "<Figure size 640x480 with 2 Axes>",
      "image/png": "[encoded data removed]"
     },
     "metadata": {},
     "output_type": "display_data"
    }
   ],
   "source": [
    "# < ENTER YOUR CODE HERE >\n",
    "import seaborn as sns\n",
    "import numpy as np\n",
    "\n",
    "sns.heatmap(\n",
    "    data.corr().mask(np.abs(data.corr()) <= 0.5),\n",
    "    vmin=-1,\n",
    "    vmax=1,\n",
    "    annot=True,\n",
    "    square=False,\n",
    "    mask=np.triu(data.corr()),\n",
    "    fmt=\".1g\",\n",
    ")"
   ]
  },
  {
   "cell_type": "markdown",
   "metadata": {
    "id": "33KxJRptS_wP"
   },
   "source": [
    "Identify the two most correlated features."
   ]
  },
  {
   "cell_type": "code",
   "execution_count": 5,
   "metadata": {
    "id": "Xo1LgkW5ysoc"
   },
   "outputs": [],
   "source": [
    "# < ENTER YOUR CODE HERE >"
   ]
  },
  {
   "cell_type": "markdown",
   "metadata": {
    "id": "MIAngsDe2ppM"
   },
   "source": [
    "Identify the feature that is least correlated (almost uncorrelated) with the other features (including target). Remove this feature from consideration.\n",
    "\n",
    "Enter the name of the removed feature."
   ]
  },
  {
   "cell_type": "code",
   "execution_count": 21,
   "metadata": {
    "id": "bqOQ1cVk27fb"
   },
   "outputs": [
    {
     "name": "stdout",
     "output_type": "stream",
     "text": [
      "The feature that is least correlated with the other features is: ZIP Code\n"
     ]
    }
   ],
   "source": [
    "# < ENTER YOUR CODE HERE >\n",
    "# Calculate the absolute correlation values for each feature with respect to all other features (including the target variable)\n",
    "corr_with_target = data.drop(columns=['Personal Loan']).corrwith(data['Personal Loan']).abs()\n",
    "\n",
    "# Sum up the absolute correlation values for each feature\n",
    "corr_sum = data.drop(columns=['Personal Loan']).corr().abs().sum()\n",
    "\n",
    "# Combine the correlation values with the sum of correlations\n",
    "combined_corr = corr_with_target.add(corr_sum, fill_value=0)\n",
    "\n",
    "# Find the feature with the lowest sum of correlations\n",
    "feature_least_correlated = combined_corr.idxmin()\n",
    "\n",
    "print(\"The feature that is least correlated with the other features is:\", feature_least_correlated)\n",
    "\n",
    "# Drop the least correlated feature from the DataFrame\n",
    "data.drop(columns=[feature_least_correlated], inplace=True)"
   ]
  },
  {
   "cell_type": "markdown",
   "metadata": {
    "id": "1T2nmzIqTleQ"
   },
   "source": [
    "# Preliminary data preparation"
   ]
  },
  {
   "cell_type": "markdown",
   "metadata": {
    "id": "owfKqPFi3JRb"
   },
   "source": [
    "## Feature modification"
   ]
  },
  {
   "cell_type": "markdown",
   "metadata": {
    "id": "mKAYY8dmX2v1"
   },
   "source": [
    "It is worth dealing with the <code>Experience</code> feature. You can see that experience correlates with age. However, there are negative values in the <code>Experience</code> column. It makes sense to \"shift\" the values in this column. Add the same number to all values in the <code>Experience</code> column so that the minimum value is equal to $0$.\n",
    "\n",
    "Calculate the sample mean of the <code>Experience</code> column after transformation."
   ]
  },
  {
   "cell_type": "code",
   "execution_count": 22,
   "metadata": {
    "id": "HacXjLu6X_FU"
   },
   "outputs": [],
   "source": [
    "# < ENTER YOUR CODE HERE >\n",
    "data['Experience'] = data['Experience'] + abs(data['Experience'].min())"
   ]
  },
  {
   "cell_type": "code",
   "execution_count": 25,
   "outputs": [
    {
     "data": {
      "text/plain": "23.196"
     },
     "execution_count": 25,
     "metadata": {},
     "output_type": "execute_result"
    }
   ],
   "source": [
    "round(data['Experience'].mean(), 3)"
   ],
   "metadata": {
    "collapsed": false,
    "pycharm": {
     "name": "#%%\n"
    }
   }
  },
  {
   "cell_type": "markdown",
   "metadata": {
    "id": "0CPdKkpIb9Ko"
   },
   "source": [
    "Similarly, it makes sense to modify the <code>CCAvg</code> feature. Since the annual income is considered, the value of spending should be considered for the whole year.\n",
    "\n",
    "Calculate the sample mean of the <code>CCAvg</code> column after transformation."
   ]
  },
  {
   "cell_type": "code",
   "execution_count": 26,
   "metadata": {
    "id": "cE_wPGDeb7_J"
   },
   "outputs": [],
   "source": [
    "# < ENTER YOUR CODE HERE >\n",
    "data['CCAvg'] = data['CCAvg'] * 12"
   ]
  },
  {
   "cell_type": "code",
   "execution_count": 27,
   "outputs": [
    {
     "data": {
      "text/plain": "23.062"
     },
     "execution_count": 27,
     "metadata": {},
     "output_type": "execute_result"
    }
   ],
   "source": [
    "round(data['CCAvg'].mean(), 3)"
   ],
   "metadata": {
    "collapsed": false,
    "pycharm": {
     "name": "#%%\n"
    }
   }
  },
  {
   "cell_type": "markdown",
   "metadata": {
    "id": "sck74wTfdwXF"
   },
   "source": [
    "## Determining outliers"
   ]
  },
  {
   "cell_type": "markdown",
   "metadata": {
    "id": "_3rpqkJp3xY_"
   },
   "source": [
    "Construct boxplots for all predictors. We recommend using the <code>sns.boxplot()</code>. Identify the feature from the boxplot image in your individual assignment."
   ]
  },
  {
   "cell_type": "code",
   "execution_count": 41,
   "metadata": {
    "id": "dqDNlzX3oKbT"
   },
   "outputs": [
    {
     "data": {
      "text/plain": "<Figure size 1500x800 with 1 Axes>",
      "image/png": "[encoded data removed]"
     },
     "metadata": {},
     "output_type": "display_data"
    }
   ],
   "source": [
    "# < ENTER YOUR CODE HERE >\n",
    "import seaborn as sns\n",
    "import matplotlib.pyplot as plt\n",
    "\n",
    "# columns = data.columns\n",
    "# for col in columns:\n",
    "#     plt.figure(figsize=(10, 8))\n",
    "#     sns.boxplot(data[col])\n",
    "#     plt.grid()\n",
    "\n",
    "plt.figure(figsize=(15, 8))\n",
    "sns.boxplot(data)\n",
    "plt.grid()"
   ]
  },
  {
   "cell_type": "markdown",
   "metadata": {
    "id": "fv2fr5pLRU54"
   },
   "source": [
    "Identify the feature containing the largest number of outliers. Enter the name of the feature."
   ]
  },
  {
   "cell_type": "code",
   "execution_count": 37,
   "metadata": {
    "id": "mTJhkJZyzeoy"
   },
   "outputs": [
    {
     "name": "stdout",
     "output_type": "stream",
     "text": [
      "Mortage\n"
     ]
    }
   ],
   "source": [
    "# < ENTER YOUR CODE HERE >\n",
    "print('Mortage')"
   ]
  },
  {
   "cell_type": "markdown",
   "metadata": {
    "id": "3YYxjhcmzfFB"
   },
   "source": [
    "It makes sense to work with this feature. For this purpose, the following statistical considerations can be used. If you subtract the sample mean from the data, and then divided by the standard deviation, then, using the $68-95-99.7$ rule under the assumption of normality of distribution, we can discard the tails that are too far from zero.\n",
    "Construct a histogram of the distribution of values within this feature."
   ]
  },
  {
   "cell_type": "code",
   "execution_count": 42,
   "metadata": {
    "id": "5dHRr6YD0U5U"
   },
   "outputs": [
    {
     "data": {
      "text/plain": "<Axes: xlabel='Mortgage', ylabel='Count'>"
     },
     "execution_count": 42,
     "metadata": {},
     "output_type": "execute_result"
    },
    {
     "data": {
      "text/plain": "<Figure size 640x480 with 1 Axes>",
      "image/png": "[encoded data removed]"
     },
     "metadata": {},
     "output_type": "display_data"
    }
   ],
   "source": [
    "# < ENTER YOUR CODE HERE >\n",
    "sns.histplot(data['Mortgage'])"
   ]
  },
  {
   "cell_type": "markdown",
   "metadata": {
    "id": "A1PjJGciS0JL"
   },
   "source": [
    "Obviously, among the values of this feature there are a small number of values that lie \"far away from the trend\". We can use <a href=\"https://docs.scipy.org/doc/scipy/reference/generated/scipy.stats.zscore.html\"><code>z-score</code></a> function from the <code>scipy</code> library.\n",
    "\n",
    "Recalling the course of probability theory, it becomes clear that about $99.7\\%$ of the normal distribution will be contained in the interval $[-3\\sigma, 3\\sigma]$. Determine the number of elements whose modulus of <code>z-score</code> is greater than $3$. "
   ]
  },
  {
   "cell_type": "code",
   "execution_count": 46,
   "metadata": {
    "id": "IAqVmGrDRq7J"
   },
   "outputs": [
    {
     "name": "stdout",
     "output_type": "stream",
     "text": [
      "83\n"
     ]
    }
   ],
   "source": [
    "# < ENTER YOUR CODE HERE >\n",
    "from scipy import stats\n",
    "import numpy as np\n",
    "print(np.count_nonzero(abs(stats.zscore(data['Mortgage'])) > 3))"
   ]
  },
  {
   "cell_type": "markdown",
   "metadata": {
    "id": "tUhbuuVkmG44"
   },
   "source": [
    "So, there are not very many outliers, so they can simply be discarded from the provided dataset. Enter the remaining number of rows in the dataset."
   ]
  },
  {
   "cell_type": "code",
   "execution_count": 48,
   "metadata": {
    "id": "BWLLchbGmKyx"
   },
   "outputs": [
    {
     "name": "stdout",
     "output_type": "stream",
     "text": [
      "<class 'pandas.core.frame.DataFrame'>\n",
      "Index: 3917 entries, 0 to 3999\n",
      "Data columns (total 12 columns):\n",
      " #   Column              Non-Null Count  Dtype  \n",
      "---  ------              --------------  -----  \n",
      " 0   Age                 3917 non-null   int64  \n",
      " 1   Experience          3917 non-null   int64  \n",
      " 2   Income              3917 non-null   int64  \n",
      " 3   Family              3917 non-null   int64  \n",
      " 4   CCAvg               3917 non-null   float64\n",
      " 5   Education           3917 non-null   int64  \n",
      " 6   Mortgage            3917 non-null   int64  \n",
      " 7   Personal Loan       3917 non-null   int64  \n",
      " 8   Securities Account  3917 non-null   int64  \n",
      " 9   CD Account          3917 non-null   int64  \n",
      " 10  Online              3917 non-null   int64  \n",
      " 11  CreditCard          3917 non-null   int64  \n",
      "dtypes: float64(1), int64(11)\n",
      "memory usage: 397.8 KB\n"
     ]
    }
   ],
   "source": [
    "# < ENTER YOUR CODE HERE >\n",
    "data_discarded = data[abs(stats.zscore(data['Mortgage'])) <= 3]\n",
    "data_discarded.info()"
   ]
  },
  {
   "cell_type": "markdown",
   "metadata": {
    "id": "hMJ3LQA62_z7"
   },
   "source": [
    "# Model building"
   ]
  },
  {
   "cell_type": "markdown",
   "metadata": {
    "id": "YraRCGS33aCP"
   },
   "source": [
    "# Basic algorithm"
   ]
  },
  {
   "cell_type": "markdown",
   "metadata": {
    "id": "-tN2AKL6myfS"
   },
   "source": [
    "Use <code>train_test_split</code> to split the dataset into training and test samples with the parameters from your individual assignment."
   ]
  },
  {
   "cell_type": "code",
   "execution_count": 49,
   "metadata": {
    "id": "y1YG3JZ9oDMI"
   },
   "outputs": [],
   "source": [
    "# < ENTER YOUR CODE HERE >\n",
    "from sklearn.model_selection import train_test_split\n",
    "\n",
    "X = data_discarded.drop(['Personal Loan'], axis = 1)\n",
    "y = data_discarded['Personal Loan']\n",
    "\n",
    "X_train, X_test, y_train, y_test = train_test_split(X, y, test_size = 0.2, random_state = 21,\n",
    "                                                    stratify = y)"
   ]
  },
  {
   "cell_type": "markdown",
   "metadata": {
    "id": "0NyWOkh13iNC"
   },
   "source": [
    "Train the <code>DecisionTreeClassifier</code> model on the training dataset with the parameters from your individual assignment. Compute <code>f1_score</code> of the model on test dataset."
   ]
  },
  {
   "cell_type": "code",
   "execution_count": 50,
   "metadata": {
    "id": "BJNg02bbaJj2"
   },
   "outputs": [
    {
     "data": {
      "text/plain": "DecisionTreeClassifier(random_state=21)",
      "text/html": "<style>#sk-container-id-1 {color: black;}#sk-container-id-1 pre{padding: 0;}#sk-container-id-1 div.sk-toggleable {background-color: white;}#sk-container-id-1 label.sk-toggleable__label {cursor: pointer;display: block;width: 100%;margin-bottom: 0;padding: 0.3em;box-sizing: border-box;text-align: center;}#sk-container-id-1 label.sk-toggleable__label-arrow:before {content: \"▸\";float: left;margin-right: 0.25em;color: #696969;}#sk-container-id-1 label.sk-toggleable__label-arrow:hover:before {color: black;}#sk-container-id-1 div.sk-estimator:hover label.sk-toggleable__label-arrow:before {color: black;}#sk-container-id-1 div.sk-toggleable__content {max-height: 0;max-width: 0;overflow: hidden;text-align: left;background-color: #f0f8ff;}#sk-container-id-1 div.sk-toggleable__content pre {margin: 0.2em;color: black;border-radius: 0.25em;background-color: #f0f8ff;}#sk-container-id-1 input.sk-toggleable__control:checked~div.sk-toggleable__content {max-height: 200px;max-width: 100%;overflow: auto;}#sk-container-id-1 input.sk-toggleable__control:checked~label.sk-toggleable__label-arrow:before {content: \"▾\";}#sk-container-id-1 div.sk-estimator input.sk-toggleable__control:checked~label.sk-toggleable__label {background-color: #d4ebff;}#sk-container-id-1 div.sk-label input.sk-toggleable__control:checked~label.sk-toggleable__label {background-color: #d4ebff;}#sk-container-id-1 input.sk-hidden--visually {border: 0;clip: rect(1px 1px 1px 1px);clip: rect(1px, 1px, 1px, 1px);height: 1px;margin: -1px;overflow: hidden;padding: 0;position: absolute;width: 1px;}#sk-container-id-1 div.sk-estimator {font-family: monospace;background-color: #f0f8ff;border: 1px dotted black;border-radius: 0.25em;box-sizing: border-box;margin-bottom: 0.5em;}#sk-container-id-1 div.sk-estimator:hover {background-color: #d4ebff;}#sk-container-id-1 div.sk-parallel-item::after {content: \"\";width: 100%;border-bottom: 1px solid gray;flex-grow: 1;}#sk-container-id-1 div.sk-label:hover label.sk-toggleable__label {background-color: #d4ebff;}#sk-container-id-1 div.sk-serial::before {content: \"\";position: absolute;border-left: 1px solid gray;box-sizing: border-box;top: 0;bottom: 0;left: 50%;z-index: 0;}#sk-container-id-1 div.sk-serial {display: flex;flex-direction: column;align-items: center;background-color: white;padding-right: 0.2em;padding-left: 0.2em;position: relative;}#sk-container-id-1 div.sk-item {position: relative;z-index: 1;}#sk-container-id-1 div.sk-parallel {display: flex;align-items: stretch;justify-content: center;background-color: white;position: relative;}#sk-container-id-1 div.sk-item::before, #sk-container-id-1 div.sk-parallel-item::before {content: \"\";position: absolute;border-left: 1px solid gray;box-sizing: border-box;top: 0;bottom: 0;left: 50%;z-index: -1;}#sk-container-id-1 div.sk-parallel-item {display: flex;flex-direction: column;z-index: 1;position: relative;background-color: white;}#sk-container-id-1 div.sk-parallel-item:first-child::after {align-self: flex-end;width: 50%;}#sk-container-id-1 div.sk-parallel-item:last-child::after {align-self: flex-start;width: 50%;}#sk-container-id-1 div.sk-parallel-item:only-child::after {width: 0;}#sk-container-id-1 div.sk-dashed-wrapped {border: 1px dashed gray;margin: 0 0.4em 0.5em 0.4em;box-sizing: border-box;padding-bottom: 0.4em;background-color: white;}#sk-container-id-1 div.sk-label label {font-family: monospace;font-weight: bold;display: inline-block;line-height: 1.2em;}#sk-container-id-1 div.sk-label-container {text-align: center;}#sk-container-id-1 div.sk-container {/* jupyter's `normalize.less` sets `[hidden] { display: none; }` but bootstrap.min.css set `[hidden] { display: none !important; }` so we also need the `!important` here to be able to override the default hidden behavior on the sphinx rendered scikit-learn.org. See: https://github.com/scikit-learn/scikit-learn/issues/21755 */display: inline-block !important;position: relative;}#sk-container-id-1 div.sk-text-repr-fallback {display: none;}</style><div id=\"sk-container-id-1\" class=\"sk-top-container\"><div class=\"sk-text-repr-fallback\"><pre>DecisionTreeClassifier(random_state=21)</pre><b>In a Jupyter environment, please rerun this cell to show the HTML representation or trust the notebook. <br />On GitHub, the HTML representation is unable to render, please try loading this page with nbviewer.org.</b></div><div class=\"sk-container\" hidden><div class=\"sk-item\"><div class=\"sk-estimator sk-toggleable\"><input class=\"sk-toggleable__control sk-hidden--visually\" id=\"sk-estimator-id-1\" type=\"checkbox\" checked><label for=\"sk-estimator-id-1\" class=\"sk-toggleable__label sk-toggleable__label-arrow\">DecisionTreeClassifier</label><div class=\"sk-toggleable__content\"><pre>DecisionTreeClassifier(random_state=21)</pre></div></div></div></div></div>"
     },
     "execution_count": 50,
     "metadata": {},
     "output_type": "execute_result"
    }
   ],
   "source": [
    "# < ENTER YOUR CODE HERE >\n",
    "from sklearn.tree import DecisionTreeClassifier\n",
    "\n",
    "dtc = DecisionTreeClassifier(random_state=21, criterion='gini')\n",
    "\n",
    "dtc.fit(X_train, y_train)"
   ]
  },
  {
   "cell_type": "code",
   "execution_count": 51,
   "outputs": [
    {
     "data": {
      "text/plain": "0.899"
     },
     "execution_count": 51,
     "metadata": {},
     "output_type": "execute_result"
    }
   ],
   "source": [
    "from sklearn.metrics import f1_score\n",
    "\n",
    "round(f1_score(y_test, dtc.predict(X_test)),3)"
   ],
   "metadata": {
    "collapsed": false,
    "pycharm": {
     "name": "#%%\n"
    }
   }
  },
  {
   "cell_type": "code",
   "execution_count": 53,
   "outputs": [
    {
     "data": {
      "text/plain": "0.882"
     },
     "execution_count": 53,
     "metadata": {},
     "output_type": "execute_result"
    }
   ],
   "source": [
    "dtc_ent = DecisionTreeClassifier(random_state=21, criterion='entropy')\n",
    "\n",
    "dtc_ent.fit(X_train, y_train)\n",
    "round(f1_score(y_test, dtc_ent.predict(X_test)),3)"
   ],
   "metadata": {
    "collapsed": false,
    "pycharm": {
     "name": "#%%\n"
    }
   }
  },
  {
   "cell_type": "markdown",
   "metadata": {
    "id": "nz9iFfBK4KhL"
   },
   "source": [
    "## Consideration of class ratio imbalance"
   ]
  },
  {
   "cell_type": "markdown",
   "metadata": {
    "id": "3x7OGwQwa8V6"
   },
   "source": [
    "And now, if we remember that the dataset is unbalanced, we can specify an additional parameter <code>class_weight</code>. Train the <code>DecisionTreeClassifier</code> model on the training dataset with the parameters from your individual assignment. Compute <code>f1_score</code> of the model on test dataset."
   ]
  },
  {
   "cell_type": "code",
   "execution_count": 54,
   "metadata": {
    "id": "gug5fOXAbMC6"
   },
   "outputs": [
    {
     "data": {
      "text/plain": "0.906"
     },
     "execution_count": 54,
     "metadata": {},
     "output_type": "execute_result"
    }
   ],
   "source": [
    "# < ENTER YOUR CODE HERE >\n",
    "dtc_balanced = DecisionTreeClassifier(random_state=21, criterion='gini', class_weight='balanced')\n",
    "\n",
    "dtc_balanced.fit(X_train, y_train)\n",
    "round(f1_score(y_test, dtc_balanced.predict(X_test)),3)"
   ]
  },
  {
   "cell_type": "code",
   "execution_count": 55,
   "outputs": [
    {
     "data": {
      "text/plain": "0.891"
     },
     "execution_count": 55,
     "metadata": {},
     "output_type": "execute_result"
    }
   ],
   "source": [
    "dtc_ent_balanced = DecisionTreeClassifier(random_state=21, criterion='entropy', class_weight='balanced')\n",
    "\n",
    "dtc_ent_balanced.fit(X_train, y_train)\n",
    "round(f1_score(y_test, dtc_ent_balanced.predict(X_test)),3)"
   ],
   "metadata": {
    "collapsed": false,
    "pycharm": {
     "name": "#%%\n"
    }
   }
  },
  {
   "cell_type": "markdown",
   "metadata": {
    "id": "8UgBmYo44pDE"
   },
   "source": [
    "## Upsampling of training dataset"
   ]
  },
  {
   "cell_type": "markdown",
   "metadata": {
    "id": "r5SQS_D0baaQ"
   },
   "source": [
    "In addition to the obvious assignment of weights to unbalanced classes, we can use the algorithm <code>SMOTE</code>. It receives instances of all classes with their labels as input, and in turn tries to extrapolate the data distribution of that class itself based on them. It then samples new class objects until the number of objects of each class is the same.\n",
    "\n",
    "It turns out that in this case a balanced sample will be obtained, and there will be no need to fiddle with weights and so on. \n",
    "\n",
    "Determine the proportion of elements of class $0$ of the training dataset."
   ]
  },
  {
   "cell_type": "code",
   "execution_count": 59,
   "metadata": {
    "id": "nOv98H3_ei8Z"
   },
   "outputs": [
    {
     "data": {
      "text/plain": "Personal Loan\n0    0.911\n1    0.089\nName: proportion, dtype: float64"
     },
     "execution_count": 59,
     "metadata": {},
     "output_type": "execute_result"
    }
   ],
   "source": [
    "# < ENTER YOUR CODE HERE >\n",
    "round(y_train.value_counts(normalize = True), 3)"
   ]
  },
  {
   "cell_type": "markdown",
   "metadata": {
    "id": "DUrm8j5R6-dq"
   },
   "source": [
    "Using the <a href=\"https://imbalanced-learn.org/stable/references/generated/imblearn.over_sampling.SMOTE.html\"><code>SMOTE</code></a> class from the <code>imblearn.over_sampling</code> module, balance the training dataset with the parameters from your individual assignment."
   ]
  },
  {
   "cell_type": "code",
   "execution_count": 60,
   "metadata": {
    "id": "YWr1Mll1eYcd"
   },
   "outputs": [],
   "source": [
    "# < ENTER YOUR CODE HERE >\n",
    "from imblearn.over_sampling import SMOTE\n",
    "\n",
    "sm = SMOTE(random_state=21)\n",
    "X_res, y_res = sm.fit_resample(X_train, y_train)"
   ]
  },
  {
   "cell_type": "markdown",
   "metadata": {
    "id": "4xd6pDvt9Yxj"
   },
   "source": [
    "Make sure that the dataset now contains the same number of representatives of both classes.\n",
    "\n",
    "Enter the number of objects of class $1$ of the training dataset after the upsampling."
   ]
  },
  {
   "cell_type": "code",
   "execution_count": 62,
   "metadata": {
    "id": "lASmMyIee9FB"
   },
   "outputs": [
    {
     "data": {
      "text/plain": "Personal Loan\n0    2855\n1    2855\nName: count, dtype: int64"
     },
     "execution_count": 62,
     "metadata": {},
     "output_type": "execute_result"
    }
   ],
   "source": [
    "# < ENTER YOUR CODE HERE >\n",
    "round(y_res.value_counts(), 3)"
   ]
  },
  {
   "cell_type": "markdown",
   "metadata": {
    "id": "-7M3ua0zfCl5"
   },
   "source": [
    "Re-train the <code>DecisionTreeClassifier</code> model on the training dataset with the parameters from your individual assignment. Compute <code>f1_score</code> of the model on test dataset."
   ]
  },
  {
   "cell_type": "code",
   "execution_count": 76,
   "metadata": {
    "id": "3J1YZg6ufFxo"
   },
   "outputs": [
    {
     "name": "stdout",
     "output_type": "stream",
     "text": [
      "F1 for DT with Gini - 0.803\n",
      "F1 for DT with Entropy - 0.789\n"
     ]
    }
   ],
   "source": [
    "# < ENTER YOUR CODE HERE >\n",
    "dtc = DecisionTreeClassifier(random_state=21, criterion='gini')\n",
    "dtc_ent = DecisionTreeClassifier(random_state=21, criterion='entropy')\n",
    "\n",
    "dtc.fit(X_res, y_res)\n",
    "dtc_ent.fit(X_res, y_res)\n",
    "\n",
    "print(f'F1 for DT with Gini - {round(f1_score(y_test, dtc.predict(X_test)),3)}\\n'\\\n",
    "      f'F1 for DT with Entropy - {round(f1_score(y_test, dtc_ent.predict(X_test)),3)}')"
   ]
  },
  {
   "cell_type": "code",
   "execution_count": null,
   "outputs": [],
   "source": [],
   "metadata": {
    "collapsed": false,
    "pycharm": {
     "name": "#%%\n"
    }
   }
  }
 ],
 "metadata": {
  "colab": {
   "provenance": []
  },
  "kernelspec": {
   "display_name": "Python 3 (ipykernel)",
   "language": "python",
   "name": "python3"
  },
  "language_info": {
   "codemirror_mode": {
    "name": "ipython",
    "version": 3
   },
   "file_extension": ".py",
   "mimetype": "text/x-python",
   "name": "python",
   "nbconvert_exporter": "python",
   "pygments_lexer": "ipython3",
   "version": "3.8.10"
  }
 },
 "nbformat": 4,
 "nbformat_minor": 1
}